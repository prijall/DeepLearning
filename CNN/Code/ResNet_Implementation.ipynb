{
  "nbformat": 4,
  "nbformat_minor": 0,
  "metadata": {
    "colab": {
      "provenance": [],
      "authorship_tag": "ABX9TyM3HjMvEbif72ktFDGT22Op"
    },
    "kernelspec": {
      "name": "python3",
      "display_name": "Python 3"
    },
    "language_info": {
      "name": "python"
    }
  },
  "cells": [
    {
      "cell_type": "code",
      "execution_count": 3,
      "metadata": {
        "id": "iY7KVboQ_I97"
      },
      "outputs": [],
      "source": [
        "import torch\n",
        "from torch import nn"
      ]
    },
    {
      "cell_type": "code",
      "source": [
        "class ResLayer(nn.Module):\n",
        "  def __init__(self, input, output, kernel_size, stride=1):\n",
        "    super(ResLayer, self).__init__()\n",
        "    padding = kernel_size - 2\n",
        "    self.conv=nn.Sequential(\n",
        "        nn.Conv2d(input, output, kernel_size, stride, padding=padding),\n",
        "        nn.ReLU()\n",
        "    )\n",
        "\n",
        "  def forward(self, x):\n",
        "    x=self.conv(x)+x\n",
        "    return x\n"
      ],
      "metadata": {
        "id": "duUvRArb_xHL"
      },
      "execution_count": 4,
      "outputs": []
    }
  ]
}