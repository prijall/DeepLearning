{
  "nbformat": 4,
  "nbformat_minor": 0,
  "metadata": {
    "colab": {
      "provenance": [],
      "authorship_tag": "ABX9TyOHkVdYlywRKNqlkrh4UkqT"
    },
    "kernelspec": {
      "name": "python3",
      "display_name": "Python 3"
    },
    "language_info": {
      "name": "python"
    }
  },
  "cells": [
    {
      "cell_type": "code",
      "execution_count": null,
      "metadata": {
        "id": "S0Mk-tp_4Qy7"
      },
      "outputs": [],
      "source": [
        "import torch\n",
        "import numpy as np, pandas as pd, glob,  time\n",
        "import matplotlib.pyplot as plt\n",
        "import torch.nn as nn\n",
        "import torch.nn.functional as F\n",
        "import torchvision\n",
        "from torchvision import transforms, models, datasets\n",
        "from torch.utils.data import Dataset, DataLoader\n",
        "import cv2"
      ]
    },
    {
      "cell_type": "code",
      "source": [
        "device='cuda' if torch.cuda.is_available() else 'cpu'"
      ],
      "metadata": {
        "id": "C29DM4yJ462X"
      },
      "execution_count": null,
      "outputs": []
    },
    {
      "cell_type": "code",
      "source": [
        "class GenderAge(Dataset):\n",
        "  def __init__(self, df):\n",
        "    self.df=df\n",
        "    self.normalize=transforms.Normalize(\n",
        "        mean=[0.485, 0.456, 0.406],\n",
        "        std=[0.229, 0.224, 0.225]\n",
        "    )\n",
        "\n",
        "  def __len__(self):\n",
        "    return len(self.df)\n",
        "\n",
        "  def __getitem__(self, ix):\n",
        "    f=self.df.iloc[ix].squeeze()\n",
        "    file=f.file\n",
        "    gen=f.gender=='Female'\n",
        "    age=f.age\n",
        "    im=cv2.imread(file)\n",
        "    im=cv2.cvtColor(im, cv2.COLOR_BGR2RGB)\n",
        "    return im, age, gen\n",
        "\n",
        "  def preprocess_image(self, im):\n",
        "    im=cv2.resize(im, (224, 224))\n",
        "    im=torch.tensor(im).permute(2, 0, 1)\n",
        "    im=self.normalize(im/255.)\n",
        "    return im[1]\n",
        "\n",
        "  def collate_fn(self, batch):\n",
        "    'used during data loading'\n",
        "    ims, ages, genders=[], [], []\n",
        "\n",
        "    for im, age, gender in batch:\n",
        "      im=self.preprocess_image(im)\n",
        "      ims.append(im)\n",
        "\n",
        "      ages.append(float(int(age)/80))\n",
        "      genders.append(float(gender))\n",
        "\n",
        "    ages, genders=[torch.tensor(x).to(device).float() for x in [ages, genders]]\n",
        "    ims=torch.cat(ims).to(device)\n",
        "    return ims, ages, genders"
      ],
      "metadata": {
        "id": "xWvjqLN35AW-"
      },
      "execution_count": null,
      "outputs": []
    },
    {
      "cell_type": "markdown",
      "source": [
        "### Unet Architecture"
      ],
      "metadata": {
        "id": "SDJPsTKnkz_E"
      }
    },
    {
      "cell_type": "code",
      "source": [
        "class UNet(nn.Module):\n",
        " def __init__(self, pretrained=True, out_channels=12):\n",
        "  super().__init__()\n",
        "  self.encoder= vgg16_bn(pretrained=pretrained).features\n",
        "  self.block1 = nn.Sequential(*self.encoder[:6])\n",
        "  self.block2 = nn.Sequential(*self.encoder[6:13])\n",
        "  self.block3 = nn.Sequential(*self.encoder[13:20])\n",
        "  self.block4 = nn.Sequential(*self.encoder[20:27])\n",
        "  self.block5 = nn.Sequential(*self.encoder[27:34])\n",
        "  self.bottleneck = nn.Sequential(*self.encoder[34:])\n",
        "  self.conv_bottleneck = conv(512, 1024)\n",
        "  self.up_conv6 = up_conv(1024, 512)\n",
        "  self.conv6 = conv(512 + 512, 512)\n",
        "  self.up_conv7 = up_conv(512, 256)\n",
        "  self.conv7 = conv(256 + 512, 256)\n",
        "  self.up_conv8 = up_conv(256, 128)\n",
        "  self.conv8 = conv(128 + 256, 128)\n",
        "  self.up_conv9 = up_conv(128, 64)\n",
        "  self.conv9 = conv(64 + 128, 64)\n",
        "  self.up_conv10 = up_conv(64, 32)\n",
        "  self.conv10 = conv(32 + 64, 32)\n",
        "  self.conv11 = nn.Conv2d(32, out_channels, kernel_size=1)"
      ],
      "metadata": {
        "id": "rCuzgM2Gk290"
      },
      "execution_count": null,
      "outputs": []
    },
    {
      "cell_type": "code",
      "source": [
        "def forward(self, x):\n",
        " block1 = self.block1(x)\n",
        " block2 = self.block2(block1)\n",
        " block3 = self.block3(block2)\n",
        " block4 = self.block4(block3)\n",
        " block5 = self.block5(block4)\n",
        " bottleneck = self.bottleneck(block5)\n",
        " x = self.conv_bottleneck(bottleneck)\n",
        " x = self.up_conv6(x)\n",
        " x = torch.cat([x, block5], dim=1)\n",
        " x = self.conv6(x)\n",
        " x = self.up_conv7(x)\n",
        " x = torch.cat([x, block4], dim=1)\n",
        " x = self.conv7(x)\n",
        " x = self.up_conv8(x)\n",
        " x = torch.cat([x, block3], dim=1)\n",
        " x = self.conv8(x)\n",
        " x = self.up_conv9(x)\n",
        " x = torch.cat([x, block2], dim=1)\n",
        " x = self.conv9(x)\n",
        " x = self.up_conv10(x)\n",
        " x = torch.cat([x, block1], dim=1)\n",
        " x = self.conv10(x)\n",
        " x = self.conv11(x)\n",
        " return x"
      ],
      "metadata": {
        "id": "mY0SvATrlAAs"
      },
      "execution_count": null,
      "outputs": []
    }
  ]
}