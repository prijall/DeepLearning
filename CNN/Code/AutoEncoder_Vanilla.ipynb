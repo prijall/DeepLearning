{
  "nbformat": 4,
  "nbformat_minor": 0,
  "metadata": {
    "colab": {
      "provenance": [],
      "gpuType": "T4",
      "authorship_tag": "ABX9TyN5355BCnWI/4ACtWQQ9Nql",
      "include_colab_link": true
    },
    "kernelspec": {
      "name": "python3",
      "display_name": "Python 3"
    },
    "language_info": {
      "name": "python"
    },
    "accelerator": "GPU"
  },
  "cells": [
    {
      "cell_type": "markdown",
      "metadata": {
        "id": "view-in-github",
        "colab_type": "text"
      },
      "source": [
        "<a href=\"https://colab.research.google.com/github/prijall/DeepLearning/blob/main/AutoEncoder_Vanilla.ipynb\" target=\"_parent\"><img src=\"https://colab.research.google.com/assets/colab-badge.svg\" alt=\"Open In Colab\"/></a>"
      ]
    },
    {
      "cell_type": "code",
      "execution_count": 35,
      "metadata": {
        "id": "TLd5BIKmOEBA"
      },
      "outputs": [],
      "source": [
        "!pip install -q torch_snippets\n",
        "from torch_snippets import *\n",
        "from torchvision.datasets import MNIST\n",
        "from torchvision import transforms\n",
        "from torch.utils.data import DataLoader"
      ]
    },
    {
      "cell_type": "code",
      "source": [
        "import torch\n",
        "device='cuda' if torch.cuda.is_available() else 'cpu'"
      ],
      "metadata": {
        "id": "BeZ6oNrxOkYU"
      },
      "execution_count": 36,
      "outputs": []
    },
    {
      "cell_type": "code",
      "source": [
        "img_transform=transforms.Compose([\n",
        "    transforms.ToTensor(),\n",
        "    transforms.Normalize([0.5], [0.5]),\n",
        "    transforms.Lambda(lambda x: x.to(device))\n",
        "])"
      ],
      "metadata": {
        "id": "woRj5i-gO0T1"
      },
      "execution_count": 37,
      "outputs": []
    },
    {
      "cell_type": "code",
      "source": [
        "train_ds=MNIST('/content/', train=True, transform=img_transform, download=True)\n",
        "val_ds=MNIST('/content/', train=False, transform=img_transform, download=True)"
      ],
      "metadata": {
        "id": "Wgt_je2gPPC1"
      },
      "execution_count": 38,
      "outputs": []
    },
    {
      "cell_type": "code",
      "source": [
        "batch_size=256\n",
        "train_dl=DataLoader(train_ds, batch_size=batch_size, shuffle=True)\n",
        "val_dl=DataLoader(val_ds, batch_size=batch_size, shuffle=False)"
      ],
      "metadata": {
        "id": "w3AbzuoiQBYN"
      },
      "execution_count": 39,
      "outputs": []
    },
    {
      "cell_type": "code",
      "source": [
        "import torch.nn as nn\n",
        "class AutoEncoder(nn.Module):\n",
        "  def __init__(self, bottleneck_dim):\n",
        "    super().__init__()\n",
        "    self.encoder=nn.Sequential(\n",
        "        nn.Linear(28*28, 128),\n",
        "        nn.ReLU(True),\n",
        "        nn.Linear(128, 64),\n",
        "        nn.ReLU(True),\n",
        "        nn.Linear(64, bottleneck_dim)\n",
        "    )\n",
        "\n",
        "    self.decoder=nn.Sequential(\n",
        "        nn.Linear(bottleneck_dim, 64),\n",
        "        nn.ReLU(True),\n",
        "        nn.Linear(64, 128),\n",
        "        nn.ReLU(True),\n",
        "        nn.Linear(128, 28*28),\n",
        "        nn.Tanh()\n",
        "    )\n",
        "\n",
        "  def forward(self, x):\n",
        "    x=x.view(len(x), -1)\n",
        "    x=self.encoder(x)\n",
        "    x=self.decoder(x)\n",
        "    x=x.view(len(x), 1, 28, 28)\n",
        "    return x"
      ],
      "metadata": {
        "id": "DYn41d7fQpQc"
      },
      "execution_count": 40,
      "outputs": []
    },
    {
      "cell_type": "code",
      "source": [
        "def train_batch(input, model, criterion, optimizer):\n",
        "  model.train()\n",
        "  optimizer.zero_grad()\n",
        "  output=model(input)\n",
        "  loss=criterion(output, input)\n",
        "  loss.backward()\n",
        "  optimizer.step()\n",
        "  return loss\n"
      ],
      "metadata": {
        "id": "j_cCtd4dSsH8"
      },
      "execution_count": 41,
      "outputs": []
    },
    {
      "cell_type": "code",
      "source": [
        "@torch.no_grad()\n",
        "def validate_batch(input, model, criterion):\n",
        "  model.eval()\n",
        "  output=model(input)\n",
        "  loss=criterion(output, input)\n",
        "  return loss"
      ],
      "metadata": {
        "id": "8x5_JP-3TStU"
      },
      "execution_count": 42,
      "outputs": []
    },
    {
      "cell_type": "code",
      "source": [
        "model=AutoEncoder(3).to(device)\n",
        "criterion=nn.MSELoss()\n",
        "optimizer=torch.optim.AdamW(model.parameters(), lr=0.001, weight_decay=1e-5)"
      ],
      "metadata": {
        "id": "op7hi6DmTm90"
      },
      "execution_count": 43,
      "outputs": []
    },
    {
      "cell_type": "code",
      "source": [
        "num_epochs = 10\n",
        "\n",
        "train_losses = []\n",
        "val_losses = []\n",
        "\n",
        "for epoch in range(num_epochs):\n",
        "  epoch_train_losses = []\n",
        "  epoch_val_losses = []\n",
        "\n",
        "  # Training loop\n",
        "  N = len(train_dl)\n",
        "  for ix, (data, _) in enumerate(train_dl):\n",
        "    loss = train_batch(data, model, criterion, optimizer)\n",
        "    epoch_train_losses.append(loss.item())  # Store loss as a number\n",
        "    print(f\"Epoch {epoch+1}/{num_epochs}, Batch {ix+1}/{N}, Training Loss: {loss.item():.4f}\", end='\\r')\n",
        "\n",
        "  # Validation loop\n",
        "  N = len(val_dl)\n",
        "  for ix, (data, _) in enumerate(val_dl):\n",
        "    loss = validate_batch(data, model, criterion)\n",
        "    epoch_val_losses.append(loss.item())  # Store loss as a number\n",
        "    print(f\"Epoch {epoch+1}/{num_epochs}, Batch {ix+1}/{N}, Validation Loss: {loss.item():.4f}\", end='\\r')\n",
        "\n",
        "  # Calculate and print average losses for the epoch\n",
        "  avg_train_loss = sum(epoch_train_losses) / len(epoch_train_losses)\n",
        "  avg_val_loss = sum(epoch_val_losses) / len(epoch_val_losses)\n",
        "\n",
        "  train_losses.append(avg_train_loss)  # Store average losses for plotting later if needed\n",
        "  val_losses.append(avg_val_loss)\n",
        "\n",
        "  print(f\"Epoch {epoch+1}/{num_epochs} - Avg. Training Loss: {avg_train_loss:.4f}, Avg. Validation Loss: {avg_val_loss:.4f}\")"
      ],
      "metadata": {
        "colab": {
          "base_uri": "https://localhost:8080/"
        },
        "id": "-1xoNFjTT4Ks",
        "outputId": "9d1e9ff5-759d-4d16-f211-17eaca67dd2a"
      },
      "execution_count": 44,
      "outputs": [
        {
          "output_type": "stream",
          "name": "stdout",
          "text": [
            "Epoch 1/10 - Avg. Training Loss: 0.2591, Avg. Validation Loss: 0.1934\n",
            "Epoch 2/10 - Avg. Training Loss: 0.1807, Avg. Validation Loss: 0.1695\n",
            "Epoch 3/10 - Avg. Training Loss: 0.1646, Avg. Validation Loss: 0.1601\n",
            "Epoch 4/10 - Avg. Training Loss: 0.1567, Avg. Validation Loss: 0.1536\n",
            "Epoch 5/10 - Avg. Training Loss: 0.1521, Avg. Validation Loss: 0.1502\n",
            "Epoch 6/10 - Avg. Training Loss: 0.1490, Avg. Validation Loss: 0.1477\n",
            "Epoch 7/10 - Avg. Training Loss: 0.1466, Avg. Validation Loss: 0.1455\n",
            "Epoch 8/10 - Avg. Training Loss: 0.1447, Avg. Validation Loss: 0.1438\n",
            "Epoch 9/10 - Avg. Training Loss: 0.1431, Avg. Validation Loss: 0.1422\n",
            "Epoch 10/10 - Avg. Training Loss: 0.1415, Avg. Validation Loss: 0.1408\n"
          ]
        }
      ]
    },
    {
      "cell_type": "code",
      "source": [
        "import matplotlib.pyplot as plt\n",
        "for _ in range(2):\n",
        " ix = np.random.randint(len(val_ds))\n",
        " im, _ = val_ds[ix]\n",
        " _im = model(im[None])[0]\n",
        " fig, ax = plt.subplots(1, 2, figsize=(3,3))\n",
        " show(im[0], ax=ax[0], title='input')\n",
        " show(_im[0], ax=ax[1], title='prediction')\n",
        " plt.tight_layout()\n",
        " plt.show()"
      ],
      "metadata": {
        "colab": {
          "base_uri": "https://localhost:8080/",
          "height": 355
        },
        "id": "7P6tr3DnWh4T",
        "outputId": "f2fe5909-573e-408d-9670-f1349f80c764"
      },
      "execution_count": 48,
      "outputs": [
        {
          "output_type": "display_data",
          "data": {
            "text/plain": [
              "<Figure size 300x300 with 2 Axes>"
            ],
            "image/png": "[encoded data removed]"
          },
          "metadata": {}
        },
        {
          "output_type": "display_data",
          "data": {
            "text/plain": [
              "<Figure size 300x300 with 2 Axes>"
            ],
            "image/png": "[encoded data removed]"
          },
          "metadata": {}
        }
      ]
    }
  ]
}