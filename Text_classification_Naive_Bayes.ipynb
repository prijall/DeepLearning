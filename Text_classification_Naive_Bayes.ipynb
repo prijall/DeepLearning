{
  "nbformat": 4,
  "nbformat_minor": 0,
  "metadata": {
    "colab": {
      "provenance": [],
      "authorship_tag": "ABX9TyP7TBu2UlMXi6eH5hTNfACA"
    },
    "kernelspec": {
      "name": "python3",
      "display_name": "Python 3"
    },
    "language_info": {
      "name": "python"
    }
  },
  "cells": [
    {
      "cell_type": "code",
      "execution_count": 13,
      "metadata": {
        "id": "CKCJIeZ9GuV1"
      },
      "outputs": [],
      "source": [
        "import warnings\n",
        "warnings.filterwarnings('ignore')\n",
        "import numpy as np\n",
        "import pandas as pd\n",
        "import string\n",
        "import re\n",
        "from sklearn.naive_bayes import MultinomialNB\n",
        "from sklearn.naive_bayes import MultinomialNB\n",
        "from sklearn.linear_model import LogisticRegression\n",
        "from sklearn.svm import LinearSVC\n",
        "\n",
        "# import different metrics to evaluate the classifiers\n",
        "from sklearn.metrics import accuracy_score\n",
        "\n",
        "# from sklearn.model_selection import train_test_split\n",
        "from sklearn.metrics import confusion_matrix\n",
        "from sklearn import metrics\n",
        "\n",
        "# import time function from time module to track the training duration\n",
        "from time import time"
      ]
    },
    {
      "cell_type": "code",
      "source": [
        "#@ Loading dataset:\n",
        "try:\n",
        "    from google.colab import files\n",
        "    !wget -P DATAPATH https://raw.githubusercontent.com/practical-nlp/practical-nlp/master/Ch4/Data/Full-Economic-News-DFE-839861.csv\n",
        "    !ls -lah DATAPATH\n",
        "    our_data = pd.read_csv(\"DATAPATH/Full-Economic-News-DFE-839861.csv\" , encoding = \"ISO-8859-1\" )\n",
        "\n",
        "except ModuleNotFoundError:\n",
        "    our_data = pd.read_csv(\"Data/Full-Economic-News-DFE-839861.csv\" , encoding = \"ISO-8859-1\" )\n"
      ],
      "metadata": {
        "colab": {
          "base_uri": "https://localhost:8080/"
        },
        "id": "ZSJFY9MKHG6L",
        "outputId": "3c77cab4-22d9-4837-8e6b-79580fc411a3"
      },
      "execution_count": 5,
      "outputs": [
        {
          "output_type": "stream",
          "name": "stdout",
          "text": [
            "--2024-11-27 15:00:44--  https://raw.githubusercontent.com/practical-nlp/practical-nlp/master/Ch4/Data/Full-Economic-News-DFE-839861.csv\n",
            "Resolving raw.githubusercontent.com (raw.githubusercontent.com)... 185.199.108.133, 185.199.109.133, 185.199.110.133, ...\n",
            "Connecting to raw.githubusercontent.com (raw.githubusercontent.com)|185.199.108.133|:443... connected.\n",
            "HTTP request sent, awaiting response... 200 OK\n",
            "Length: 12383529 (12M) [application/octet-stream]\n",
            "Saving to: ‘DATAPATH/Full-Economic-News-DFE-839861.csv’\n",
            "\n",
            "\r          Full-Econ   0%[                    ]       0  --.-KB/s               \rFull-Economic-News- 100%[===================>]  11.81M  --.-KB/s    in 0.04s   \n",
            "\n",
            "2024-11-27 15:00:44 (296 MB/s) - ‘DATAPATH/Full-Economic-News-DFE-839861.csv’ saved [12383529/12383529]\n",
            "\n",
            "total 12M\n",
            "drwxr-xr-x 2 root root 4.0K Nov 27 15:00 .\n",
            "drwxr-xr-x 1 root root 4.0K Nov 27 15:00 ..\n",
            "-rw-r--r-- 1 root root  12M Nov 27 15:00 Full-Economic-News-DFE-839861.csv\n"
          ]
        }
      ]
    },
    {
      "cell_type": "code",
      "source": [
        "display(our_data.shape)\n",
        "our_data['relevance'].value_counts()/our_data.shape[0]"
      ],
      "metadata": {
        "colab": {
          "base_uri": "https://localhost:8080/",
          "height": 227
        },
        "id": "AH2yNRX9I7Vc",
        "outputId": "6ce73db9-3a94-46a8-ca9b-6d5051273cc0"
      },
      "execution_count": 9,
      "outputs": [
        {
          "output_type": "display_data",
          "data": {
            "text/plain": [
              "(8000, 15)"
            ]
          },
          "metadata": {}
        },
        {
          "output_type": "execute_result",
          "data": {
            "text/plain": [
              "relevance\n",
              "no          0.821375\n",
              "yes         0.177500\n",
              "not sure    0.001125\n",
              "Name: count, dtype: float64"
            ],
            "text/html": [
              "<div>\n",
              "<style scoped>\n",
              "    .dataframe tbody tr th:only-of-type {\n",
              "        vertical-align: middle;\n",
              "    }\n",
              "\n",
              "    .dataframe tbody tr th {\n",
              "        vertical-align: top;\n",
              "    }\n",
              "\n",
              "    .dataframe thead th {\n",
              "        text-align: right;\n",
              "    }\n",
              "</style>\n",
              "<table border=\"1\" class=\"dataframe\">\n",
              "  <thead>\n",
              "    <tr style=\"text-align: right;\">\n",
              "      <th></th>\n",
              "      <th>count</th>\n",
              "    </tr>\n",
              "    <tr>\n",
              "      <th>relevance</th>\n",
              "      <th></th>\n",
              "    </tr>\n",
              "  </thead>\n",
              "  <tbody>\n",
              "    <tr>\n",
              "      <th>no</th>\n",
              "      <td>0.821375</td>\n",
              "    </tr>\n",
              "    <tr>\n",
              "      <th>yes</th>\n",
              "      <td>0.177500</td>\n",
              "    </tr>\n",
              "    <tr>\n",
              "      <th>not sure</th>\n",
              "      <td>0.001125</td>\n",
              "    </tr>\n",
              "  </tbody>\n",
              "</table>\n",
              "</div><br><label><b>dtype:</b> float64</label>"
            ]
          },
          "metadata": {},
          "execution_count": 9
        }
      ]
    },
    {
      "cell_type": "code",
      "source": [
        "#@ Converting label into numerical values:\n",
        "our_data=our_data[our_data.relevance != 'not sure'] #removing\n",
        "our_data['relevance']=our_data.relevance.map({'yes':1, 'no':0})\n",
        "our_data=our_data[['text', 'relevance']] #taking only two columns"
      ],
      "metadata": {
        "id": "HKlBBehOJZHU"
      },
      "execution_count": 10,
      "outputs": []
    },
    {
      "cell_type": "code",
      "source": [
        "#@ Text preprocessing:\n",
        "from sklearn.feature_extraction.text import CountVectorizer, ENGLISH_STOP_WORDS\n",
        "\n",
        "\n",
        "stopwords=ENGLISH_STOP_WORDS\n",
        "def clean(doc):\n",
        "  doc=doc.replace(\"</br>\", \"\")\n",
        "  doc=''.join([char for char in doc if char not in string.punctuation and not char.isdigit()])\n",
        "  doc=''.join([token for token in doc.split() if token not in stopwords])\n",
        "  return doc"
      ],
      "metadata": {
        "id": "X1GfZMRPKNSr"
      },
      "execution_count": 12,
      "outputs": []
    },
    {
      "cell_type": "code",
      "source": [
        "#@ Modelling:\n",
        "import sklearn\n",
        "from sklearn.model_selection import train_test_split\n",
        "\n",
        "X=our_data.text\n",
        "y=our_data.relevance\n",
        "\n",
        "X_train, X_test, y_train, y_test=train_test_split(X, y, random_state=33)\n",
        "\n",
        "# preprocessing of vectorize train and test data\n",
        "vect=CountVectorizer(preprocessor=clean)\n",
        "X_train_dtm=vect.fit_transform(X_train)\n",
        "\n",
        "X_test_dtm=vect.transform(X_test)\n",
        "\n",
        "# training classifier:\n",
        "nb=MultinomialNB()\n",
        "%time nb.fit(X_train_dtm, y_train)\n",
        "y_pred_class=nb.predict(X_test_dtm)\n",
        "print(\"Accuracy:\", accuracy_score(y_test, y_pred_class))"
      ],
      "metadata": {
        "colab": {
          "base_uri": "https://localhost:8080/"
        },
        "id": "mqUfKPz6L9p6",
        "outputId": "f056afb2-b26b-42ae-9933-f0f88bf2a017"
      },
      "execution_count": 19,
      "outputs": [
        {
          "output_type": "stream",
          "name": "stdout",
          "text": [
            "CPU times: user 5.1 ms, sys: 0 ns, total: 5.1 ms\n",
            "Wall time: 5.11 ms\n",
            "Accuracy: 0.8193193193193193\n"
          ]
        }
      ]
    },
    {
      "cell_type": "code",
      "source": [
        "#@ with hyperparameter tuning:\n",
        "vect=CountVectorizer(preprocessor=clean, max_features=5000)\n",
        "X_train_dtm=vect.fit_transform(X_train)\n",
        "\n",
        "X_test_dtm=vect.transform(X_test)\n",
        "\n",
        "# training classifier:\n",
        "nb=MultinomialNB()\n",
        "%time nb.fit(X_train_dtm, y_train)\n",
        "y_pred_class=nb.predict(X_test_dtm)\n",
        "print(\"Accuracy:\", accuracy_score(y_test, y_pred_class))\n"
      ],
      "metadata": {
        "colab": {
          "base_uri": "https://localhost:8080/"
        },
        "id": "Ria_gXkSN3nz",
        "outputId": "9e4a9900-a214-4a7f-a963-908b58e34542"
      },
      "execution_count": 22,
      "outputs": [
        {
          "output_type": "stream",
          "name": "stdout",
          "text": [
            "CPU times: user 2.88 ms, sys: 0 ns, total: 2.88 ms\n",
            "Wall time: 2.89 ms\n",
            "Accuracy: 0.8198198198198198\n"
          ]
        }
      ]
    }
  ]
}