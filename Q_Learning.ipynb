{
  "nbformat": 4,
  "nbformat_minor": 0,
  "metadata": {
    "colab": {
      "provenance": [],
      "mount_file_id": "1mYPggMPZ71keoZeEnRELE3g4_00EZWvO",
      "authorship_tag": "ABX9TyOcailXlVXQggdRCYwYcS4m"
    },
    "kernelspec": {
      "name": "python3",
      "display_name": "Python 3"
    },
    "language_info": {
      "name": "python"
    }
  },
  "cells": [
    {
      "cell_type": "code",
      "execution_count": 7,
      "metadata": {
        "id": "0UhwgChAGrUp"
      },
      "outputs": [],
      "source": [
        "from Gridworld import Gridworld\n",
        "game = Gridworld(size=4, mode='static')"
      ]
    },
    {
      "cell_type": "code",
      "source": [
        "game.display()"
      ],
      "metadata": {
        "colab": {
          "base_uri": "https://localhost:8080/"
        },
        "id": "dzI8LAIUHCM5",
        "outputId": "992a2df4-0992-4881-be5b-2081583fe1ac"
      },
      "execution_count": 8,
      "outputs": [
        {
          "output_type": "execute_result",
          "data": {
            "text/plain": [
              "array([['+', '-', ' ', 'P'],\n",
              "       [' ', 'W', ' ', ' '],\n",
              "       [' ', ' ', ' ', ' '],\n",
              "       [' ', ' ', ' ', ' ']], dtype='<U2')"
            ]
          },
          "metadata": {},
          "execution_count": 8
        }
      ]
    },
    {
      "cell_type": "markdown",
      "source": [
        "## Developing Q learning Network"
      ],
      "metadata": {
        "id": "1Y6o3lDcHFdw"
      }
    },
    {
      "cell_type": "code",
      "source": [
        "import numpy as np\n",
        "import torch\n",
        "import torch.nn as nn\n",
        "from Gridworld import Gridworld\n",
        "from IPython.display import clear_output\n",
        "import random\n",
        "from matplotlib import pylab as plt\n",
        "\n",
        "l1 = 64\n",
        "l2 = 150\n",
        "l3 = 100\n",
        "l4 = 4"
      ],
      "metadata": {
        "id": "gweLhYqVHIpH"
      },
      "execution_count": 9,
      "outputs": []
    },
    {
      "cell_type": "markdown",
      "source": [
        "1 We set up a for loop for the number of epochs.\n",
        "2 In the loop, we set up a while loop (while the game is in progress).\n",
        "3 We run the Q-network forward.\n",
        "4 We’re using an epsilon-greedy implementation, so at time t with probability ε\n",
        "we will choose a random action. With probability 1 – ε, we will choose the action\n",
        "associated with the highest Q value from our neural network.\n",
        "5 Take action a as determined in the preceding step, and observe the new state s′\n",
        "and reward rt+1.\n",
        "6 Run the network forward using s′. Store the highest Q value, which we’ll call\n",
        "max Q.\n",
        "7 Our target value for training the network is rt+1 + γ *maxQA(St+1), where γ\n",
        "(gamma) is a parameter between 0 and 1. If after taking action at the game is\n",
        "over, there is no legitimate st+1, so γ *maxQA(St+1) is not valid and we can set it to\n",
        "0. The target becomes just rt+1.\n",
        "8 Given that we have four outputs and we only want to update (i.e., train) the output associated with the action we just took, our target output vector is the same\n",
        "as the output vector from the first run, except we change the one output associated with our action to the result we computed using the Q-learning formula.\n",
        "9 Train the model on this one sample. Then repeat steps 2–9."
      ],
      "metadata": {
        "id": "83JvHg4OITUg"
      }
    },
    {
      "cell_type": "code",
      "source": [
        "model=nn.Sequential(\n",
        "    nn.Linear(l1, l2),\n",
        "    nn.ReLU(),\n",
        "    nn.Linear(l2, l3),\n",
        "    nn.ReLU(),\n",
        "    nn.Linear(l3, l4)\n",
        ")\n",
        "\n",
        "loss_fn=torch.nn.MSELoss()\n",
        "optim=torch.optim.Adam(model.parameters(), lr=1e-3)\n",
        "gamma=0.9\n",
        "epsilon=1.0\n",
        "\n",
        "action_set={\n",
        "    0: 'u',\n",
        "    1: 'd',\n",
        "    2: 'l',\n",
        "    3: 'r'\n",
        "}\n",
        "\n",
        "#@ Training Loop:\n",
        "epochs=1000\n",
        "losses=[]\n",
        "for i in range(epochs):\n",
        "  game=Gridworld(size=4, mode='static') #creating a new game\n",
        "  state_=game.board.render_np().reshape(1, 64) + np.random.rand(1, 64)/10.0\n",
        "  state1=torch.from_numpy(state_).float() #conversion from np to torch\n",
        "  status=1 #to track if game is in progress or not\n",
        "\n",
        "  while(status==1):\n",
        "    qval=model(state1)\n",
        "    qval_=qval.data.numpy()\n",
        "\n",
        "    #using epsilon greedy algorithm:\n",
        "    if (random.random()<epsilon):\n",
        "      action_=np.random.randint(0, 4)\n",
        "    else:\n",
        "      action_=np.argmax(qval_)\n",
        "\n",
        "    #conversion of numerical values into char which gridworld expects:\n",
        "    action=action_set[action_]\n",
        "    game.makeMove(action) #taking action in the grid\n",
        "\n",
        "    #@ game state changes:\n",
        "    state2_=game.board.render_np().reshape(1, 64) + np.random.rand(1, 64)/10.0\n",
        "    state2=torch.from_numpy(state2_).float()\n",
        "    reward=game.reward()\n",
        "\n",
        "    #@ Optimization:\n",
        "    with torch.no_grad():\n",
        "      newQ=model(state2.reshape(1, 64))\n",
        "    maxQ=torch.max(newQ)\n",
        "\n",
        "    if reward==-1:\n",
        "      Y=reward + (gamma * maxQ)\n",
        "    else:\n",
        "      Y=reward\n",
        "\n",
        "    Y=torch.Tensor([Y]).detach()\n",
        "    X=qval.squeeze()[action_]\n",
        "    loss=loss_fn(X, Y)\n",
        "    print(i, loss.item())\n",
        "    clear_output(wait=True)\n",
        "    optim.zero_grad()\n",
        "    loss.backward()\n",
        "    losses.append(loss.item())\n",
        "    optim.step()\n",
        "    state1=state2\n",
        "    if reward!=-1:\n",
        "      status=0\n",
        "  if epsilon> 0.1:\n",
        "    epsilon-=1/epochs\n",
        "\n",
        "\n",
        "\n",
        "\n",
        "\n",
        "\n"
      ],
      "metadata": {
        "id": "_MbTVAGiHOyI",
        "colab": {
          "base_uri": "https://localhost:8080/"
        },
        "outputId": "5cc6bd83-4bc9-4814-8a8d-503fda952696"
      },
      "execution_count": 10,
      "outputs": [
        {
          "output_type": "stream",
          "name": "stdout",
          "text": [
            "999 0.0012971169780939817\n"
          ]
        }
      ]
    },
    {
      "cell_type": "code",
      "source": [
        "plt.figure(figsize=(10, 7))\n",
        "plt.plot(losses)\n",
        "plt.xlabel(\"Epochs\", fontsize=22)\n",
        "plt.ylabel(\"Loss\", fontsize=22)"
      ],
      "metadata": {
        "id": "uJ3nJBmuIKVY",
        "colab": {
          "base_uri": "https://localhost:8080/",
          "height": 651
        },
        "outputId": "5ab22256-d082-4fe0-bbe7-aba0756d6458"
      },
      "execution_count": 11,
      "outputs": [
        {
          "output_type": "execute_result",
          "data": {
            "text/plain": [
              "Text(0, 0.5, 'Loss')"
            ]
          },
          "metadata": {},
          "execution_count": 11
        },
        {
          "output_type": "display_data",
          "data": {
            "text/plain": [
              "<Figure size 1000x700 with 1 Axes>"
            ],
            "image/png": "[encoded data removed]"
          },
          "metadata": {}
        }
      ]
    }
  ]
}