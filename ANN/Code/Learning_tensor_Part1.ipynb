{
 "cells": [
  {
   "cell_type": "code",
   "execution_count": 1,
   "metadata": {},
   "outputs": [],
   "source": [
    "import torch"
   ]
  },
  {
   "cell_type": "code",
   "execution_count": 4,
   "metadata": {},
   "outputs": [
    {
     "name": "stdout",
     "output_type": "stream",
     "text": [
      "tensor([[0.1517, 0.1749, 0.8834, 0.3792],\n",
      "        [0.8692, 0.5005, 0.2712, 0.2382],\n",
      "        [0.1807, 0.2102, 0.3321, 0.6326]])\n",
      "Shape: torch.Size([3, 4])\n",
      "Dimension: 2\n"
     ]
    }
   ],
   "source": [
    "#@ Initializing random tensor:\n",
    "\n",
    "random=torch.rand(size=(3,4))\n",
    "print(random)\n",
    "print(\"Shape:\", random.shape)\n",
    "print(\"Dimension:\", random.ndim)"
   ]
  },
  {
   "cell_type": "code",
   "execution_count": 5,
   "metadata": {},
   "outputs": [
    {
     "name": "stdout",
     "output_type": "stream",
     "text": [
      "tensor([[0., 0., 0.],\n",
      "        [0., 0., 0.]])\n",
      "\n",
      "\n",
      "tensor([[1., 1., 1.]])\n"
     ]
    }
   ],
   "source": [
    "#@ Filling tensors with Ones and Zeros:\n",
    "zero_tensor=torch.zeros(size=(2,3))\n",
    "ones_tensor=torch.ones(size=(1,3))\n",
    "\n",
    "print(zero_tensor)\n",
    "print('\\n')\n",
    "print(ones_tensor)\n",
    "\n"
   ]
  },
  {
   "cell_type": "code",
   "execution_count": 6,
   "metadata": {},
   "outputs": [
    {
     "name": "stdout",
     "output_type": "stream",
     "text": [
      "tensor([ 5,  7,  9, 11, 13, 15, 17, 19])\n"
     ]
    }
   ],
   "source": [
    "#@ Creating tensors using range:\n",
    "\n",
    "ten1=torch.arange(5, 20, 2)\n",
    "print(ten1)"
   ]
  },
  {
   "cell_type": "code",
   "execution_count": 7,
   "metadata": {},
   "outputs": [
    {
     "name": "stdout",
     "output_type": "stream",
     "text": [
      "tensor([0, 0, 0, 0, 0, 0, 0, 0])\n"
     ]
    }
   ],
   "source": [
    "ten2=torch.zeros_like(ten1)\n",
    "print(ten2)"
   ]
  },
  {
   "cell_type": "code",
   "execution_count": 8,
   "metadata": {},
   "outputs": [
    {
     "name": "stdout",
     "output_type": "stream",
     "text": [
      "tensor([2, 3, 4])\n",
      "tensor([2, 4, 6])\n",
      "tensor([0, 1, 2])\n"
     ]
    }
   ],
   "source": [
    "#@ Tensor Basic operations:\n",
    "tensor=torch.tensor([1,2, 3])\n",
    "tensor1 = tensor+1\n",
    "tensor2=tensor*2\n",
    "tensor3=tensor-1\n",
    "\n",
    "print(tensor1)\n",
    "print(tensor2)\n",
    "print(tensor3)"
   ]
  },
  {
   "cell_type": "markdown",
   "metadata": {},
   "source": [
    "#### Multiplication is what you need:)\n",
    "\n",
    "- For most part of neural network, we goona work with matrix multiplication. There are certain conditions for matrix Multiplication."
   ]
  },
  {
   "cell_type": "code",
   "execution_count": 9,
   "metadata": {},
   "outputs": [
    {
     "ename": "RuntimeError",
     "evalue": "The size of tensor a (3) must match the size of tensor b (2) at non-singleton dimension 1",
     "output_type": "error",
     "traceback": [
      "\u001b[1;31m---------------------------------------------------------------------------\u001b[0m",
      "\u001b[1;31mRuntimeError\u001b[0m                              Traceback (most recent call last)",
      "Cell \u001b[1;32mIn[9], line 4\u001b[0m\n\u001b[0;32m      1\u001b[0m a\u001b[38;5;241m=\u001b[39mtorch\u001b[38;5;241m.\u001b[39mtensor([\u001b[38;5;241m1\u001b[39m,\u001b[38;5;241m2\u001b[39m,\u001b[38;5;241m4\u001b[39m])\n\u001b[0;32m      2\u001b[0m b\u001b[38;5;241m=\u001b[39mtorch\u001b[38;5;241m.\u001b[39mtensor([[\u001b[38;5;241m1\u001b[39m, \u001b[38;5;241m2\u001b[39m],  [\u001b[38;5;241m2\u001b[39m, \u001b[38;5;241m3\u001b[39m]])\n\u001b[1;32m----> 4\u001b[0m c\u001b[38;5;241m=\u001b[39m\u001b[43ma\u001b[49m\u001b[38;5;241;43m*\u001b[39;49m\u001b[43mb\u001b[49m\n\u001b[0;32m      5\u001b[0m \u001b[38;5;28mprint\u001b[39m(c)\n",
      "\u001b[1;31mRuntimeError\u001b[0m: The size of tensor a (3) must match the size of tensor b (2) at non-singleton dimension 1"
     ]
    }
   ],
   "source": [
    "a=torch.tensor([1,2,4])\n",
    "b=torch.tensor([[1, 2],  [2, 3]])\n",
    "\n",
    "c=a*b\n",
    "print(c)"
   ]
  },
  {
   "cell_type": "code",
   "execution_count": 10,
   "metadata": {},
   "outputs": [
    {
     "name": "stdout",
     "output_type": "stream",
     "text": [
      "tensor([1, 2, 4])\n"
     ]
    }
   ],
   "source": [
    "d=torch.ones_like(a)\n",
    "f=a*d\n",
    "print(f)"
   ]
  }
 ],
 "metadata": {
  "kernelspec": {
   "display_name": "Python 3",
   "language": "python",
   "name": "python3"
  },
  "language_info": {
   "codemirror_mode": {
    "name": "ipython",
    "version": 3
   },
   "file_extension": ".py",
   "mimetype": "text/x-python",
   "name": "python",
   "nbconvert_exporter": "python",
   "pygments_lexer": "ipython3",
   "version": "3.12.0"
  }
 },
 "nbformat": 4,
 "nbformat_minor": 2
}
