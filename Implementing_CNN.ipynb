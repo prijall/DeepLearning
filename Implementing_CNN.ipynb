{
  "nbformat": 4,
  "nbformat_minor": 0,
  "metadata": {
    "colab": {
      "provenance": [],
      "gpuType": "T4",
      "authorship_tag": "ABX9TyPxVLOwHsLmbH6Du+QYlH9j"
    },
    "kernelspec": {
      "name": "python3",
      "display_name": "Python 3"
    },
    "language_info": {
      "name": "python"
    },
    "accelerator": "GPU"
  },
  "cells": [
    {
      "cell_type": "code",
      "execution_count": 23,
      "metadata": {
        "id": "YPRw7jDvi7to"
      },
      "outputs": [],
      "source": [
        "#@ Importing necessary libraries and dependencies:\n",
        "import torch\n",
        "from torch import nn\n",
        "from torch.utils.data import TensorDataset, Dataset, DataLoader\n",
        "from torch.optim import SGD, Adam\n",
        "import numpy\n",
        "from torchvision import datasets"
      ]
    },
    {
      "cell_type": "code",
      "source": [
        "#@ For effective computation\n",
        "device='cuda' if torch.cuda.is_available() else 'cpu'"
      ],
      "metadata": {
        "id": "04xjnWAujW82"
      },
      "execution_count": 24,
      "outputs": []
    },
    {
      "cell_type": "code",
      "source": [
        "#@ Creating dataset:\n",
        "X_train=torch.tensor([[[[1, 2, 3, 4],\n",
        "                        [2, 3, 4 ,5 ],\n",
        "                        [5, 6, 7, 8],\n",
        "                        [1, 3, 4, 5]]], [[[-1, 2, 3, -4],\n",
        "                                          [2, -3, 4, 5],\n",
        "                                          [-5, 6, -7, 8],\n",
        "                                          [-1, -3, -4, -5]]]]).to(device).float()"
      ],
      "metadata": {
        "id": "tQQcmKdekJga"
      },
      "execution_count": 25,
      "outputs": []
    },
    {
      "cell_type": "code",
      "source": [
        "X_train.shape  # batch_size=2, channel=1, height=4, width=4"
      ],
      "metadata": {
        "colab": {
          "base_uri": "https://localhost:8080/"
        },
        "id": "eVc-4ENvp6Ew",
        "outputId": "187918d0-e798-48b3-f8bc-8b56038d84ec"
      },
      "execution_count": 26,
      "outputs": [
        {
          "output_type": "execute_result",
          "data": {
            "text/plain": [
              "torch.Size([2, 1, 4, 4])"
            ]
          },
          "metadata": {},
          "execution_count": 26
        }
      ]
    },
    {
      "cell_type": "code",
      "source": [
        "X_train /= 8 #scaling values so that it lies between -1 to 1\n",
        "             # dividing by the highest value\n",
        "y_train=torch.tensor([0, 1]).to(device).float()\n",
        "# X_train"
      ],
      "metadata": {
        "id": "Fgaps1_0lETj"
      },
      "execution_count": 28,
      "outputs": []
    },
    {
      "cell_type": "code",
      "source": [
        "#@ Model Building:\n",
        "def ConvoNet():\n",
        "  model=nn.Sequential(\n",
        "         nn.Conv2d(1, 1, kernel_size=3), # 1 channel, 1 filter, size=3x3\n",
        "         nn.MaxPool2d(2), #Maxpooling\n",
        "         nn.ReLU(),\n",
        "         nn.Flatten(),\n",
        "         nn.Linear(1, 1),\n",
        "         nn.Sigmoid(),\n",
        "  ).to(device)\n",
        "\n",
        "  loss_func=nn.BCELoss()\n",
        "  optimizer=Adam(model.parameters(), lr=1e-3)\n",
        "  return model, loss_func, optimizer"
      ],
      "metadata": {
        "id": "lqxVZxnjlX9p"
      },
      "execution_count": 12,
      "outputs": []
    },
    {
      "cell_type": "code",
      "source": [
        "pip install torch_summary"
      ],
      "metadata": {
        "colab": {
          "base_uri": "https://localhost:8080/"
        },
        "id": "09EyNz6Eml8b",
        "outputId": "1e0a1e7f-4292-4755-f4d0-7378e055b980"
      },
      "execution_count": 13,
      "outputs": [
        {
          "output_type": "stream",
          "name": "stdout",
          "text": [
            "Collecting torch_summary\n",
            "  Downloading torch_summary-1.4.5-py3-none-any.whl.metadata (18 kB)\n",
            "Downloading torch_summary-1.4.5-py3-none-any.whl (16 kB)\n",
            "Installing collected packages: torch_summary\n",
            "Successfully installed torch_summary-1.4.5\n"
          ]
        }
      ]
    },
    {
      "cell_type": "code",
      "source": [
        "from torchsummary import summary\n",
        "model, loss_func, optimizer=ConvoNet()\n",
        "summary(model, X_train);"
      ],
      "metadata": {
        "colab": {
          "base_uri": "https://localhost:8080/"
        },
        "id": "CJBuabI1mvSL",
        "outputId": "34cd26df-dd7e-4b52-d4b3-fa8f0903c304"
      },
      "execution_count": 14,
      "outputs": [
        {
          "output_type": "stream",
          "name": "stdout",
          "text": [
            "==========================================================================================\n",
            "Layer (type:depth-idx)                   Output Shape              Param #\n",
            "==========================================================================================\n",
            "├─Conv2d: 1-1                            [-1, 1, 2, 2]             10\n",
            "├─MaxPool2d: 1-2                         [-1, 1, 1, 1]             --\n",
            "├─ReLU: 1-3                              [-1, 1, 1, 1]             --\n",
            "├─Flatten: 1-4                           [-1, 1]                   --\n",
            "├─Linear: 1-5                            [-1, 1]                   2\n",
            "├─Sigmoid: 1-6                           [-1, 1]                   --\n",
            "==========================================================================================\n",
            "Total params: 12\n",
            "Trainable params: 12\n",
            "Non-trainable params: 0\n",
            "Total mult-adds (M): 0.00\n",
            "==========================================================================================\n",
            "Input size (MB): 0.00\n",
            "Forward/backward pass size (MB): 0.00\n",
            "Params size (MB): 0.00\n",
            "Estimated Total Size (MB): 0.00\n",
            "==========================================================================================\n"
          ]
        }
      ]
    },
    {
      "cell_type": "code",
      "source": [
        "def train_batch(x, y, model, optimizer, loss_func):\n",
        "  model.train()\n",
        "  prediction=model(x) #forward pass\n",
        "  batch_loss=loss_func(prediction.squeeze(0), y) #squeeze removes first dim\n",
        "                                                # for (1, n), (n,)\n",
        "  batch_loss.backward() #backpropagation\n",
        "  optimizer.step()\n",
        "  optimizer.zero_grad()\n",
        "  return batch_loss.item()"
      ],
      "metadata": {
        "id": "PnaeRQLsn456"
      },
      "execution_count": 29,
      "outputs": []
    },
    {
      "cell_type": "code",
      "source": [
        "training_dataloader=DataLoader(TensorDataset(X_train, y_train))"
      ],
      "metadata": {
        "id": "-C6cAvx1ovJL"
      },
      "execution_count": 30,
      "outputs": []
    },
    {
      "cell_type": "code",
      "source": [
        "for epoch in range(2000):\n",
        "  for ix, batch in enumerate(iter(training_dataloader)):\n",
        "    x, y=batch\n",
        "    batch_loss=train_batch(x, y, model, optimizer, loss_func)"
      ],
      "metadata": {
        "id": "zaxwZe_-o55K"
      },
      "execution_count": 21,
      "outputs": []
    },
    {
      "cell_type": "code",
      "source": [
        "model(X_train[:1])"
      ],
      "metadata": {
        "colab": {
          "base_uri": "https://localhost:8080/"
        },
        "id": "ZcMT7p5JpUyi",
        "outputId": "6d724c50-7cff-45b3-b4e6-c8ce417f100b"
      },
      "execution_count": 22,
      "outputs": [
        {
          "output_type": "execute_result",
          "data": {
            "text/plain": [
              "tensor([[0.1246]], device='cuda:0', grad_fn=<SigmoidBackward0>)"
            ]
          },
          "metadata": {},
          "execution_count": 22
        }
      ]
    }
  ]
}