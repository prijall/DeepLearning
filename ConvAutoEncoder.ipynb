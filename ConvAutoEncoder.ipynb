{
  "nbformat": 4,
  "nbformat_minor": 0,
  "metadata": {
    "colab": {
      "provenance": [],
      "gpuType": "T4",
      "authorship_tag": "ABX9TyNXKTQX5gy3+8xhcFbcGR4R"
    },
    "kernelspec": {
      "name": "python3",
      "display_name": "Python 3"
    },
    "language_info": {
      "name": "python"
    },
    "accelerator": "GPU"
  },
  "cells": [
    {
      "cell_type": "code",
      "execution_count": 9,
      "metadata": {
        "id": "toWNj_vVILgy"
      },
      "outputs": [],
      "source": [
        "!pip install -q torch_snippets\n",
        "from torch_snippets import *\n",
        "from torchvision.datasets import FashionMNIST\n",
        "from torchvision import transforms"
      ]
    },
    {
      "cell_type": "code",
      "source": [
        "import torch\n",
        "device='cuda' if torch.cuda.is_available() else 'cpu'"
      ],
      "metadata": {
        "id": "WpBtiReaIs3r"
      },
      "execution_count": 10,
      "outputs": []
    },
    {
      "cell_type": "code",
      "source": [
        "img_transforms=transforms.Compose([\n",
        "    transforms.ToTensor(),\n",
        "    transforms.Normalize([0.5], [0.5]),\n",
        "    transforms.Lambda(lambda x: x.to(device))\n",
        "])"
      ],
      "metadata": {
        "id": "vnn9w3fzJD4o"
      },
      "execution_count": 11,
      "outputs": []
    },
    {
      "cell_type": "code",
      "source": [
        "train_ds=FashionMNIST('/content/', transform=img_transforms, train=True, download=True)\n",
        "val_ds=FashionMNIST('/content/', transform=img_transforms, train=False, download=True)"
      ],
      "metadata": {
        "id": "TN7z2jrlJblO"
      },
      "execution_count": 12,
      "outputs": []
    },
    {
      "cell_type": "code",
      "source": [
        "from torch.utils.data import DataLoader\n",
        "train_dl=DataLoader(train_ds, batch_size=128, shuffle=True)\n",
        "val_dl=DataLoader(val_ds, batch_size=128, shuffle=True)"
      ],
      "metadata": {
        "id": "Q4xj3KLtKDZj"
      },
      "execution_count": 13,
      "outputs": []
    },
    {
      "cell_type": "code",
      "source": [
        "import torch.nn as nn\n",
        "class ConvAutoEncoder(nn.Module):\n",
        "  def __init__(self):\n",
        "    super().__init__()\n",
        "    self.encoder=nn.Sequential(\n",
        "        nn.Conv2d(1, 32, 3, stride=3, padding=1),\n",
        "        nn.ReLU(True),\n",
        "        nn.MaxPool2d(2, stride=2),\n",
        "        nn.Conv2d(32, 64, 3,  stride=2, padding=1),\n",
        "        nn.ReLU(True),\n",
        "        nn.MaxPool2d(2, stride=1)\n",
        "    )\n",
        "\n",
        "    self.decoder=nn.Sequential(\n",
        "        nn.ConvTranspose2d(64, 32, 3, stride=2),\n",
        "        nn.ReLU(True),\n",
        "        nn.ConvTranspose2d(32, 16, 5, stride=3, padding=1),\n",
        "        nn.ReLU(True),\n",
        "        nn.ConvTranspose2d(16, 1, 2, stride=2, padding=1),\n",
        "        nn.Tanh()\n",
        "    )\n",
        "\n",
        "  def forward(self, x):\n",
        "    x=self.encoder(x)\n",
        "    x=self.decoder(x)\n",
        "    return x"
      ],
      "metadata": {
        "id": "2NUlXRh3Kdd3"
      },
      "execution_count": 14,
      "outputs": []
    },
    {
      "cell_type": "code",
      "source": [
        "def train_batch(input, model, criterion, optimizer):\n",
        "  model.train()\n",
        "  optimizer.zero_grad()\n",
        "  output=model(input)\n",
        "  loss=criterion(output, input)\n",
        "  loss.backward()\n",
        "  optimizer.step()\n",
        "  return loss"
      ],
      "metadata": {
        "id": "bG1AEom3N2rC"
      },
      "execution_count": 15,
      "outputs": []
    },
    {
      "cell_type": "code",
      "source": [
        "@torch.no_grad()\n",
        "def validate_batch(input, model, criterion):\n",
        "  model.eval()\n",
        "  output=model(input)\n",
        "  loss=criterion(output, input)\n",
        "  return loss"
      ],
      "metadata": {
        "id": "quV2euPdN4aA"
      },
      "execution_count": 16,
      "outputs": []
    },
    {
      "cell_type": "code",
      "source": [
        "model=ConvAutoEncoder().to(device)\n",
        "criterion=nn.MSELoss()\n",
        "optimizer=torch.optim.AdamW(model.parameters(), lr=0.001, weight_decay=1e-5)"
      ],
      "metadata": {
        "id": "35tPRmeON7TU"
      },
      "execution_count": 17,
      "outputs": []
    },
    {
      "cell_type": "code",
      "source": [
        "num_epochs = 10\n",
        "\n",
        "train_losses = []\n",
        "val_losses = []\n",
        "\n",
        "for epoch in range(num_epochs):\n",
        "  epoch_train_losses = []\n",
        "  epoch_val_losses = []\n",
        "\n",
        "  # Training loop\n",
        "  N = len(train_dl)\n",
        "  for ix, (data, _) in enumerate(train_dl):\n",
        "    loss = train_batch(data, model, criterion, optimizer)\n",
        "    epoch_train_losses.append(loss.item())  # Store loss as a number\n",
        "    print(f\"Epoch {epoch+1}/{num_epochs}, Batch {ix+1}/{N}, Training Loss: {loss.item():.4f}\", end='\\r')\n",
        "\n",
        "  # Validation loop\n",
        "  N = len(val_dl)\n",
        "  for ix, (data, _) in enumerate(val_dl):\n",
        "    loss = validate_batch(data, model, criterion)\n",
        "    epoch_val_losses.append(loss.item())  # Store loss as a number\n",
        "    print(f\"Epoch {epoch+1}/{num_epochs}, Batch {ix+1}/{N}, Validation Loss: {loss.item():.4f}\", end='\\r')\n",
        "\n",
        "  # Calculate and print average losses for the epoch\n",
        "  avg_train_loss = sum(epoch_train_losses) / len(epoch_train_losses)\n",
        "  avg_val_loss = sum(epoch_val_losses) / len(epoch_val_losses)\n",
        "\n",
        "  train_losses.append(avg_train_loss)  # Store average losses for plotting later if needed\n",
        "  val_losses.append(avg_val_loss)\n",
        "\n",
        "  print(f\"Epoch {epoch+1}/{num_epochs} - Avg. Training Loss: {avg_train_loss:.4f}, Avg. Validation Loss: {avg_val_loss:.4f}\")"
      ],
      "metadata": {
        "colab": {
          "base_uri": "https://localhost:8080/"
        },
        "id": "UM4abmLjOHtk",
        "outputId": "7c27c28a-be10-4c10-ff4b-07d4b726b07d"
      },
      "execution_count": 18,
      "outputs": [
        {
          "output_type": "stream",
          "name": "stdout",
          "text": [
            "Epoch 1/10 - Avg. Training Loss: 0.1578, Avg. Validation Loss: 0.0793\n",
            "Epoch 2/10 - Avg. Training Loss: 0.0701, Avg. Validation Loss: 0.0643\n",
            "Epoch 3/10 - Avg. Training Loss: 0.0603, Avg. Validation Loss: 0.0577\n",
            "Epoch 4/10 - Avg. Training Loss: 0.0550, Avg. Validation Loss: 0.0531\n",
            "Epoch 5/10 - Avg. Training Loss: 0.0513, Avg. Validation Loss: 0.0501\n",
            "Epoch 6/10 - Avg. Training Loss: 0.0484, Avg. Validation Loss: 0.0472\n",
            "Epoch 7/10 - Avg. Training Loss: 0.0462, Avg. Validation Loss: 0.0454\n",
            "Epoch 8/10 - Avg. Training Loss: 0.0445, Avg. Validation Loss: 0.0438\n",
            "Epoch 9/10 - Avg. Training Loss: 0.0432, Avg. Validation Loss: 0.0428\n",
            "Epoch 10/10 - Avg. Training Loss: 0.0422, Avg. Validation Loss: 0.0419\n"
          ]
        }
      ]
    },
    {
      "cell_type": "code",
      "source": [
        "import matplotlib.pyplot as plt\n",
        "for _ in range(5):\n",
        " ix = np.random.randint(len(val_ds))\n",
        " im, _ = val_ds[ix]\n",
        " _im = model(im[None])[0]\n",
        " fig, ax = plt.subplots(1, 2, figsize=(3,3))\n",
        " show(im[0], ax=ax[0], title='input')\n",
        " show(_im[0], ax=ax[1], title='prediction')\n",
        " plt.tight_layout()\n",
        " plt.show()"
      ],
      "metadata": {
        "colab": {
          "base_uri": "https://localhost:8080/",
          "height": 862
        },
        "id": "Z2T77ynhOJcT",
        "outputId": "4149425e-49f4-4a47-d8aa-2c20b3772ffb"
      },
      "execution_count": 20,
      "outputs": [
        {
          "output_type": "display_data",
          "data": {
            "text/plain": [
              "<Figure size 300x300 with 2 Axes>"
            ],
            "image/png": "[encoded data removed]"
          },
          "metadata": {}
        },
        {
          "output_type": "display_data",
          "data": {
            "text/plain": [
              "<Figure size 300x300 with 2 Axes>"
            ],
            "image/png": "[encoded data removed]"
          },
          "metadata": {}
        },
        {
          "output_type": "display_data",
          "data": {
            "text/plain": [
              "<Figure size 300x300 with 2 Axes>"
            ],
            "image/png": "[encoded data removed]"
          },
          "metadata": {}
        },
        {
          "output_type": "display_data",
          "data": {
            "text/plain": [
              "<Figure size 300x300 with 2 Axes>"
            ],
            "image/png": "[encoded data removed]"
          },
          "metadata": {}
        },
        {
          "output_type": "display_data",
          "data": {
            "text/plain": [
              "<Figure size 300x300 with 2 Axes>"
            ],
            "image/png": "[encoded data removed]"
          },
          "metadata": {}
        }
      ]
    }
  ]
}