{
  "nbformat": 4,
  "nbformat_minor": 0,
  "metadata": {
    "colab": {
      "provenance": [],
      "authorship_tag": "ABX9TyN+fwY2CDJxzqa9xnAKiSrS"
    },
    "kernelspec": {
      "name": "python3",
      "display_name": "Python 3"
    },
    "language_info": {
      "name": "python"
    }
  },
  "cells": [
    {
      "cell_type": "code",
      "execution_count": null,
      "metadata": {
        "colab": {
          "base_uri": "https://localhost:8080/"
        },
        "id": "CSY330_i2O1P",
        "outputId": "a469f239-85ec-4206-eeb2-fa294470e4f9"
      },
      "outputs": [
        {
          "output_type": "stream",
          "name": "stdout",
          "text": [
            "Collecting torch_summary\n",
            "  Downloading torch_summary-1.4.5-py3-none-any.whl.metadata (18 kB)\n",
            "Downloading torch_summary-1.4.5-py3-none-any.whl (16 kB)\n",
            "Installing collected packages: torch_summary\n",
            "Successfully installed torch_summary-1.4.5\n"
          ]
        }
      ],
      "source": [
        "import torch\n",
        "import torch.nn as nn\n",
        "import torch.nn.functional as F\n",
        "from PIL import Image\n",
        "import cv2, numpy as np, pandas as pd\n",
        "import matplotlib.pyplot as plt\n",
        "%matplotlib inline\n",
        "import torchvision\n",
        "from torchvision import transforms, datasets, models\n",
        "from glob import glob\n",
        "!pip install torch_summary"
      ]
    },
    {
      "cell_type": "code",
      "source": [
        "device='cuda' if torch.cuda.is_available() else 'cpu'"
      ],
      "metadata": {
        "id": "ejgO9LzY2zO9"
      },
      "execution_count": null,
      "outputs": []
    },
    {
      "cell_type": "code",
      "source": [
        "!pip install -q kaggle\n",
        "from google.colab import files\n",
        "files.upload()"
      ],
      "metadata": {
        "id": "wuH9gJoo1SKP"
      },
      "execution_count": null,
      "outputs": []
    },
    {
      "cell_type": "code",
      "source": [
        "!mkdir -p ~/.kaggle\n",
        "!cp kaggle.json ~/.kaggle/\n",
        "!ls ~/.kaggle/\n",
        "!chmod 600 /root/.kaggle/kaggle.json"
      ],
      "metadata": {
        "id": "4Ix_jyTd1gzx"
      },
      "execution_count": null,
      "outputs": []
    },
    {
      "cell_type": "code",
      "source": [
        "!kaggle datasets download -d tongpython/cat-and-dog\n",
        "!unzip cat-and-dog.zip"
      ],
      "metadata": {
        "id": "Laxo6k7p2FcA"
      },
      "execution_count": null,
      "outputs": []
    },
    {
      "cell_type": "code",
      "source": [
        "#@ Creating training and testing folder:\n",
        "train_data_dir='/content/training_set/training_set'\n",
        "test_data_dir='/content/test_set/test_set'"
      ],
      "metadata": {
        "id": "85A_RXOq3HI2"
      },
      "execution_count": null,
      "outputs": []
    },
    {
      "cell_type": "code",
      "source": [
        "from torch.utils.data import DataLoader, Dataset\n",
        "from random import shuffle, seed\n",
        "\n",
        "seed(22)\n",
        "\n",
        "class cats_dogs(Dataset):\n",
        "  def __init__(self, folder):\n",
        "    cats=glob(folder + '/cats/*.jpg')\n",
        "    dogs=glob(folder+'/dogs/*.jpg')\n",
        "    self.fpaths=cats + dogs\n",
        "    shuffle(self.fpaths)\n",
        "    self.targets=[fpath.split('/')[-1].startswith('dog') for fpath in self.fpaths] #dog=1\n",
        "\n",
        "  def __len__(self):\n",
        "    return len(self.fpaths)\n",
        "\n",
        "  def __getitem__(self, ix):\n",
        "    f=self.fpaths[ix]\n",
        "    target=self.targets[ix]\n",
        "    im=(cv2.imread(f)[:, :, ::-1]) #BGR -> RGB\n",
        "    im=cv2.resize(im, (224, 224))\n",
        "    return torch.tensor(im/255.).permute(2, 0, 1).to(device).float(), \\\n",
        "    torch.tensor([target]).float().to(device) #permute: (H, W, C) -> (C, H, W)\n"
      ],
      "metadata": {
        "id": "_zCQsq3_3ZMm"
      },
      "execution_count": null,
      "outputs": []
    },
    {
      "cell_type": "code",
      "source": [
        "def conv_layer(n_inputs, n_outputs, kernel_size, stride=1):\n",
        "  return nn.Sequential(\n",
        "      nn.Conv2d(n_inputs, n_outputs, kernel_size, stride),\n",
        "      nn.ReLU(),\n",
        "      nn.BatchNorm2d(n_outputs),\n",
        "      nn.MaxPool2d(2)\n",
        "  )"
      ],
      "metadata": {
        "id": "iMYdKuFk2hOw"
      },
      "execution_count": null,
      "outputs": []
    },
    {
      "cell_type": "code",
      "source": [
        "def get_model():\n",
        "  model=nn.Sequential(\n",
        "      conv_layer(3, 64, 3),\n",
        "      conv_layer(64, 512, 3),\n",
        "      conv_layer(512, 512, 3),\n",
        "      conv_layer(512, 512, 3),\n",
        "      conv_layer(512, 512, 3),\n",
        "      conv_layer(512, 512, 3),\n",
        "      nn.Flatten(),\n",
        "      nn.Linear(512, 1),\n",
        "      nn.Sigmoid()\n",
        "  ).to(device)\n",
        "\n",
        "  loss_func=nn.BCELoss()\n",
        "  optimizer=torch.optim.Adam(model.parameters(), lr=1e-3)\n",
        "  return model, loss_func, optimizer"
      ],
      "metadata": {
        "id": "mlDuKkFx30Kg"
      },
      "execution_count": null,
      "outputs": []
    },
    {
      "cell_type": "code",
      "source": [
        "def get_data():\n",
        "  train=cats_dogs(train_data_dir)\n",
        "  train_dl=DataLoader(train, batch_size=32, shuffle=True, drop_last=True)\n",
        "  val=cats_dogs(test_data_dir)\n",
        "  val_dl=DataLoader(val, batch_size=32, shuffle=True, drop_last=True)\n",
        "  return train_dl, val_dl"
      ],
      "metadata": {
        "id": "d45TSXYiy8fx"
      },
      "execution_count": null,
      "outputs": []
    },
    {
      "cell_type": "code",
      "source": [
        "def train_batch(x, y, model, opt, loss_func):\n",
        "  model.train()\n",
        "  prediction=model(x)\n",
        "  batch_loss=loss_func(prediction, y)\n",
        "  batch_loss.backward()\n",
        "  optimizer.step()\n",
        "  optimizer.zero_grad()\n",
        "  return batch_loss.item()"
      ],
      "metadata": {
        "id": "fJ19IyBIzv6w"
      },
      "execution_count": null,
      "outputs": []
    },
    {
      "cell_type": "code",
      "source": [
        "@torch.no_grad()\n",
        "def accuracy(x, y, model):\n",
        "  prediction=model(x)\n",
        "  is_correct=(prediction > 0.5) == y\n",
        "  return is_correct.cpu().numpy().tolist()"
      ],
      "metadata": {
        "id": "h6uN3Zga0Q8A"
      },
      "execution_count": null,
      "outputs": []
    },
    {
      "cell_type": "code",
      "source": [
        "@torch.no_grad()\n",
        "def val_loss(x, y, model):\n",
        "  prediction=model(x)\n",
        "  val_loss=loss_func(prediction, y)\n",
        "  return val_loss.item()"
      ],
      "metadata": {
        "id": "rNRW1Hlt09g5"
      },
      "execution_count": null,
      "outputs": []
    }
  ]
}