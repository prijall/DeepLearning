{
  "nbformat": 4,
  "nbformat_minor": 0,
  "metadata": {
    "colab": {
      "provenance": [],
      "authorship_tag": "ABX9TyMlChWlZu15jbKyUmPEraxI"
    },
    "kernelspec": {
      "name": "python3",
      "display_name": "Python 3"
    },
    "language_info": {
      "name": "python"
    }
  },
  "cells": [
    {
      "cell_type": "code",
      "execution_count": 3,
      "metadata": {
        "colab": {
          "base_uri": "https://localhost:8080/"
        },
        "id": "CSY330_i2O1P",
        "outputId": "a469f239-85ec-4206-eeb2-fa294470e4f9"
      },
      "outputs": [
        {
          "output_type": "stream",
          "name": "stdout",
          "text": [
            "Collecting torch_summary\n",
            "  Downloading torch_summary-1.4.5-py3-none-any.whl.metadata (18 kB)\n",
            "Downloading torch_summary-1.4.5-py3-none-any.whl (16 kB)\n",
            "Installing collected packages: torch_summary\n",
            "Successfully installed torch_summary-1.4.5\n"
          ]
        }
      ],
      "source": [
        "import torch\n",
        "import torch.nn as nn\n",
        "import torch.nn.functional as F\n",
        "from PIL import Image\n",
        "import cv2, numpy as np, pandas as pd\n",
        "import matplotlib.pyplot as plt\n",
        "%matplotlib inline\n",
        "import torchvision\n",
        "from torchvision import transforms, datasets, models\n",
        "from glob import glob\n",
        "!pip install torch_summary"
      ]
    },
    {
      "cell_type": "code",
      "source": [
        "device='cuda' if torch.cuda.is_available() else 'cpu'"
      ],
      "metadata": {
        "id": "ejgO9LzY2zO9"
      },
      "execution_count": 4,
      "outputs": []
    },
    {
      "cell_type": "code",
      "source": [
        "#@ Creating training and testing folder:\n",
        "train_data_dir='/content/training_set/training_set'\n",
        "test_data_dir='/content/test_set/test_set'"
      ],
      "metadata": {
        "id": "85A_RXOq3HI2"
      },
      "execution_count": null,
      "outputs": []
    },
    {
      "cell_type": "code",
      "source": [
        "from torch.utils.data import DataLoader, Dataset\n",
        "from random import shuffle, seed\n",
        "\n",
        "seed(22)\n",
        "\n",
        "class cats_Dogs(Dataset):\n",
        "  def __init__(self, folder):\n",
        "    cats=glob(folder + '/cats/*.jpg')\n",
        "    dogs=glob(folder+'/dogs/*.jpg')\n",
        "    self.fpaths=cats + dogs\n",
        "    shuffle(self.fpaths)\n",
        "    self.targets=[fpath.split('/')[-1].startswith('dog') for fpath in self.fpaths] #dog=1\n",
        "\n",
        "  def __len__(self):\n",
        "    return len(self.fpaths)\n",
        "\n",
        "  def __getitem__(self, ix):\n",
        "    f=self.fpaths[ix]\n",
        "    target=self.targets[ix]\n",
        "    im=(cv2.imread(f)[:, :, ::-1]) #BGR -> RGB\n",
        "    im=cv2.resize(im, (224, 224))\n",
        "    return torch.tensor(im/255.).permute(2, 0, 1).to(device).float(), \\\n",
        "    torch.tensor([target]).float().to(device) #permute: (H, W, C) -> (C, H, W)\n"
      ],
      "metadata": {
        "id": "_zCQsq3_3ZMm"
      },
      "execution_count": null,
      "outputs": []
    }
  ]
}