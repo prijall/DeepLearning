{
  "nbformat": 4,
  "nbformat_minor": 0,
  "metadata": {
    "colab": {
      "provenance": [],
      "gpuType": "T4",
      "authorship_tag": "ABX9TyPrWmtbWmy4VLd4btXbe/QX"
    },
    "kernelspec": {
      "name": "python3",
      "display_name": "Python 3"
    },
    "language_info": {
      "name": "python"
    },
    "accelerator": "GPU"
  },
  "cells": [
    {
      "cell_type": "code",
      "execution_count": 7,
      "metadata": {
        "colab": {
          "base_uri": "https://localhost:8080/"
        },
        "id": "y5q-dUnruSmK",
        "outputId": "4220b51b-155b-4698-dd0f-2371eac3da22"
      },
      "outputs": [
        {
          "output_type": "stream",
          "name": "stdout",
          "text": [
            "Overwriting kaggle.json\n"
          ]
        }
      ],
      "source": [
        "%%writefile kaggle.json\n",
        "{\"username\":\"xx\",\"key\":\"xx\"}"
      ]
    },
    {
      "cell_type": "code",
      "source": [
        "\n",
        "%pip install -q kaggle torch_snippets"
      ],
      "metadata": {
        "id": "Xf08qIc8ujUZ"
      },
      "execution_count": 8,
      "outputs": []
    },
    {
      "cell_type": "code",
      "source": [
        "!mkdir -p ~/.kaggle\n",
        "!cp kaggle.json ~/.kaggle/\n",
        "!ls ~/.kaggle\n",
        "!chmod 600 /root/.kaggle/kaggle.json\n",
        "!kaggle datasets download -d iarunava/cell-images-for-detecting-malaria\n",
        "!unzip -qq cell-images-for-detecting-malaria.zip"
      ],
      "metadata": {
        "colab": {
          "base_uri": "https://localhost:8080/"
        },
        "id": "hIpMo8t3uxsY",
        "outputId": "a952cc09-565c-4882-89c4-5653c80c724c"
      },
      "execution_count": 9,
      "outputs": [
        {
          "output_type": "stream",
          "name": "stdout",
          "text": [
            "kaggle.json\n",
            "Dataset URL: https://www.kaggle.com/datasets/iarunava/cell-images-for-detecting-malaria\n",
            "License(s): unknown\n",
            "Downloading cell-images-for-detecting-malaria.zip to /content\n",
            " 98% 661M/675M [00:06<00:00, 109MB/s]\n",
            "100% 675M/675M [00:06<00:00, 103MB/s]\n"
          ]
        }
      ]
    },
    {
      "cell_type": "code",
      "source": [
        "from torch_snippets import *"
      ],
      "metadata": {
        "id": "8W9L9CnmwTxv"
      },
      "execution_count": 10,
      "outputs": []
    },
    {
      "cell_type": "code",
      "source": [
        "#@ Specifying the indices corresponding to the output class:\n",
        "id2int={'Parasitized': 0, 'Uninfected':1 }"
      ],
      "metadata": {
        "id": "0ayIxcMFwYeX"
      },
      "execution_count": 11,
      "outputs": []
    },
    {
      "cell_type": "code",
      "source": [
        "#@ Transformation for the top of images:\n",
        "from torchvision import transforms as T\n",
        "trn_tfms=T.Compose([\n",
        "                   T.ToPILImage(),\n",
        "                   T.Resize(128),\n",
        "                   T.CenterCrop(128),\n",
        "                   T.ColorJitter(brightness=(0.95, 1.05),\n",
        "                                 contrast=(0.95, 1.05),\n",
        "                                 saturation=(0.95, 1.05),\n",
        "                                 hue=0.05),\n",
        "                   T.RandomAffine(5, translate=(0.01, 0.1)),\n",
        "                   T.ToTensor(),\n",
        "                   T.Normalize(mean=[0.5, 0.5, 0.5],\n",
        "                               std=[0.5, 0.5, 0.5]),\n",
        "                      ])"
      ],
      "metadata": {
        "id": "brDKV1R4ww5R"
      },
      "execution_count": 13,
      "outputs": []
    },
    {
      "cell_type": "code",
      "source": [
        "val_tfms=T.Compose([\n",
        "                    T.ToPILImage(),\n",
        "                    T.Resize(128),\n",
        "                    T.CenterCrop(128),\n",
        "                    T.ToTensor(),\n",
        "                    T.Normalize(mean=[0.5, 0.5, 0.5],\n",
        "                                std=[0.5, 0.5, 0.5])\n",
        "])"
      ],
      "metadata": {
        "id": "_PYmOLeGyEvo"
      },
      "execution_count": 15,
      "outputs": []
    }
  ]
}