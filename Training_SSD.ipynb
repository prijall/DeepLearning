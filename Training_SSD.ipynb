{
  "nbformat": 4,
  "nbformat_minor": 0,
  "metadata": {
    "colab": {
      "provenance": [],
      "gpuType": "T4",
      "authorship_tag": "ABX9TyPJzOzGTk8sdSyNZrdYa5kt"
    },
    "kernelspec": {
      "name": "python3",
      "display_name": "Python 3"
    },
    "language_info": {
      "name": "python"
    },
    "accelerator": "GPU"
  },
  "cells": [
    {
      "cell_type": "code",
      "execution_count": 1,
      "metadata": {
        "colab": {
          "base_uri": "https://localhost:8080/"
        },
        "id": "uBezZ2H2Zs9Y",
        "outputId": "1e0cd63d-43e1-4a03-9182-0f5a4a614b52"
      },
      "outputs": [
        {
          "output_type": "stream",
          "name": "stdout",
          "text": [
            "\u001b[?25l     \u001b[90m━━━━━━━━━━━━━━━━━━━━━━━━━━━━━━━━━━━━━━━━\u001b[0m \u001b[32m0.0/78.6 kB\u001b[0m \u001b[31m?\u001b[0m eta \u001b[36m-:--:--\u001b[0m\r\u001b[2K     \u001b[90m━━━━━━━━━━━━━━━━━━━━━━━━━━━━━━━━━━━━━━━━\u001b[0m \u001b[32m78.6/78.6 kB\u001b[0m \u001b[31m7.4 MB/s\u001b[0m eta \u001b[36m0:00:00\u001b[0m\n",
            "\u001b[?25h  Preparing metadata (setup.py) ... \u001b[?25l\u001b[?25hdone\n",
            "\u001b[2K   \u001b[90m━━━━━━━━━━━━━━━━━━━━━━━━━━━━━━━━━━━━━━━━\u001b[0m \u001b[32m103.0/103.0 kB\u001b[0m \u001b[31m9.8 MB/s\u001b[0m eta \u001b[36m0:00:00\u001b[0m\n",
            "\u001b[2K   \u001b[90m━━━━━━━━━━━━━━━━━━━━━━━━━━━━━━━━━━━━━━━━\u001b[0m \u001b[32m82.7/82.7 kB\u001b[0m \u001b[31m7.3 MB/s\u001b[0m eta \u001b[36m0:00:00\u001b[0m\n",
            "\u001b[2K   \u001b[90m━━━━━━━━━━━━━━━━━━━━━━━━━━━━━━━━━━━━━━━━\u001b[0m \u001b[32m119.4/119.4 kB\u001b[0m \u001b[31m10.2 MB/s\u001b[0m eta \u001b[36m0:00:00\u001b[0m\n",
            "\u001b[2K   \u001b[90m━━━━━━━━━━━━━━━━━━━━━━━━━━━━━━━━━━━━━━━━\u001b[0m \u001b[32m62.5/62.5 kB\u001b[0m \u001b[31m5.8 MB/s\u001b[0m eta \u001b[36m0:00:00\u001b[0m\n",
            "\u001b[2K   \u001b[90m━━━━━━━━━━━━━━━━━━━━━━━━━━━━━━━━━━━━━━━━\u001b[0m \u001b[32m218.7/218.7 kB\u001b[0m \u001b[31m19.1 MB/s\u001b[0m eta \u001b[36m0:00:00\u001b[0m\n",
            "\u001b[2K   \u001b[90m━━━━━━━━━━━━━━━━━━━━━━━━━━━━━━━━━━━━━━━━\u001b[0m \u001b[32m162.6/162.6 kB\u001b[0m \u001b[31m14.7 MB/s\u001b[0m eta \u001b[36m0:00:00\u001b[0m\n",
            "\u001b[2K   \u001b[90m━━━━━━━━━━━━━━━━━━━━━━━━━━━━━━━━━━━━━━━━\u001b[0m \u001b[32m99.0/99.0 kB\u001b[0m \u001b[31m9.4 MB/s\u001b[0m eta \u001b[36m0:00:00\u001b[0m\n",
            "\u001b[2K   \u001b[90m━━━━━━━━━━━━━━━━━━━━━━━━━━━━━━━━━━━━━━━━\u001b[0m \u001b[32m6.0/6.0 MB\u001b[0m \u001b[31m100.3 MB/s\u001b[0m eta \u001b[36m0:00:00\u001b[0m\n",
            "\u001b[2K   \u001b[90m━━━━━━━━━━━━━━━━━━━━━━━━━━━━━━━━━━━━━━━━\u001b[0m \u001b[32m469.0/469.0 kB\u001b[0m \u001b[31m34.7 MB/s\u001b[0m eta \u001b[36m0:00:00\u001b[0m\n",
            "\u001b[2K   \u001b[90m━━━━━━━━━━━━━━━━━━━━━━━━━━━━━━━━━━━━━━━━\u001b[0m \u001b[32m3.1/3.1 MB\u001b[0m \u001b[31m91.8 MB/s\u001b[0m eta \u001b[36m0:00:00\u001b[0m\n",
            "\u001b[?25h  Building wheel for typing (setup.py) ... \u001b[?25l\u001b[?25hdone\n",
            "Cloning into 'ssd-utils'...\n",
            "remote: Enumerating objects: 9, done.\u001b[K\n",
            "remote: Counting objects: 100% (9/9), done.\u001b[K\n",
            "remote: Compressing objects: 100% (8/8), done.\u001b[K\n",
            "remote: Total 9 (delta 0), reused 0 (delta 0), pack-reused 0 (from 0)\u001b[K\n",
            "Receiving objects: 100% (9/9), 13.65 KiB | 6.83 MiB/s, done.\n",
            "/content/ssd-utils\n"
          ]
        }
      ],
      "source": [
        "#@ Downloading necessary libraries and dependencies:\n",
        "import os\n",
        "\n",
        "if not os.path.exists('open-images-bus-trucks'):\n",
        "  !pip install -q torch_snippets\n",
        "  !wget --quiet https://www.dropbox.com/s/agmzwk95v96ihic/open-images-bus-trucks.tar.xz\n",
        "  !tar -xf open-images-bus-trucks.tar.xz\n",
        "  !rm open-images-bus-trucks.tar.xz\n",
        "  !git clone https://github.com/sizhky/ssd-utils/\n",
        "%cd ssd-utils"
      ]
    },
    {
      "cell_type": "code",
      "source": [
        "#@ Data Processing:\n",
        "from torch_snippets import *\n",
        "DATA_ROOT = '../open-images-bus-trucks/'\n",
        "IMAGE_ROOT=f'{DATA_ROOT}/images'\n",
        "DF_RAW=pd.read_csv(f'{DATA_ROOT}/df.csv')\n",
        "df=DF_RAW.copy()\n",
        "df=df[df['ImageID'].isin(df['ImageID'].unique().tolist())]\n",
        "label2target={l:t+1 for t,l in enumerate(DF_RAW['LabelName'].unique())}\n",
        "label2target['background']=0\n",
        "target2label={t:l for l, t in label2target.items()}\n",
        "background_class=label2target['background']\n",
        "num_classes=len(label2target)"
      ],
      "metadata": {
        "id": "p9FUDdbfbDju"
      },
      "execution_count": 3,
      "outputs": []
    },
    {
      "cell_type": "code",
      "source": [
        "import torch\n",
        "device='cuda' if torch.cuda.is_available() else 'cpu'"
      ],
      "metadata": {
        "id": "vPQ_LjvAcrzY"
      },
      "execution_count": 5,
      "outputs": []
    },
    {
      "cell_type": "code",
      "source": [
        "#@ Preparing Data:\n",
        "import collections\n",
        "from PIL import Image\n",
        "from torchvision import transforms\n",
        "import glob\n",
        "\n",
        "normalize=transforms.Normalize(\n",
        "             mean=[0.485, 0.456, 0.406],\n",
        "             std=[0.229, 0.224, 0.225]\n",
        ")\n",
        "\n",
        "denormalize=transforms.Normalize(\n",
        "    mean=[-0.485/0.229, 0.456/0.224, 0.406/0.225],\n",
        "    std=[1/0.229, 1/0.224, 1/0.255]\n",
        ")\n",
        "\n",
        "def preprocess_image(img):\n",
        "  img=torch.tensor(img).permute(2, 0, 1)\n",
        "  img=normalize(img)\n",
        "  return img.to(device).float()\n",
        "\n",
        "class OpenDataset(torch.utils.data.Dataset):\n",
        "  w, h= 300, 300\n",
        "  def __init__(self, df, image_dir=IMAGE_ROOT):\n",
        "    self.image_dir=image_dir\n",
        "    self.files=glob.glob(self.image_dir+'/')\n",
        "    self.df=df\n",
        "    self.image_infos=df.ImageID.unique()\n",
        "    logger.info(f'{len(self)} items loaded')\n",
        "\n",
        "  def __getitem___(self, ix):\n",
        "    image_id=self.image_infos[ix]\n",
        "    img_path=find(image_id, self.files)\n",
        "    img=Image.open(img_path).convert(\"RGB\")\n",
        "    img=np.array(img.resize((self.w, self.h), resample=Image.BILINEAR))/255.\n",
        "    data=df[df['ImageID']==image_id]\n",
        "    labels=data['LabelName'].values.tolist()\n",
        "    data=data[['XMin', 'YMin', 'XMax', 'YMax']].values\n",
        "    data[:, [0, 2]] *= self.w\n",
        "    data[:, [1, 3]] *= self.h\n",
        "    boxes=data.astype(np.uint32).tolist()\n",
        "    return img, boxes, labels\n"
      ],
      "metadata": {
        "id": "1aSmmZf6dASI"
      },
      "execution_count": 7,
      "outputs": []
    }
  ]
}