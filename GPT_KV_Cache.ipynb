{
  "nbformat": 4,
  "nbformat_minor": 0,
  "metadata": {
    "colab": {
      "provenance": [],
      "gpuType": "T4",
      "authorship_tag": "ABX9TyO1zyU7eWUQMq7U/Dt2Pa3h"
    },
    "kernelspec": {
      "name": "python3",
      "display_name": "Python 3"
    },
    "language_info": {
      "name": "python"
    },
    "accelerator": "GPU"
  },
  "cells": [
    {
      "cell_type": "code",
      "execution_count": 3,
      "metadata": {
        "id": "8OwEj1d1geVS"
      },
      "outputs": [],
      "source": [
        "import torch\n",
        "import torch.nn as nn\n",
        "import torch.nn.functional as F\n",
        "device='cuda' if torch.cuda.is_available() else 'cpu'\n",
        "\n",
        "embed_size=256\n",
        "dropout=0\n",
        "block_size=1024"
      ]
    },
    {
      "cell_type": "code",
      "source": [
        "class Head(nn.Module):\n",
        "  def __init__(self, head_size):\n",
        "    super().__init__()\n",
        "    self.query=nn.Linear(embed_size, head_size, bias=False)\n",
        "    self.key=nn.Linear(embed_size, head_size, bias=False)\n",
        "    self.value=nn.Linear(embed_size, head_size, bias=False)\n",
        "    self.dropout=nn.Dropout(dropout)\n",
        "\n",
        "    #caching:\n",
        "    self.k_cache=None\n",
        "    self.v_cache=None\n",
        "    self.cache_index=0\n",
        "\n",
        "  def forward(self, x):\n",
        "    B, T, C=x.shape\n",
        "    q=self.query(x)\n",
        "    k=self.key(x)\n",
        "    v=self.value(x)\n",
        "\n",
        "    #initializing KV Caching if empty:\n",
        "    if self.k_cache is None or self.v_cache is None:\n",
        "      #block size is the context length(for prediction of next token, the max no of tokens, current token can look back up to ) and it will be the max no of tokens we will be caching\n",
        "      self.k_cache=torch.zeros(B, block_size, self.head_size, device=x.device)\n",
        "      self.v_cache=torch.zeros(B, block_size, self.head_size, device=x.device)\n",
        "      self.cache_index=0\n",
        "\n",
        "    #Updating the cache:\n",
        "    if self.cache_index + T <=block_size:\n",
        "      self.k_cache[:, self.cache_index:self.cache_index+T, :]=k\n",
        "      self.v_cache[:, self.cache_index:self.cache_index+T, :]=v\n",
        "\n",
        "      #Note: here we pass only one token at a time, T will always be 1\n",
        "      #the code above are equivalent to performing self.k_cache[:, self.cache_index, :]=k\n",
        "    else:\n",
        "      #shifting one token back:\n",
        "      shift= self.cache_index + T - block_size #shift is always 1\n",
        "      self.k_cache[:, :-shift, :]=self.k_cache[:, shift:, :].clone()\n",
        "      self.v_cache[:, :-shift, :]=self.v_cache[:, shift:, :].clone()\n",
        "\n",
        "      #store new values:\n",
        "      self.k_cache[:, -T:, :]=k\n",
        "      self.v_cache[:, -T, :]=v\n",
        "\n",
        "    #Updating Cache index:\n",
        "    self.cache_index=min(self.cache_index + T, block_size)\n",
        "\n",
        "    wei= q @ self.k_cache.transpose(2, 1) / self.head_size **0.5\n",
        "    #masking is necessary if using multiple tokens decoding at once\n",
        "    wei=wei.masked_fill(self.tril[:T, :T]==0, float('-inf'))\n",
        "    wei=F.softmax(wei, dim=2)\n",
        "    wei=self.dropout(wei)\n",
        "    out=wei @ self.v_cache\n",
        "\n",
        "    return out"
      ],
      "metadata": {
        "id": "PXbPufi3hSfp"
      },
      "execution_count": 2,
      "outputs": []
    },
    {
      "cell_type": "code",
      "source": [
        "k_cache = torch.zeros(1, 3, 3)\n",
        "v_cache = torch.zeros(1, 3, 3)\n",
        "\n",
        "steps = 3\n",
        "for i in range(steps):\n",
        "  k_cache[:, i, :] = torch.randint(10, (1, 3))\n",
        "print(\"k_cache Before:\\n\", k_cache)\n",
        "\n",
        "shift = 1\n",
        "k_cache[:, :-shift, :] = k_cache[:, shift:, :].clone()\n",
        "v_cache[:, :-shift, :] = v_cache[:, shift:, :].clone()\n",
        "print(\"k_cache After:\\n\", k_cache)"
      ],
      "metadata": {
        "colab": {
          "base_uri": "https://localhost:8080/"
        },
        "id": "DuYfXAoftRRv",
        "outputId": "cb7ce45b-677f-47d4-b8d6-832f45d7fe58"
      },
      "execution_count": 5,
      "outputs": [
        {
          "output_type": "stream",
          "name": "stdout",
          "text": [
            "k_cache Before:\n",
            " tensor([[[2., 2., 5.],\n",
            "         [1., 0., 3.],\n",
            "         [8., 5., 2.]]])\n",
            "k_cache After:\n",
            " tensor([[[1., 0., 3.],\n",
            "         [8., 5., 2.],\n",
            "         [8., 5., 2.]]])\n"
          ]
        }
      ]
    }
  ]
}