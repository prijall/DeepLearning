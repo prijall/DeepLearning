{
  "nbformat": 4,
  "nbformat_minor": 0,
  "metadata": {
    "colab": {
      "provenance": [],
      "authorship_tag": "ABX9TyOBHnti4BFevYdncUykMxBy"
    },
    "kernelspec": {
      "name": "python3",
      "display_name": "Python 3"
    },
    "language_info": {
      "name": "python"
    }
  },
  "cells": [
    {
      "cell_type": "code",
      "execution_count": null,
      "metadata": {
        "id": "zn0blETSGrzR"
      },
      "outputs": [],
      "source": [
        "!pip install torch_snippets\n",
        "from torch_snippets import inspect, show, np, torch, nn\n",
        "from torchvision.models import resnet50\n",
        "model=resnet50(pretrained=True)\n",
        "for param in model.parameters():\n",
        "  param.requires_grad=False\n",
        "model.eval()\n",
        "import requests\n",
        "from PIL import Image\n",
        "\n",
        "url= 'https://lionsvalley.co.za/wp-content/uploads/2015/11/africanelephant-square.jpg'\n",
        "original_image=Image.open(requests.get(url, stream=True).raw).convert('RGB')\n",
        "original_image=np.array(original_image)\n",
        "original_image=torch.Tensor(original_image)"
      ]
    },
    {
      "cell_type": "code",
      "source": [
        "image_net_classes== 'https://gist.githubusercontent.com/ \\\n",
        "yrevar/942d3a0ac09ec9e5eb3a/raw/238f720ff059c1f82f368259d1ca4ffa5dd8f9f5/ \\\n",
        "imagenet1000_clsidx_to_labels.txt'\n",
        "image_net_classes=requests.get(image_net_classes).text\n",
        "image_net_ids=eval(image_net_classes)\n",
        "image_net_classes={i:j for j, i in image_net_ids.item()}"
      ],
      "metadata": {
        "id": "BJIpzC5tIA3p"
      },
      "execution_count": null,
      "outputs": []
    }
  ]
}