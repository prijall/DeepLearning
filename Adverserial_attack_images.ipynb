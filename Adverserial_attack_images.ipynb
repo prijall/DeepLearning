{
  "nbformat": 4,
  "nbformat_minor": 0,
  "metadata": {
    "colab": {
      "provenance": [],
      "authorship_tag": "ABX9TyN6Je8VxbXI4tUV9jHTlXF0"
    },
    "kernelspec": {
      "name": "python3",
      "display_name": "Python 3"
    },
    "language_info": {
      "name": "python"
    }
  },
  "cells": [
    {
      "cell_type": "code",
      "execution_count": null,
      "metadata": {
        "id": "zn0blETSGrzR"
      },
      "outputs": [],
      "source": [
        "!pip install torch_snippets\n",
        "from torch_snippets import inspect, show, np, torch, nn\n",
        "from torchvision.models import resnet50\n",
        "model=resnet50(pretrained=True)\n",
        "for param in model.parameters():\n",
        "  param.requires_grad=False\n",
        "model.eval()\n",
        "import requests\n",
        "from PIL import Image\n",
        "\n",
        "url= 'https://lionsvalley.co.za/wp-content/uploads/2015/11/africanelephant-square.jpg'\n",
        "original_image=Image.open(requests.get(url, stream=True).raw).convert('RGB')\n",
        "original_image=np.array(original_image)\n",
        "original_image=torch.Tensor(original_image)"
      ]
    },
    {
      "cell_type": "code",
      "source": [
        "image_net_classes== 'https://gist.githubusercontent.com/ \\\n",
        "yrevar/942d3a0ac09ec9e5eb3a/raw/238f720ff059c1f82f368259d1ca4ffa5dd8f9f5/ \\\n",
        "imagenet1000_clsidx_to_labels.txt'\n",
        "image_net_classes=requests.get(image_net_classes).text\n",
        "image_net_ids=eval(image_net_classes)\n",
        "image_net_classes={i:j for j, i in image_net_ids.item()}"
      ],
      "metadata": {
        "id": "BJIpzC5tIA3p"
      },
      "execution_count": null,
      "outputs": []
    },
    {
      "cell_type": "code",
      "source": [
        "#@ function to normalize(img2tensor) and denormalize(tensor2img):\n",
        "from torchvision import transforms as T\n",
        "from torch.nn import functional as f\n",
        "\n",
        "normalize=T.Normalize([0.485, 0.456, 0.406])\n",
        "\n",
        "denormalize=T.Normalize(\n",
        "    [-0.485/0.229, -0.456/0.224, -0.406/0.225], #reversing mean normalization\n",
        "    [1/0.229, 1/0.224, 1/0.225] #reversing std\n",
        ")\n",
        "\n",
        "def Image2tensor(input):\n",
        "  x=normalize(input.clone().permute(2, 0, 1)/255.)[None]\n",
        "  return x\n",
        "\n",
        "def tensor2Image(input):\n",
        "  x=(denormalize(input[0].clone()).permute(1, 2, 0)*255.).type(torch.uint8)\n",
        "  return x"
      ],
      "metadata": {
        "id": "nD8_nxqszlRl"
      },
      "execution_count": null,
      "outputs": []
    },
    {
      "cell_type": "code",
      "source": [
        "def predict_on_target(input):\n",
        "  model.eval()\n",
        "  show(input)\n",
        "  input=Image2tensor(input)\n",
        "  pred=model(input)\n",
        "  pred=F.softmax(pred, dim=-1)[0]\n",
        "  prob, clss=torch.max(pred, 0)\n",
        "  clss=image_net_ids[clss.item()]\n",
        "  print(f'PREDICTION: {clss} @ {prob.item()}')"
      ],
      "metadata": {
        "id": "j5IhRNjV2LiX"
      },
      "execution_count": null,
      "outputs": []
    }
  ]
}