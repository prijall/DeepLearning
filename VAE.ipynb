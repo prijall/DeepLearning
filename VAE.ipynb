{
  "nbformat": 4,
  "nbformat_minor": 0,
  "metadata": {
    "colab": {
      "provenance": [],
      "authorship_tag": "ABX9TyMebRNbSNZ2a7Zx/cX6dMO6"
    },
    "kernelspec": {
      "name": "python3",
      "display_name": "Python 3"
    },
    "language_info": {
      "name": "python"
    }
  },
  "cells": [
    {
      "cell_type": "code",
      "execution_count": null,
      "metadata": {
        "id": "nSg44qpOGr6y"
      },
      "outputs": [],
      "source": [
        "import torch\n",
        "import torch.nn as nn\n"
      ]
    },
    {
      "cell_type": "markdown",
      "source": [
        "### How does VAE Works?\n",
        "1) The output of the encoder is two vectors:\n",
        "- Mean vector\n",
        "- Standard Deviation\n",
        "\n",
        "2) We sum the two vectors(mean and variation) which is mutliplied by small random number. The dimensions of the resultant vector will same to that of each vectors.\n",
        "\n",
        "3) The resultant vector is passed to the decoder to fetch the images.\n",
        "\n",
        "4) Loss value optimization is combination of:\n",
        "- KL Divergence loss: measures the deviation of distribution of mean vector and standard variance vector from 0 and 1 resp.\n",
        "-  MSE: optimization we use to reconstruct the image."
      ],
      "metadata": {
        "id": "5G9cd7tFJrG1"
      }
    },
    {
      "cell_type": "code",
      "source": [
        "class VAE(nn.Module):\n",
        "  def __init__(self, x_dim, h_dim1, h_dim2, latent_dim):\n",
        "    super(VAE, self).__init__()\n",
        "    #encoder section:\n",
        "    self.d1=nn.Linear(x_dim, h_dim1) #input -> hidden layer 1\n",
        "    self.d2=nn.Linear(h_dim1, h_dim2) #hidden layer 1 -> hidden layer 2\n",
        "\n",
        "    # mean and standard variation vectors:\n",
        "    self.d31=nn.Linear(h_dim2, latent_dim) # hidden layer 2 -> Mean\n",
        "    self.d32=nn.Linear(h_dim2, latent_dim) # hidden layer 2 -> log variance\n",
        "\n",
        "    #decoder section:\n",
        "    self.d4=nn.Linear(latent_dim, h_dim2) # latent -> hidden layer 2\n",
        "    self.d5=nn.Linear(h_dim2, h_dim1) #hidden layer 2 -> hidden layer 1\n",
        "    self.d6=nn.Linear(h_dim1, x_dim)"
      ],
      "metadata": {
        "id": "7zzhpvWtG_W2"
      },
      "execution_count": null,
      "outputs": []
    }
  ]
}