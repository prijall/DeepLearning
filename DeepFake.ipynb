{
  "nbformat": 4,
  "nbformat_minor": 0,
  "metadata": {
    "colab": {
      "provenance": [],
      "authorship_tag": "ABX9TyNqqLsVLmGfraOiOJBO7RDZ"
    },
    "kernelspec": {
      "name": "python3",
      "display_name": "Python 3"
    },
    "language_info": {
      "name": "python"
    }
  },
  "cells": [
    {
      "cell_type": "code",
      "execution_count": null,
      "metadata": {
        "id": "vVwcP_k1d2p_"
      },
      "outputs": [],
      "source": [
        "import torch\n",
        "import torch.nn as nn\n",
        "import cv2, os"
      ]
    },
    {
      "cell_type": "code",
      "source": [
        "face_cascade=cv2.CascadeClassifier()"
      ],
      "metadata": {
        "id": "PixTFLGMgrCu"
      },
      "execution_count": null,
      "outputs": []
    },
    {
      "cell_type": "code",
      "source": [
        "#@ For Cropping face in image:\n",
        "def crop_face(img):\n",
        "  gray=cv2.cvtColor(img, cv2.COLOR_BGR2RGB)\n",
        "  faces=face_cascade.detectMultiScale(gray, 1.3, 5)\n",
        "  if(len(faces)>0):\n",
        "    for (x, y, w, h) in faces:\n",
        "      img2=img[y:(y+h), x:(x+w), :]\n",
        "    img2=cv2.resize(img2, (256, 256))\n",
        "    return img2, True\n",
        "  else:\n",
        "    return img, False"
      ],
      "metadata": {
        "id": "nvA3NCphfmxl"
      },
      "execution_count": null,
      "outputs": []
    },
    {
      "cell_type": "code",
      "source": [
        "#@ Helper Function:\n",
        "def _ConvLayer(in_features, out_features):\n",
        "  return nn.Sequential(\n",
        "      nn.Conv2d(in_features, out_features,\n",
        "                kernel_size=5, stride=2, padding2),\n",
        "      nn.LeakyReLU(0.1, inplace=True)\n",
        "  )\n",
        "\n",
        "def _UpScale(in_features, out_features):\n",
        "  return nn.Sequential(\n",
        "      nn.ConvTranspose2d(in_features, out_features,\n",
        "                         kernel_size=2, stride=2, padding=0),\n",
        "      nn.LeakyReLU(0.1, inplace=True)\n",
        "  )\n",
        "\n",
        "class Reshape(nn.Module):\n",
        "  def forward(self, input):\n",
        "    output=input.view(-1, 1024, 4, 4)\n",
        "    return output"
      ],
      "metadata": {
        "id": "F9fKpMW1eUi-"
      },
      "execution_count": null,
      "outputs": []
    }
  ]
}