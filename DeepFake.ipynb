{
  "nbformat": 4,
  "nbformat_minor": 0,
  "metadata": {
    "colab": {
      "provenance": [],
      "gpuType": "T4",
      "authorship_tag": "ABX9TyMSy8IRmgqe/I2Tb1F3ZaCz"
    },
    "kernelspec": {
      "name": "python3",
      "display_name": "Python 3"
    },
    "language_info": {
      "name": "python"
    },
    "accelerator": "GPU"
  },
  "cells": [
    {
      "cell_type": "code",
      "execution_count": 5,
      "metadata": {
        "id": "vVwcP_k1d2p_",
        "colab": {
          "base_uri": "https://localhost:8080/"
        },
        "outputId": "a3eda0bf-1e09-4485-fbed-89d3474ed7ca"
      },
      "outputs": [
        {
          "output_type": "stream",
          "name": "stdout",
          "text": [
            "\u001b[?25l     \u001b[90m━━━━━━━━━━━━━━━━━━━━━━━━━━━━━━━━━━━━━━━━\u001b[0m \u001b[32m0.0/78.6 kB\u001b[0m \u001b[31m?\u001b[0m eta \u001b[36m-:--:--\u001b[0m\r\u001b[2K     \u001b[90m━━━━━━━━━━━━━━━━━━━━━━━━━━━━━━━━━━━━━━━━\u001b[0m \u001b[32m78.6/78.6 kB\u001b[0m \u001b[31m6.3 MB/s\u001b[0m eta \u001b[36m0:00:00\u001b[0m\n",
            "\u001b[?25h  Preparing metadata (setup.py) ... \u001b[?25l\u001b[?25hdone\n",
            "\u001b[2K   \u001b[90m━━━━━━━━━━━━━━━━━━━━━━━━━━━━━━━━━━━━━━━━\u001b[0m \u001b[32m108.5/108.5 kB\u001b[0m \u001b[31m10.5 MB/s\u001b[0m eta \u001b[36m0:00:00\u001b[0m\n",
            "\u001b[2K   \u001b[90m━━━━━━━━━━━━━━━━━━━━━━━━━━━━━━━━━━━━━━━━\u001b[0m \u001b[32m86.2/86.2 kB\u001b[0m \u001b[31m7.8 MB/s\u001b[0m eta \u001b[36m0:00:00\u001b[0m\n",
            "\u001b[2K   \u001b[90m━━━━━━━━━━━━━━━━━━━━━━━━━━━━━━━━━━━━━━━━\u001b[0m \u001b[32m119.4/119.4 kB\u001b[0m \u001b[31m11.2 MB/s\u001b[0m eta \u001b[36m0:00:00\u001b[0m\n",
            "\u001b[2K   \u001b[90m━━━━━━━━━━━━━━━━━━━━━━━━━━━━━━━━━━━━━━━━\u001b[0m \u001b[32m61.6/61.6 kB\u001b[0m \u001b[31m5.8 MB/s\u001b[0m eta \u001b[36m0:00:00\u001b[0m\n",
            "\u001b[2K   \u001b[90m━━━━━━━━━━━━━━━━━━━━━━━━━━━━━━━━━━━━━━━━\u001b[0m \u001b[32m220.6/220.6 kB\u001b[0m \u001b[31m21.3 MB/s\u001b[0m eta \u001b[36m0:00:00\u001b[0m\n",
            "\u001b[2K   \u001b[90m━━━━━━━━━━━━━━━━━━━━━━━━━━━━━━━━━━━━━━━━\u001b[0m \u001b[32m161.7/161.7 kB\u001b[0m \u001b[31m15.3 MB/s\u001b[0m eta \u001b[36m0:00:00\u001b[0m\n",
            "\u001b[2K   \u001b[90m━━━━━━━━━━━━━━━━━━━━━━━━━━━━━━━━━━━━━━━━\u001b[0m \u001b[32m99.1/99.1 kB\u001b[0m \u001b[31m9.7 MB/s\u001b[0m eta \u001b[36m0:00:00\u001b[0m\n",
            "\u001b[2K   \u001b[90m━━━━━━━━━━━━━━━━━━━━━━━━━━━━━━━━━━━━━━━━\u001b[0m \u001b[32m4.3/4.3 MB\u001b[0m \u001b[31m103.8 MB/s\u001b[0m eta \u001b[36m0:00:00\u001b[0m\n",
            "\u001b[2K   \u001b[90m━━━━━━━━━━━━━━━━━━━━━━━━━━━━━━━━━━━━━━━━\u001b[0m \u001b[32m469.0/469.0 kB\u001b[0m \u001b[31m36.1 MB/s\u001b[0m eta \u001b[36m0:00:00\u001b[0m\n",
            "\u001b[2K   \u001b[90m━━━━━━━━━━━━━━━━━━━━━━━━━━━━━━━━━━━━━━━━\u001b[0m \u001b[32m3.1/3.1 MB\u001b[0m \u001b[31m98.5 MB/s\u001b[0m eta \u001b[36m0:00:00\u001b[0m\n",
            "\u001b[?25h  Building wheel for typing (setup.py) ... \u001b[?25l\u001b[?25hdone\n"
          ]
        }
      ],
      "source": [
        "import torch\n",
        "import torch.nn as nn\n",
        "import cv2, os\n",
        "!pip install -q torch_snippets torch_summary\n",
        "from torch_snippets import *"
      ]
    },
    {
      "cell_type": "code",
      "source": [
        "if os.path.exists('Faceswap-Deepfake-Pytorch'):\n",
        "  !wget -q  https://www.dropbox.com/s/5ji7jl7httso9ny/person_images.zip\n",
        "  !wget -q https://raw.githubusercontent.com/sizhky/deep-fake-util/main/random_warp.py\n",
        "  !unzip -q person_images.zip\n",
        "\n",
        "!wget -O random_warp.py https://raw.githubusercontent.com/sizhky/deep-fake-util/main/random_warp.py\n",
        "\n",
        "import random_warp\n",
        "from random_warp import get_training_data"
      ],
      "metadata": {
        "colab": {
          "base_uri": "https://localhost:8080/"
        },
        "id": "QASvg4BxQjNm",
        "outputId": "a53af45f-a4dc-4206-82ff-fe8be6398d24"
      },
      "execution_count": 7,
      "outputs": [
        {
          "output_type": "stream",
          "name": "stdout",
          "text": [
            "--2025-03-12 17:13:23--  https://raw.githubusercontent.com/sizhky/deep-fake-util/main/random_warp.py\n",
            "Resolving raw.githubusercontent.com (raw.githubusercontent.com)... 185.199.109.133, 185.199.110.133, 185.199.111.133, ...\n",
            "Connecting to raw.githubusercontent.com (raw.githubusercontent.com)|185.199.109.133|:443... connected.\n",
            "HTTP request sent, awaiting response... 200 OK\n",
            "Length: 4163 (4.1K) [text/plain]\n",
            "Saving to: ‘random_warp.py’\n",
            "\n",
            "random_warp.py      100%[===================>]   4.07K  --.-KB/s    in 0s      \n",
            "\n",
            "2025-03-12 17:13:24 (45.0 MB/s) - ‘random_warp.py’ saved [4163/4163]\n",
            "\n"
          ]
        }
      ]
    },
    {
      "cell_type": "code",
      "source": [
        "import cv2, os\n",
        "# Update the path below to the actual location of your haarcascade_frontalface_default.xml file\n",
        "haarcascade_path = \"/usr/local/lib/python3.10/dist-packages/cv2/data/haarcascade_frontalface_default.xml\"\n",
        "face_cascade = cv2.CascadeClassifier(haarcascade_path)"
      ],
      "metadata": {
        "id": "PixTFLGMgrCu"
      },
      "execution_count": 9,
      "outputs": []
    },
    {
      "cell_type": "code",
      "source": [
        "#@ For Cropping face in image:\n",
        "def crop_face(img):\n",
        "  gray=cv2.cvtColor(img, cv2.COLOR_BGR2RGB)\n",
        "  faces=face_cascade.detectMultiScale(gray, 1.3, 5)\n",
        "  if(len(faces)>0):\n",
        "    for (x, y, w, h) in faces:\n",
        "      img2=img[y:(y+h), x:(x+w), :]\n",
        "    img2=cv2.resize(img2, (256, 256))\n",
        "    return img2, True\n",
        "  else:\n",
        "    return img, False"
      ],
      "metadata": {
        "id": "nvA3NCphfmxl"
      },
      "execution_count": 10,
      "outputs": []
    },
    {
      "cell_type": "code",
      "source": [
        "!mkdir cropped_faces_personA\n",
        "!mkdir cropped_faces_personB\n",
        "\n",
        "def crop_images(folder):\n",
        "  images=Glob(folder + '/*.jpg')\n",
        "  for i in range(len(images)):\n",
        "    img=read(images[i], 1)\n",
        "    img2, face_detected=crop_face(img)\n",
        "    if(face_detected==False):\n",
        "      continue\n",
        "    else:\n",
        "      cv2.imwrite('cropped_faces_' + folder + '/' + str(i) + '.jpg', cv2.cvtColor(img2, cv2.COLOR_RGB2BGR))\n",
        "\n",
        "crop_images('personA')\n",
        "crop_images('personB')"
      ],
      "metadata": {
        "id": "03dYUasQTclx"
      },
      "execution_count": 11,
      "outputs": []
    },
    {
      "cell_type": "code",
      "source": [
        "from torch.utils.data import Dataset, DataLoader\n",
        "device='cuda' if torch.cuda.is_available() else 'cpu'\n",
        "class ImageDataset(Dataset):\n",
        "  def __init__(self, items_A, items_B):\n",
        "    self.items_A = np.concatenate([read(f, 1)[None] for f in items_A])/255.\n",
        "    self.items_B=np.concatenate([read(f,1)[None] for f in items_B])/255.\n",
        "    self.items_A += self.items_B.mean(axis=(0,1, 2)) - self.items_A.mean(axis=(0,1, 2))\n",
        "\n",
        "  def __len__(self):\n",
        "    return min(len(self.items_A), len(self.items_B))\n",
        "\n",
        "  def __getitem__(self, ix):\n",
        "    a, b = choose(self.items_A), choose(self.items_B)\n",
        "    return a, b\n",
        "\n",
        "  def collate_fn(self, batch):\n",
        "    imsA, imsB=list(zip(*batch))\n",
        "    imsA, targetA= get_training_data(imsA, len(imsA))\n",
        "    imsB, targetB=get_training_data(imsB, len(imsB))\n",
        "    imsA, imsB, targetA, targetB = [torch.Tensor(i).permute(0, 3, 1, 2).to(device) for i in [imsA, imsB, targetA, targetB]]\n",
        "    return imsA, imsB, targetA, targetB\n"
      ],
      "metadata": {
        "id": "LbU-JDCeRSaO"
      },
      "execution_count": 15,
      "outputs": []
    },
    {
      "cell_type": "code",
      "source": [
        "a = ImageDataset(Glob('cropped_faces_personA'), Glob('cropped_faces_personB'))\n",
        "x = DataLoader(a, batch_size=32, collate_fn=a.collate_fn)"
      ],
      "metadata": {
        "colab": {
          "base_uri": "https://localhost:8080/",
          "height": 280
        },
        "id": "2DLICWHWW-UV",
        "outputId": "dda70243-2fbc-4109-9a6c-f46c03714b8c"
      },
      "execution_count": 19,
      "outputs": [
        {
          "output_type": "error",
          "ename": "ValueError",
          "evalue": "need at least one array to concatenate",
          "traceback": [
            "\u001b[0;31m---------------------------------------------------------------------------\u001b[0m",
            "\u001b[0;31mValueError\u001b[0m                                Traceback (most recent call last)",
            "\u001b[0;32m<ipython-input-19-a0b9dda862db>\u001b[0m in \u001b[0;36m<cell line: 0>\u001b[0;34m()\u001b[0m\n\u001b[0;32m----> 1\u001b[0;31m \u001b[0ma\u001b[0m \u001b[0;34m=\u001b[0m \u001b[0mImageDataset\u001b[0m\u001b[0;34m(\u001b[0m\u001b[0mGlob\u001b[0m\u001b[0;34m(\u001b[0m\u001b[0;34m'cropped_faces_personA'\u001b[0m\u001b[0;34m)\u001b[0m\u001b[0;34m,\u001b[0m \u001b[0mGlob\u001b[0m\u001b[0;34m(\u001b[0m\u001b[0;34m'cropped_faces_personB'\u001b[0m\u001b[0;34m)\u001b[0m\u001b[0;34m)\u001b[0m\u001b[0;34m\u001b[0m\u001b[0;34m\u001b[0m\u001b[0m\n\u001b[0m\u001b[1;32m      2\u001b[0m \u001b[0mx\u001b[0m \u001b[0;34m=\u001b[0m \u001b[0mDataLoader\u001b[0m\u001b[0;34m(\u001b[0m\u001b[0ma\u001b[0m\u001b[0;34m,\u001b[0m \u001b[0mbatch_size\u001b[0m\u001b[0;34m=\u001b[0m\u001b[0;36m32\u001b[0m\u001b[0;34m,\u001b[0m \u001b[0mcollate_fn\u001b[0m\u001b[0;34m=\u001b[0m\u001b[0ma\u001b[0m\u001b[0;34m.\u001b[0m\u001b[0mcollate_fn\u001b[0m\u001b[0;34m)\u001b[0m\u001b[0;34m\u001b[0m\u001b[0;34m\u001b[0m\u001b[0m\n",
            "\u001b[0;32m<ipython-input-15-21b24404efb5>\u001b[0m in \u001b[0;36m__init__\u001b[0;34m(self, items_A, items_B)\u001b[0m\n\u001b[1;32m      3\u001b[0m \u001b[0;32mclass\u001b[0m \u001b[0mImageDataset\u001b[0m\u001b[0;34m(\u001b[0m\u001b[0mDataset\u001b[0m\u001b[0;34m)\u001b[0m\u001b[0;34m:\u001b[0m\u001b[0;34m\u001b[0m\u001b[0;34m\u001b[0m\u001b[0m\n\u001b[1;32m      4\u001b[0m   \u001b[0;32mdef\u001b[0m \u001b[0m__init__\u001b[0m\u001b[0;34m(\u001b[0m\u001b[0mself\u001b[0m\u001b[0;34m,\u001b[0m \u001b[0mitems_A\u001b[0m\u001b[0;34m,\u001b[0m \u001b[0mitems_B\u001b[0m\u001b[0;34m)\u001b[0m\u001b[0;34m:\u001b[0m\u001b[0;34m\u001b[0m\u001b[0;34m\u001b[0m\u001b[0m\n\u001b[0;32m----> 5\u001b[0;31m     \u001b[0mself\u001b[0m\u001b[0;34m.\u001b[0m\u001b[0mitems_A\u001b[0m \u001b[0;34m=\u001b[0m \u001b[0mnp\u001b[0m\u001b[0;34m.\u001b[0m\u001b[0mconcatenate\u001b[0m\u001b[0;34m(\u001b[0m\u001b[0;34m[\u001b[0m\u001b[0mread\u001b[0m\u001b[0;34m(\u001b[0m\u001b[0mf\u001b[0m\u001b[0;34m,\u001b[0m \u001b[0;36m1\u001b[0m\u001b[0;34m)\u001b[0m\u001b[0;34m[\u001b[0m\u001b[0;32mNone\u001b[0m\u001b[0;34m]\u001b[0m \u001b[0;32mfor\u001b[0m \u001b[0mf\u001b[0m \u001b[0;32min\u001b[0m \u001b[0mitems_A\u001b[0m\u001b[0;34m]\u001b[0m\u001b[0;34m)\u001b[0m\u001b[0;34m/\u001b[0m\u001b[0;36m255.\u001b[0m\u001b[0;34m\u001b[0m\u001b[0;34m\u001b[0m\u001b[0m\n\u001b[0m\u001b[1;32m      6\u001b[0m     \u001b[0mself\u001b[0m\u001b[0;34m.\u001b[0m\u001b[0mitems_B\u001b[0m\u001b[0;34m=\u001b[0m\u001b[0mnp\u001b[0m\u001b[0;34m.\u001b[0m\u001b[0mconcatenate\u001b[0m\u001b[0;34m(\u001b[0m\u001b[0;34m[\u001b[0m\u001b[0mread\u001b[0m\u001b[0;34m(\u001b[0m\u001b[0mf\u001b[0m\u001b[0;34m,\u001b[0m\u001b[0;36m1\u001b[0m\u001b[0;34m)\u001b[0m\u001b[0;34m[\u001b[0m\u001b[0;32mNone\u001b[0m\u001b[0;34m]\u001b[0m \u001b[0;32mfor\u001b[0m \u001b[0mf\u001b[0m \u001b[0;32min\u001b[0m \u001b[0mitems_B\u001b[0m\u001b[0;34m]\u001b[0m\u001b[0;34m)\u001b[0m\u001b[0;34m/\u001b[0m\u001b[0;36m255.\u001b[0m\u001b[0;34m\u001b[0m\u001b[0;34m\u001b[0m\u001b[0m\n\u001b[1;32m      7\u001b[0m     \u001b[0mself\u001b[0m\u001b[0;34m.\u001b[0m\u001b[0mitems_A\u001b[0m \u001b[0;34m+=\u001b[0m \u001b[0mself\u001b[0m\u001b[0;34m.\u001b[0m\u001b[0mitems_B\u001b[0m\u001b[0;34m.\u001b[0m\u001b[0mmean\u001b[0m\u001b[0;34m(\u001b[0m\u001b[0maxis\u001b[0m\u001b[0;34m=\u001b[0m\u001b[0;34m(\u001b[0m\u001b[0;36m0\u001b[0m\u001b[0;34m,\u001b[0m\u001b[0;36m1\u001b[0m\u001b[0;34m,\u001b[0m \u001b[0;36m2\u001b[0m\u001b[0;34m)\u001b[0m\u001b[0;34m)\u001b[0m \u001b[0;34m-\u001b[0m \u001b[0mself\u001b[0m\u001b[0;34m.\u001b[0m\u001b[0mitems_A\u001b[0m\u001b[0;34m.\u001b[0m\u001b[0mmean\u001b[0m\u001b[0;34m(\u001b[0m\u001b[0maxis\u001b[0m\u001b[0;34m=\u001b[0m\u001b[0;34m(\u001b[0m\u001b[0;36m0\u001b[0m\u001b[0;34m,\u001b[0m\u001b[0;36m1\u001b[0m\u001b[0;34m,\u001b[0m \u001b[0;36m2\u001b[0m\u001b[0;34m)\u001b[0m\u001b[0;34m)\u001b[0m\u001b[0;34m\u001b[0m\u001b[0;34m\u001b[0m\u001b[0m\n",
            "\u001b[0;31mValueError\u001b[0m: need at least one array to concatenate"
          ]
        }
      ]
    },
    {
      "cell_type": "code",
      "source": [
        "import inspect\n",
        "inspect(*next(iter(x)))\n",
        "for i in next(iter(x)):\n",
        " subplots(i[:8], nc=4, sz=(4,2))"
      ],
      "metadata": {
        "colab": {
          "base_uri": "https://localhost:8080/",
          "height": 193
        },
        "id": "CUE_TJLuXIJT",
        "outputId": "46468b21-4487-422f-a773-d234eebc8554"
      },
      "execution_count": 17,
      "outputs": [
        {
          "output_type": "error",
          "ename": "NameError",
          "evalue": "name 'x' is not defined",
          "traceback": [
            "\u001b[0;31m---------------------------------------------------------------------------\u001b[0m",
            "\u001b[0;31mNameError\u001b[0m                                 Traceback (most recent call last)",
            "\u001b[0;32m<ipython-input-17-52bd98f7520e>\u001b[0m in \u001b[0;36m<cell line: 0>\u001b[0;34m()\u001b[0m\n\u001b[1;32m      1\u001b[0m \u001b[0;32mimport\u001b[0m \u001b[0minspect\u001b[0m\u001b[0;34m\u001b[0m\u001b[0;34m\u001b[0m\u001b[0m\n\u001b[0;32m----> 2\u001b[0;31m \u001b[0minspect\u001b[0m\u001b[0;34m(\u001b[0m\u001b[0;34m*\u001b[0m\u001b[0mnext\u001b[0m\u001b[0;34m(\u001b[0m\u001b[0miter\u001b[0m\u001b[0;34m(\u001b[0m\u001b[0mx\u001b[0m\u001b[0;34m)\u001b[0m\u001b[0;34m)\u001b[0m\u001b[0;34m)\u001b[0m\u001b[0;34m\u001b[0m\u001b[0;34m\u001b[0m\u001b[0m\n\u001b[0m\u001b[1;32m      3\u001b[0m \u001b[0;32mfor\u001b[0m \u001b[0mi\u001b[0m \u001b[0;32min\u001b[0m \u001b[0mnext\u001b[0m\u001b[0;34m(\u001b[0m\u001b[0miter\u001b[0m\u001b[0;34m(\u001b[0m\u001b[0mx\u001b[0m\u001b[0;34m)\u001b[0m\u001b[0;34m)\u001b[0m\u001b[0;34m:\u001b[0m\u001b[0;34m\u001b[0m\u001b[0;34m\u001b[0m\u001b[0m\n\u001b[1;32m      4\u001b[0m  \u001b[0msubplots\u001b[0m\u001b[0;34m(\u001b[0m\u001b[0mi\u001b[0m\u001b[0;34m[\u001b[0m\u001b[0;34m:\u001b[0m\u001b[0;36m8\u001b[0m\u001b[0;34m]\u001b[0m\u001b[0;34m,\u001b[0m \u001b[0mnc\u001b[0m\u001b[0;34m=\u001b[0m\u001b[0;36m4\u001b[0m\u001b[0;34m,\u001b[0m \u001b[0msz\u001b[0m\u001b[0;34m=\u001b[0m\u001b[0;34m(\u001b[0m\u001b[0;36m4\u001b[0m\u001b[0;34m,\u001b[0m\u001b[0;36m2\u001b[0m\u001b[0;34m)\u001b[0m\u001b[0;34m)\u001b[0m\u001b[0;34m\u001b[0m\u001b[0;34m\u001b[0m\u001b[0m\n",
            "\u001b[0;31mNameError\u001b[0m: name 'x' is not defined"
          ]
        }
      ]
    },
    {
      "cell_type": "code",
      "source": [
        "#@ Helper Function:\n",
        "def _ConvLayer(in_features, out_features):\n",
        "  return nn.Sequential(\n",
        "      nn.Conv2d(in_features, out_features,\n",
        "                kernel_size=5, stride=2, padding=2),\n",
        "      nn.LeakyReLU(0.1, inplace=True)\n",
        "  )\n",
        "\n",
        "def _UpScale(in_features, out_features):\n",
        "  return nn.Sequential(\n",
        "      nn.ConvTranspose2d(in_features, out_features,\n",
        "                         kernel_size=2, stride=2, padding=0),\n",
        "      nn.LeakyReLU(0.1, inplace=True)\n",
        "  )\n",
        "\n",
        "class Reshape(nn.Module):\n",
        "  def forward(self, input):\n",
        "    output=input.view(-1, 1024, 4, 4)\n",
        "    return output"
      ],
      "metadata": {
        "id": "F9fKpMW1eUi-"
      },
      "execution_count": 14,
      "outputs": []
    },
    {
      "cell_type": "code",
      "source": [
        "class AutoEncoder(nn.Module):\n",
        "  def __init__(self):\n",
        "    super(AutoEncoder, self).__init__()\n",
        "\n",
        "    self.encoder=nn.Sequential(\n",
        "        _ConvLayer(3, 128),\n",
        "        _ConvLayer(128, 256),\n",
        "        _ConvLayer(256, 512),\n",
        "        _ConvLayer(512, 1024),\n",
        "        nn.Flatten(),\n",
        "        nn.Linear(1024*4*4, 1024),\n",
        "        nn.Linear(1024, 1024*4*4),\n",
        "        Reshape(),\n",
        "        _UpScale(1024, 512)\n",
        "    )\n",
        "\n",
        "    self.decoder_A=nn.Sequential(\n",
        "         _UpScale(512, 256),\n",
        "         _UpScale(256, 128),\n",
        "         _UpScale(128, 64),\n",
        "         nn.Conv2d(64, 3, kernel_size=3, padding=1),\n",
        "         nn.Sigmoid()\n",
        "    )\n",
        "\n",
        "    self.decoder_B=nn.Sequential(\n",
        "         _UpScale(512, 256),\n",
        "         _UpScale(256, 128),\n",
        "         _UpScale(128, 64),\n",
        "         nn.Conv2d(64, 3, kernel_size=3, padding=1),\n",
        "         nn.Sigmoid()\n",
        "    )\n",
        "\n",
        "  def forward(self, x, select='A'):\n",
        "    if select == 'A':\n",
        "      out=self.encoder(x)\n",
        "      out=self.decoder_A(out)\n",
        "    else:\n",
        "      out=self.encoder(x)\n",
        "      out=self.decoder_B(out)\n",
        "    return out"
      ],
      "metadata": {
        "id": "YdtB4IqqnT6P"
      },
      "execution_count": null,
      "outputs": []
    },
    {
      "cell_type": "code",
      "source": [
        "!pip install torchsummary"
      ],
      "metadata": {
        "colab": {
          "base_uri": "https://localhost:8080/"
        },
        "id": "j0FOBwqRqc42",
        "outputId": "be94bf55-05af-41c7-811a-29b74cb4a66f"
      },
      "execution_count": null,
      "outputs": [
        {
          "output_type": "stream",
          "name": "stdout",
          "text": [
            "Requirement already satisfied: torchsummary in /usr/local/lib/python3.11/dist-packages (1.5.1)\n"
          ]
        }
      ]
    },
    {
      "cell_type": "code",
      "source": [
        "from torchsummary import summary\n",
        "model=AutoEncoder()\n",
        "summary(model, (3, 64, 64))"
      ],
      "metadata": {
        "colab": {
          "base_uri": "https://localhost:8080/"
        },
        "id": "s565_4Idpk1-",
        "outputId": "b2cbfae0-4e5d-4f77-dba3-d43e0c9f3af4"
      },
      "execution_count": null,
      "outputs": [
        {
          "output_type": "stream",
          "name": "stdout",
          "text": [
            "----------------------------------------------------------------\n",
            "        Layer (type)               Output Shape         Param #\n",
            "================================================================\n",
            "            Conv2d-1          [-1, 128, 32, 32]           9,728\n",
            "         LeakyReLU-2          [-1, 128, 32, 32]               0\n",
            "            Conv2d-3          [-1, 256, 16, 16]         819,456\n",
            "         LeakyReLU-4          [-1, 256, 16, 16]               0\n",
            "            Conv2d-5            [-1, 512, 8, 8]       3,277,312\n",
            "         LeakyReLU-6            [-1, 512, 8, 8]               0\n",
            "            Conv2d-7           [-1, 1024, 4, 4]      13,108,224\n",
            "         LeakyReLU-8           [-1, 1024, 4, 4]               0\n",
            "           Flatten-9                [-1, 16384]               0\n",
            "           Linear-10                 [-1, 1024]      16,778,240\n",
            "           Linear-11                [-1, 16384]      16,793,600\n",
            "          Reshape-12           [-1, 1024, 4, 4]               0\n",
            "  ConvTranspose2d-13            [-1, 512, 8, 8]       2,097,664\n",
            "        LeakyReLU-14            [-1, 512, 8, 8]               0\n",
            "  ConvTranspose2d-15          [-1, 256, 16, 16]         524,544\n",
            "        LeakyReLU-16          [-1, 256, 16, 16]               0\n",
            "  ConvTranspose2d-17          [-1, 128, 32, 32]         131,200\n",
            "        LeakyReLU-18          [-1, 128, 32, 32]               0\n",
            "  ConvTranspose2d-19           [-1, 64, 64, 64]          32,832\n",
            "        LeakyReLU-20           [-1, 64, 64, 64]               0\n",
            "           Conv2d-21            [-1, 3, 64, 64]           1,731\n",
            "          Sigmoid-22            [-1, 3, 64, 64]               0\n",
            "================================================================\n",
            "Total params: 53,574,531\n",
            "Trainable params: 53,574,531\n",
            "Non-trainable params: 0\n",
            "----------------------------------------------------------------\n",
            "Input size (MB): 0.05\n",
            "Forward/backward pass size (MB): 11.82\n",
            "Params size (MB): 204.37\n",
            "Estimated Total Size (MB): 216.24\n",
            "----------------------------------------------------------------\n"
          ]
        }
      ]
    }
  ]
}