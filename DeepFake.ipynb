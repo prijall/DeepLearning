{
  "nbformat": 4,
  "nbformat_minor": 0,
  "metadata": {
    "colab": {
      "provenance": [],
      "authorship_tag": "ABX9TyMaF3HNn7GLVdLu1h6Nkovl"
    },
    "kernelspec": {
      "name": "python3",
      "display_name": "Python 3"
    },
    "language_info": {
      "name": "python"
    }
  },
  "cells": [
    {
      "cell_type": "code",
      "execution_count": null,
      "metadata": {
        "id": "vVwcP_k1d2p_"
      },
      "outputs": [],
      "source": [
        "import torch\n",
        "import torch.nn as nn\n",
        "import cv2, os"
      ]
    },
    {
      "cell_type": "code",
      "source": [
        "face_cascade=cv2.CascadeClassifier()"
      ],
      "metadata": {
        "id": "PixTFLGMgrCu"
      },
      "execution_count": null,
      "outputs": []
    },
    {
      "cell_type": "code",
      "source": [
        "#@ For Cropping face in image:\n",
        "def crop_face(img):\n",
        "  gray=cv2.cvtColor(img, cv2.COLOR_BGR2RGB)\n",
        "  faces=face_cascade.detectMultiScale(gray, 1.3, 5)\n",
        "  if(len(faces)>0):\n",
        "    for (x, y, w, h) in faces:\n",
        "      img2=img[y:(y+h), x:(x+w), :]\n",
        "    img2=cv2.resize(img2, (256, 256))\n",
        "    return img2, True\n",
        "  else:\n",
        "    return img, False"
      ],
      "metadata": {
        "id": "nvA3NCphfmxl"
      },
      "execution_count": null,
      "outputs": []
    },
    {
      "cell_type": "code",
      "source": [
        "#@ Helper Function:\n",
        "def _ConvLayer(in_features, out_features):\n",
        "  return nn.Sequential(\n",
        "      nn.Conv2d(in_features, out_features,\n",
        "                kernel_size=5, stride=2, padding=2),\n",
        "      nn.LeakyReLU(0.1, inplace=True)\n",
        "  )\n",
        "\n",
        "def _UpScale(in_features, out_features):\n",
        "  return nn.Sequential(\n",
        "      nn.ConvTranspose2d(in_features, out_features,\n",
        "                         kernel_size=2, stride=2, padding=0),\n",
        "      nn.LeakyReLU(0.1, inplace=True)\n",
        "  )\n",
        "\n",
        "class Reshape(nn.Module):\n",
        "  def forward(self, input):\n",
        "    output=input.view(-1, 1024, 4, 4)\n",
        "    return output"
      ],
      "metadata": {
        "id": "F9fKpMW1eUi-"
      },
      "execution_count": null,
      "outputs": []
    },
    {
      "cell_type": "code",
      "source": [
        "class AutoEncoder(nn.Module):\n",
        "  def __init__(self):\n",
        "    super(AutoEncoder, self).__init__()\n",
        "\n",
        "    self.encoder=nn.Sequential(\n",
        "        _ConvLayer(3, 128),\n",
        "        _ConvLayer(128, 256),\n",
        "        _ConvLayer(256, 512),\n",
        "        _ConvLayer(512, 1024),\n",
        "        nn.Flatten(),\n",
        "        nn.Linear(1024*4*4, 1024),\n",
        "        nn.Linear(1024, 1024*4*4),\n",
        "        Reshape(),\n",
        "        _UpScale(1024, 512)\n",
        "    )\n",
        "\n",
        "    self.decoder_A=nn.Sequential(\n",
        "         _UpScale(512, 256),\n",
        "         _UpScale(256, 128),\n",
        "         _UpScale(128, 64),\n",
        "         nn.Conv2d(64, 3, kernel_size=3, padding=1),\n",
        "         nn.Sigmoid()\n",
        "    )\n",
        "\n",
        "    self.decoder_B=nn.Sequential(\n",
        "         _UpScale(512, 256),\n",
        "         _UpScale(256, 128),\n",
        "         _UpScale(128, 64),\n",
        "         nn.Conv2d(64, 3, kernel_size=3, padding=1),\n",
        "         nn.Sigmoid()\n",
        "    )\n",
        "\n",
        "  def forward(self, x, select='A'):\n",
        "    if select == 'A':\n",
        "      out=self.encoder(x)\n",
        "      out=self.decoder_A(out)\n",
        "    else:\n",
        "      out=self.encoder(x)\n",
        "      out=self.decoder_B(out)\n",
        "    return out"
      ],
      "metadata": {
        "id": "YdtB4IqqnT6P"
      },
      "execution_count": null,
      "outputs": []
    },
    {
      "cell_type": "code",
      "source": [
        "!pip install torchsummary"
      ],
      "metadata": {
        "colab": {
          "base_uri": "https://localhost:8080/"
        },
        "id": "j0FOBwqRqc42",
        "outputId": "be94bf55-05af-41c7-811a-29b74cb4a66f"
      },
      "execution_count": null,
      "outputs": [
        {
          "output_type": "stream",
          "name": "stdout",
          "text": [
            "Requirement already satisfied: torchsummary in /usr/local/lib/python3.11/dist-packages (1.5.1)\n"
          ]
        }
      ]
    },
    {
      "cell_type": "code",
      "source": [
        "from torchsummary import summary\n",
        "model=AutoEncoder()\n",
        "summary(model, (3, 64, 64))"
      ],
      "metadata": {
        "colab": {
          "base_uri": "https://localhost:8080/"
        },
        "id": "s565_4Idpk1-",
        "outputId": "b2cbfae0-4e5d-4f77-dba3-d43e0c9f3af4"
      },
      "execution_count": null,
      "outputs": [
        {
          "output_type": "stream",
          "name": "stdout",
          "text": [
            "----------------------------------------------------------------\n",
            "        Layer (type)               Output Shape         Param #\n",
            "================================================================\n",
            "            Conv2d-1          [-1, 128, 32, 32]           9,728\n",
            "         LeakyReLU-2          [-1, 128, 32, 32]               0\n",
            "            Conv2d-3          [-1, 256, 16, 16]         819,456\n",
            "         LeakyReLU-4          [-1, 256, 16, 16]               0\n",
            "            Conv2d-5            [-1, 512, 8, 8]       3,277,312\n",
            "         LeakyReLU-6            [-1, 512, 8, 8]               0\n",
            "            Conv2d-7           [-1, 1024, 4, 4]      13,108,224\n",
            "         LeakyReLU-8           [-1, 1024, 4, 4]               0\n",
            "           Flatten-9                [-1, 16384]               0\n",
            "           Linear-10                 [-1, 1024]      16,778,240\n",
            "           Linear-11                [-1, 16384]      16,793,600\n",
            "          Reshape-12           [-1, 1024, 4, 4]               0\n",
            "  ConvTranspose2d-13            [-1, 512, 8, 8]       2,097,664\n",
            "        LeakyReLU-14            [-1, 512, 8, 8]               0\n",
            "  ConvTranspose2d-15          [-1, 256, 16, 16]         524,544\n",
            "        LeakyReLU-16          [-1, 256, 16, 16]               0\n",
            "  ConvTranspose2d-17          [-1, 128, 32, 32]         131,200\n",
            "        LeakyReLU-18          [-1, 128, 32, 32]               0\n",
            "  ConvTranspose2d-19           [-1, 64, 64, 64]          32,832\n",
            "        LeakyReLU-20           [-1, 64, 64, 64]               0\n",
            "           Conv2d-21            [-1, 3, 64, 64]           1,731\n",
            "          Sigmoid-22            [-1, 3, 64, 64]               0\n",
            "================================================================\n",
            "Total params: 53,574,531\n",
            "Trainable params: 53,574,531\n",
            "Non-trainable params: 0\n",
            "----------------------------------------------------------------\n",
            "Input size (MB): 0.05\n",
            "Forward/backward pass size (MB): 11.82\n",
            "Params size (MB): 204.37\n",
            "Estimated Total Size (MB): 216.24\n",
            "----------------------------------------------------------------\n"
          ]
        }
      ]
    }
  ]
}