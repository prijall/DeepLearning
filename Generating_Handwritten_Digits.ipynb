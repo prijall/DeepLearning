{
  "nbformat": 4,
  "nbformat_minor": 0,
  "metadata": {
    "colab": {
      "provenance": [],
      "authorship_tag": "ABX9TyMsXeXbLFTMRjhp4br6UYjV"
    },
    "kernelspec": {
      "name": "python3",
      "display_name": "Python 3"
    },
    "language_info": {
      "name": "python"
    }
  },
  "cells": [
    {
      "cell_type": "markdown",
      "source": [
        "- Importing MNIST Dataset\n",
        "- Initializing Random Noise\n",
        "- Define Generator Model"
      ],
      "metadata": {
        "id": "B5DI36UYjRbo"
      }
    },
    {
      "cell_type": "code",
      "source": [
        "import torch\n",
        "import torch.nn as nn\n",
        "import torchvision\n",
        "from torchvision.datasets import MNIST\n",
        "from torchvision import transforms\n",
        "from torch.utils.data import DataLoader\n",
        "!pip install torchsummary\n",
        "from torchsummary import summary"
      ],
      "metadata": {
        "colab": {
          "base_uri": "https://localhost:8080/"
        },
        "id": "dpmW3cI3jV6V",
        "outputId": "affe3be8-e558-4bdf-92f0-fef6c7b750d8"
      },
      "execution_count": 13,
      "outputs": [
        {
          "output_type": "stream",
          "name": "stdout",
          "text": [
            "Requirement already satisfied: torchsummary in /usr/local/lib/python3.11/dist-packages (1.5.1)\n"
          ]
        }
      ]
    },
    {
      "cell_type": "code",
      "source": [
        "device='cuda' if torch.cuda.is_available() else 'cpu'"
      ],
      "metadata": {
        "id": "eBCZk4XWljf-"
      },
      "execution_count": 14,
      "outputs": []
    },
    {
      "cell_type": "code",
      "source": [
        "#@ Loading MNSIT Dataset:\n",
        "\n",
        "transform= transforms.Compose([\n",
        "    transforms.ToTensor(),\n",
        "    transforms.Normalize(mean=(0.5), std=(0.5))\n",
        "])\n",
        "\n",
        "dl=DataLoader(MNIST('~/data', train=True, download=True, transform=transform), batch_size=128, shuffle=True, drop_last=True)"
      ],
      "metadata": {
        "id": "IB0w9_ouj4x9"
      },
      "execution_count": 15,
      "outputs": []
    },
    {
      "cell_type": "code",
      "source": [
        "#@ Defining Random Noise:\n",
        "def noise(size):\n",
        "  n=torch.randn(size, 100)\n",
        "  return n.to(device)"
      ],
      "metadata": {
        "id": "OIpO6DQ9lIDm"
      },
      "execution_count": 16,
      "outputs": []
    },
    {
      "cell_type": "code",
      "source": [
        "#@ Define Generator Model:\n",
        "class Generator(nn.Module):\n",
        "  def __init__(self):\n",
        "    super(Generator, self).__init__()\n",
        "    self.model=nn.Sequential(\n",
        "        nn.Linear(100, 256),\n",
        "        nn.LeakyReLU(0.2),\n",
        "        nn.Linear(256, 512),\n",
        "        nn.LeakyReLU(0.2),\n",
        "        nn.Linear(512, 1024),\n",
        "        nn.LeakyReLU(0.2),\n",
        "        nn.Linear(1024, 784),\n",
        "        nn.Tanh()\n",
        "    )\n",
        "\n",
        "  def forward(self, x):\n",
        "    return self.model(x)"
      ],
      "metadata": {
        "id": "h7qw3gvqmenV"
      },
      "execution_count": 17,
      "outputs": []
    },
    {
      "cell_type": "code",
      "source": [
        "generator=Generator().to(device)\n",
        "summary(generator, (1, 100))"
      ],
      "metadata": {
        "colab": {
          "base_uri": "https://localhost:8080/"
        },
        "id": "PKYagxQ5oed2",
        "outputId": "6cbd9cfb-3cf0-4ea5-c0d5-4f8f9bcd0a5d"
      },
      "execution_count": 19,
      "outputs": [
        {
          "output_type": "stream",
          "name": "stdout",
          "text": [
            "----------------------------------------------------------------\n",
            "        Layer (type)               Output Shape         Param #\n",
            "================================================================\n",
            "            Linear-1               [-1, 1, 256]          25,856\n",
            "         LeakyReLU-2               [-1, 1, 256]               0\n",
            "            Linear-3               [-1, 1, 512]         131,584\n",
            "         LeakyReLU-4               [-1, 1, 512]               0\n",
            "            Linear-5              [-1, 1, 1024]         525,312\n",
            "         LeakyReLU-6              [-1, 1, 1024]               0\n",
            "            Linear-7               [-1, 1, 784]         803,600\n",
            "              Tanh-8               [-1, 1, 784]               0\n",
            "================================================================\n",
            "Total params: 1,486,352\n",
            "Trainable params: 1,486,352\n",
            "Non-trainable params: 0\n",
            "----------------------------------------------------------------\n",
            "Input size (MB): 0.00\n",
            "Forward/backward pass size (MB): 0.04\n",
            "Params size (MB): 5.67\n",
            "Estimated Total Size (MB): 5.71\n",
            "----------------------------------------------------------------\n"
          ]
        }
      ]
    }
  ]
}