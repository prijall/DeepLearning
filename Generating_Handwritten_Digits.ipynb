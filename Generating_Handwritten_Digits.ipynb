{
  "nbformat": 4,
  "nbformat_minor": 0,
  "metadata": {
    "colab": {
      "provenance": [],
      "gpuType": "T4",
      "authorship_tag": "ABX9TyNTZco2HjP0PXEFJX4n0dtK"
    },
    "kernelspec": {
      "name": "python3",
      "display_name": "Python 3"
    },
    "language_info": {
      "name": "python"
    },
    "accelerator": "GPU"
  },
  "cells": [
    {
      "cell_type": "markdown",
      "source": [
        "- Importing MNIST Dataset\n",
        "- Initializing Random Noise\n",
        "- Define Generator Model\n",
        "- Define discriminator model"
      ],
      "metadata": {
        "id": "B5DI36UYjRbo"
      }
    },
    {
      "cell_type": "code",
      "source": [
        "import torch\n",
        "import torch.nn as nn\n",
        "import torchvision\n",
        "from torchvision.datasets import MNIST\n",
        "from torchvision import transforms\n",
        "from torch.utils.data import DataLoader\n",
        "!pip install torchsummary\n",
        "from torchsummary import summary\n",
        "from torch.optim import Adam\n",
        "from torch.nn import BCELoss"
      ],
      "metadata": {
        "colab": {
          "base_uri": "https://localhost:8080/"
        },
        "id": "dpmW3cI3jV6V",
        "outputId": "24b82451-d856-4851-9a75-649642a00253"
      },
      "execution_count": 1,
      "outputs": [
        {
          "output_type": "stream",
          "name": "stdout",
          "text": [
            "Requirement already satisfied: torchsummary in /usr/local/lib/python3.11/dist-packages (1.5.1)\n"
          ]
        }
      ]
    },
    {
      "cell_type": "code",
      "source": [
        "device='cuda' if torch.cuda.is_available() else 'cpu'"
      ],
      "metadata": {
        "id": "eBCZk4XWljf-"
      },
      "execution_count": 2,
      "outputs": []
    },
    {
      "cell_type": "code",
      "source": [
        "#@ Loading MNSIT Dataset:\n",
        "\n",
        "transform= transforms.Compose([\n",
        "    transforms.ToTensor(),\n",
        "    transforms.Normalize(mean=(0.5), std=(0.5))\n",
        "])\n",
        "\n",
        "dl=DataLoader(MNIST('~/data', train=True, download=True, transform=transform), batch_size=128, shuffle=True, drop_last=True)"
      ],
      "metadata": {
        "id": "IB0w9_ouj4x9",
        "colab": {
          "base_uri": "https://localhost:8080/"
        },
        "outputId": "d416afd8-1a4f-4563-ea6b-9fe964a39d33"
      },
      "execution_count": 3,
      "outputs": [
        {
          "output_type": "stream",
          "name": "stderr",
          "text": [
            "100%|██████████| 9.91M/9.91M [00:01<00:00, 9.62MB/s]\n",
            "100%|██████████| 28.9k/28.9k [00:00<00:00, 340kB/s]\n",
            "100%|██████████| 1.65M/1.65M [00:00<00:00, 3.11MB/s]\n",
            "100%|██████████| 4.54k/4.54k [00:00<00:00, 10.4MB/s]\n"
          ]
        }
      ]
    },
    {
      "cell_type": "code",
      "source": [
        "#@ Defining Random Noise:\n",
        "def noise(size):\n",
        "  n=torch.randn(size, 100)\n",
        "  return n.to(device)"
      ],
      "metadata": {
        "id": "OIpO6DQ9lIDm"
      },
      "execution_count": 4,
      "outputs": []
    },
    {
      "cell_type": "code",
      "source": [
        "#@ Define Generator Model:\n",
        "class Generator(nn.Module):\n",
        "  def __init__(self):\n",
        "    super(Generator, self).__init__()\n",
        "    self.model=nn.Sequential(\n",
        "        nn.Linear(100, 256),\n",
        "        nn.LeakyReLU(0.2),\n",
        "        nn.Linear(256, 512),\n",
        "        nn.LeakyReLU(0.2),\n",
        "        nn.Linear(512, 1024),\n",
        "        nn.LeakyReLU(0.2),\n",
        "        nn.Linear(1024, 784),\n",
        "        nn.Tanh()\n",
        "    )\n",
        "\n",
        "  def forward(self, x):\n",
        "    return self.model(x)"
      ],
      "metadata": {
        "id": "h7qw3gvqmenV"
      },
      "execution_count": 5,
      "outputs": []
    },
    {
      "cell_type": "code",
      "source": [
        "generator=Generator().to(device)\n",
        "summary(generator, (1, 100))"
      ],
      "metadata": {
        "colab": {
          "base_uri": "https://localhost:8080/"
        },
        "id": "PKYagxQ5oed2",
        "outputId": "ab8eded7-1ac8-43b2-db5a-712e18c5abf0"
      },
      "execution_count": 6,
      "outputs": [
        {
          "output_type": "stream",
          "name": "stdout",
          "text": [
            "----------------------------------------------------------------\n",
            "        Layer (type)               Output Shape         Param #\n",
            "================================================================\n",
            "            Linear-1               [-1, 1, 256]          25,856\n",
            "         LeakyReLU-2               [-1, 1, 256]               0\n",
            "            Linear-3               [-1, 1, 512]         131,584\n",
            "         LeakyReLU-4               [-1, 1, 512]               0\n",
            "            Linear-5              [-1, 1, 1024]         525,312\n",
            "         LeakyReLU-6              [-1, 1, 1024]               0\n",
            "            Linear-7               [-1, 1, 784]         803,600\n",
            "              Tanh-8               [-1, 1, 784]               0\n",
            "================================================================\n",
            "Total params: 1,486,352\n",
            "Trainable params: 1,486,352\n",
            "Non-trainable params: 0\n",
            "----------------------------------------------------------------\n",
            "Input size (MB): 0.00\n",
            "Forward/backward pass size (MB): 0.04\n",
            "Params size (MB): 5.67\n",
            "Estimated Total Size (MB): 5.71\n",
            "----------------------------------------------------------------\n"
          ]
        }
      ]
    },
    {
      "cell_type": "code",
      "source": [
        "#@ Discriminator model:\n",
        "class Discriminator(nn.Module):\n",
        "  def __init__(self):\n",
        "    super(Discriminator, self).__init__()\n",
        "    self.model=nn.Sequential(\n",
        "        nn.Linear(784, 1024),\n",
        "        nn.LeakyReLU(0.2),\n",
        "        nn.Dropout(0.3),\n",
        "        nn.Linear(1024, 512),\n",
        "        nn.LeakyReLU(0.2),\n",
        "        nn.Dropout(0.3),\n",
        "        nn.Linear(512, 256),\n",
        "        nn.LeakyReLU(0.2),\n",
        "        nn.Dropout(0.3),\n",
        "        nn.Linear(256, 1),\n",
        "        nn.Sigmoid()\n",
        "    )\n",
        "\n",
        "  def forward(self, x):\n",
        "    return self.model(x)"
      ],
      "metadata": {
        "id": "ezTUlr5YM63a"
      },
      "execution_count": 7,
      "outputs": []
    },
    {
      "cell_type": "code",
      "source": [
        "discriminator=Discriminator().to(device)\n",
        "summary(discriminator, (1, 784))"
      ],
      "metadata": {
        "colab": {
          "base_uri": "https://localhost:8080/"
        },
        "id": "x4Ji_dPHObsj",
        "outputId": "781ffddf-f8b3-4e06-bbbe-db9ceaf17b1d"
      },
      "execution_count": 8,
      "outputs": [
        {
          "output_type": "stream",
          "name": "stdout",
          "text": [
            "----------------------------------------------------------------\n",
            "        Layer (type)               Output Shape         Param #\n",
            "================================================================\n",
            "            Linear-1              [-1, 1, 1024]         803,840\n",
            "         LeakyReLU-2              [-1, 1, 1024]               0\n",
            "           Dropout-3              [-1, 1, 1024]               0\n",
            "            Linear-4               [-1, 1, 512]         524,800\n",
            "         LeakyReLU-5               [-1, 1, 512]               0\n",
            "           Dropout-6               [-1, 1, 512]               0\n",
            "            Linear-7               [-1, 1, 256]         131,328\n",
            "         LeakyReLU-8               [-1, 1, 256]               0\n",
            "           Dropout-9               [-1, 1, 256]               0\n",
            "           Linear-10                 [-1, 1, 1]             257\n",
            "          Sigmoid-11                 [-1, 1, 1]               0\n",
            "================================================================\n",
            "Total params: 1,460,225\n",
            "Trainable params: 1,460,225\n",
            "Non-trainable params: 0\n",
            "----------------------------------------------------------------\n",
            "Input size (MB): 0.00\n",
            "Forward/backward pass size (MB): 0.04\n",
            "Params size (MB): 5.57\n",
            "Estimated Total Size (MB): 5.61\n",
            "----------------------------------------------------------------\n"
          ]
        }
      ]
    },
    {
      "cell_type": "code",
      "source": [
        "d_optimizer=torch.optim.Adam(discriminator.parameters(), lr=0.0002)\n",
        "g_optimizer=torch.optim.Adam(generator.parameters(), lr=0.0002)\n",
        "loss=nn.BCELoss()"
      ],
      "metadata": {
        "id": "fbB9fDVnQjtz"
      },
      "execution_count": 11,
      "outputs": []
    },
    {
      "cell_type": "code",
      "source": [
        "#@ Function to train discriminator:\n",
        "def discriminator_train_step(real_data, fake_data):\n",
        "\n",
        "  d_optimizer.zero_grad() # reseting the gradient\n",
        "\n",
        "  #prediction on real data:\n",
        "  prediction_real=discriminator(real_data)\n",
        "  error_real=loss(prediction_real, torch.ones(len(real_data), 1).to(device))\n",
        "  error_real.backward()\n",
        "\n",
        "  #prediction on fake data:\n",
        "  prediction_fake=discriminator(fake_data)\n",
        "  error_fake=loss(prediction_fake, torch.ones(len(fake_data), 1).to(device))\n",
        "  error_fake.backward()\n",
        "\n",
        "  d_optimizer.step()\n",
        "\n",
        "  return error_real + error_fake"
      ],
      "metadata": {
        "id": "BHU3wukLO6Cj"
      },
      "execution_count": 10,
      "outputs": []
    },
    {
      "cell_type": "code",
      "source": [
        "def generator_train_step(fake_data):\n",
        "  g_optimizer.zero_grad()\n",
        "  prediction =discriminator(fake_data)\n",
        "  error=loss(prediction, torch.ones(len(real_data), 1).to(device))\n",
        "  error.backward()\n",
        "  g_optimizer.step()\n",
        "  return error"
      ],
      "metadata": {
        "id": "PX8ZnpKEIy2V"
      },
      "execution_count": 12,
      "outputs": []
    },
    {
      "cell_type": "code",
      "source": [
        "import matplotlib.pyplot as plt\n",
        "\n",
        "num_epochs = 200\n",
        "d_losses = []\n",
        "g_losses = []\n",
        "\n",
        "for epoch in range(num_epochs):\n",
        "    N = len(dl)\n",
        "    for i, (images, _) in enumerate(dl):\n",
        "        real_data = images.view(len(images), -1).to(device)\n",
        "        fake_data = generator(noise(len(real_data))).to(device)\n",
        "        fake_data = fake_data.detach()\n",
        "        d_loss = discriminator_train_step(real_data, fake_data)\n",
        "\n",
        "        # Generating a new set of fake images from noisy data\n",
        "        fake_data = generator(noise(len(real_data))).to(device)\n",
        "        g_loss = generator_train_step(fake_data)\n",
        "\n",
        "        # Record losses\n",
        "        d_losses.append(d_loss.item())\n",
        "        g_losses.append(g_loss.item())\n",
        "\n",
        "# Plot losses over increasing epochs\n",
        "plt.figure(figsize=(10, 5))\n",
        "plt.plot(d_losses, label=\"Discriminator Loss\")\n",
        "plt.plot(g_losses, label=\"Generator Loss\")\n",
        "plt.xlabel(\"Iterations\")\n",
        "plt.ylabel(\"Loss\")\n",
        "plt.title(\"Discriminator and Generator Loss Over Iterations\")\n",
        "plt.legend()\n",
        "plt.show()\n"
      ],
      "metadata": {
        "colab": {
          "base_uri": "https://localhost:8080/",
          "height": 487
        },
        "id": "TWu3A-9sKQ5L",
        "outputId": "3d070d9a-f8dc-4c9d-b264-239b97eef0c3"
      },
      "execution_count": 13,
      "outputs": [
        {
          "output_type": "display_data",
          "data": {
            "text/plain": [
              "<Figure size 1000x500 with 1 Axes>"
            ],
            "image/png": "[encoded data removed]"
          },
          "metadata": {}
        }
      ]
    }
  ]
}