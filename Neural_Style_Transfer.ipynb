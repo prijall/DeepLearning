{
  "nbformat": 4,
  "nbformat_minor": 0,
  "metadata": {
    "colab": {
      "provenance": [],
      "authorship_tag": "ABX9TyM4UmWtT8yixvi+55rcULK0"
    },
    "kernelspec": {
      "name": "python3",
      "display_name": "Python 3"
    },
    "language_info": {
      "name": "python"
    }
  },
  "cells": [
    {
      "cell_type": "code",
      "source": [
        "from torchvision import transforms as T\n",
        "preprocess = T.Compose([\n",
        "    T.ToTensor(),\n",
        "    T.Normalize(mean=[0.485, 0.456, 0.406],\n",
        "                std=[0.229, 0.224, 0.225]),\n",
        "    T.Lambda(lambda x: x.mul_(255))\n",
        "])\n",
        "\n",
        "postprocess=T.Compose([\n",
        "    T.Lambda(lambda x: x.mul_(1./255)),\n",
        "    T.Normalize(\n",
        "        mean=[-0.485/0.299, -0.456/0.224, -0.406/0.225],\n",
        "        std=[1/0.229, 1/0.224, 1/0.255])\n",
        "])"
      ],
      "metadata": {
        "id": "eTp2rMEF3Oh_"
      },
      "execution_count": null,
      "outputs": []
    },
    {
      "cell_type": "code",
      "execution_count": null,
      "metadata": {
        "id": "13egsIa92Wwd"
      },
      "outputs": [],
      "source": [
        "#@ Gram Matrix module:\n",
        "class GramMatrix(nn.Module):\n",
        "  def forward(self, input):\n",
        "    b, c, h, w=input.size()\n",
        "    feature=input.view(b, c, h*w)\n",
        "    G= feature @ feature.transpose(1, 2)\n",
        "    G.div_(h*w)\n",
        "    return G"
      ]
    },
    {
      "cell_type": "code",
      "source": [
        "class GramMSELoss(nn.Module):\n",
        "  def forward(self, input, target):\n",
        "    output=F.mse_loss(GramMatrix()(input), target)\n",
        "    return(out)"
      ],
      "metadata": {
        "id": "Sag7YbEm4RrG"
      },
      "execution_count": null,
      "outputs": []
    }
  ]
}