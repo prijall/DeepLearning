{
 "cells": [
  {
   "cell_type": "markdown",
   "metadata": {},
   "source": [
    "### Sentence Segmentation and word tokenization"
   ]
  },
  {
   "cell_type": "code",
   "execution_count": 13,
   "metadata": {},
   "outputs": [
    {
     "name": "stderr",
     "output_type": "stream",
     "text": [
      "[nltk_data] Downloading package punkt_tab to\n",
      "[nltk_data]     C:\\Users\\khadk\\AppData\\Roaming\\nltk_data...\n",
      "[nltk_data]   Package punkt_tab is already up-to-date!\n"
     ]
    }
   ],
   "source": [
    "import nltk\n",
    "nltk.download('punkt_tab')\n",
    "from nltk.tokenize import sent_tokenize, word_tokenize"
   ]
  },
  {
   "cell_type": "code",
   "execution_count": 14,
   "metadata": {},
   "outputs": [],
   "source": [
    "mytext= \"Mountains are majestic natural formations that rise prominently above the surrounding terrain, offering breathtaking views and hosting diverse ecosystems. They are shaped over millions of years by tectonic forces, volcanic activity, and erosion. Mountains serve as habitats for a wide variety of flora and fauna, many of which have adapted to the harsh conditions of high altitudes. Beyond their ecological importance, mountains hold cultural and spiritual significance for many communities around the world, often symbolizing strength, endurance, and a connection to nature. They also provide essential resources, including freshwater from glaciers and rivers, and attract adventurers, hikers, and tourists seeking tranquility or challenge in their rugged landscapes. From the snowy peaks of the Himalayas to the rolling ridges of the Appalachians, mountains inspire awe and remind us of the Earth's immense natural beauty.\""
   ]
  },
  {
   "cell_type": "code",
   "execution_count": 15,
   "metadata": {},
   "outputs": [],
   "source": [
    "my_sentences=sent_tokenize(mytext)"
   ]
  },
  {
   "cell_type": "code",
   "execution_count": 16,
   "metadata": {},
   "outputs": [
    {
     "name": "stdout",
     "output_type": "stream",
     "text": [
      "Mountains are majestic natural formations that rise prominently above the surrounding terrain, offering breathtaking views and hosting diverse ecosystems.\n",
      "['Mountains', 'are', 'majestic', 'natural', 'formations', 'that', 'rise', 'prominently', 'above', 'the', 'surrounding', 'terrain', ',', 'offering', 'breathtaking', 'views', 'and', 'hosting', 'diverse', 'ecosystems', '.']\n",
      "They are shaped over millions of years by tectonic forces, volcanic activity, and erosion.\n",
      "['They', 'are', 'shaped', 'over', 'millions', 'of', 'years', 'by', 'tectonic', 'forces', ',', 'volcanic', 'activity', ',', 'and', 'erosion', '.']\n",
      "Mountains serve as habitats for a wide variety of flora and fauna, many of which have adapted to the harsh conditions of high altitudes.\n",
      "['Mountains', 'serve', 'as', 'habitats', 'for', 'a', 'wide', 'variety', 'of', 'flora', 'and', 'fauna', ',', 'many', 'of', 'which', 'have', 'adapted', 'to', 'the', 'harsh', 'conditions', 'of', 'high', 'altitudes', '.']\n",
      "Beyond their ecological importance, mountains hold cultural and spiritual significance for many communities around the world, often symbolizing strength, endurance, and a connection to nature.\n",
      "['Beyond', 'their', 'ecological', 'importance', ',', 'mountains', 'hold', 'cultural', 'and', 'spiritual', 'significance', 'for', 'many', 'communities', 'around', 'the', 'world', ',', 'often', 'symbolizing', 'strength', ',', 'endurance', ',', 'and', 'a', 'connection', 'to', 'nature', '.']\n",
      "They also provide essential resources, including freshwater from glaciers and rivers, and attract adventurers, hikers, and tourists seeking tranquility or challenge in their rugged landscapes.\n",
      "['They', 'also', 'provide', 'essential', 'resources', ',', 'including', 'freshwater', 'from', 'glaciers', 'and', 'rivers', ',', 'and', 'attract', 'adventurers', ',', 'hikers', ',', 'and', 'tourists', 'seeking', 'tranquility', 'or', 'challenge', 'in', 'their', 'rugged', 'landscapes', '.']\n",
      "From the snowy peaks of the Himalayas to the rolling ridges of the Appalachians, mountains inspire awe and remind us of the Earth's immense natural beauty.\n",
      "['From', 'the', 'snowy', 'peaks', 'of', 'the', 'Himalayas', 'to', 'the', 'rolling', 'ridges', 'of', 'the', 'Appalachians', ',', 'mountains', 'inspire', 'awe', 'and', 'remind', 'us', 'of', 'the', 'Earth', \"'s\", 'immense', 'natural', 'beauty', '.']\n"
     ]
    }
   ],
   "source": [
    "for sentence in my_sentences:\n",
    "    print(sentence)\n",
    "    print(word_tokenize(sentence))"
   ]
  },
  {
   "cell_type": "markdown",
   "metadata": {},
   "source": [
    "## removal of Stopword, digits, punctuation and lowercasing:"
   ]
  },
  {
   "cell_type": "code",
   "execution_count": 35,
   "metadata": {},
   "outputs": [
    {
     "name": "stderr",
     "output_type": "stream",
     "text": [
      "[nltk_data] Downloading package stopwords to\n",
      "[nltk_data]     C:\\Users\\khadk\\AppData\\Roaming\\nltk_data...\n",
      "[nltk_data]   Package stopwords is already up-to-date!\n"
     ]
    }
   ],
   "source": [
    "from nltk.corpus import stopwords\n",
    "from string import punctuation\n",
    "nltk.download('stopwords')\n",
    "\n",
    "def preprocesss_corpus(texts):\n",
    "    mystopwords=set(stopwords.words('english'))\n",
    "\n",
    "    def remove_stop_digits(tokens):\n",
    "        return [token.lower() for token in tokens if token not in mystopwords \n",
    "                and not token.isdigit() and token not in punctuation]\n",
    "\n",
    "    \n",
    "    return [remove_stop_digits(word_tokenize(text) for text in texts)]"
   ]
  },
  {
   "cell_type": "code",
   "execution_count": 32,
   "metadata": {},
   "outputs": [],
   "source": [
    "mytext='ON a bright day, 7 birds were flying high in the SKY; however, they didnt notice the looming storm clouds. Suddenly, at 3:15 PM, thunder ROARED, and lightning struck near a tall tree! Everyone quickly ran FOR shelter, wondering what was happening.'"
   ]
  },
  {
   "cell_type": "code",
   "execution_count": 38,
   "metadata": {},
   "outputs": [
    {
     "name": "stdout",
     "output_type": "stream",
     "text": [
      "car revolut\n"
     ]
    }
   ],
   "source": [
    "#@ Stemming:\n",
    "from nltk.stem.porter import PorterStemmer\n",
    "stemmer=PorterStemmer()\n",
    "w1, w2='cars', 'revolution'\n",
    "print(stemmer.stem(w1), stemmer.stem(w2))"
   ]
  },
  {
   "cell_type": "code",
   "execution_count": 46,
   "metadata": {},
   "outputs": [
    {
     "name": "stdout",
     "output_type": "stream",
     "text": [
      "play\n",
      "play\n",
      "\n",
      "\n",
      "malicious\n"
     ]
    }
   ],
   "source": [
    "#@ Lemmatization:\n",
    "from nltk.stem import WordNetLemmatizer\n",
    "# nltk.download('wordnet')\n",
    "lemma=WordNetLemmatizer()\n",
    "print(lemma.lemmatize('playing', pos='v'))\n",
    "print(lemma.lemmatize('played', pos='v'))\n",
    "print('\\n')\n",
    "print(lemma.lemmatize('malicious', pos='a'))"
   ]
  }
 ],
 "metadata": {
  "kernelspec": {
   "display_name": "Python 3",
   "language": "python",
   "name": "python3"
  },
  "language_info": {
   "codemirror_mode": {
    "name": "ipython",
    "version": 3
   },
   "file_extension": ".py",
   "mimetype": "text/x-python",
   "name": "python",
   "nbconvert_exporter": "python",
   "pygments_lexer": "ipython3",
   "version": "3.12.0"
  }
 },
 "nbformat": 4,
 "nbformat_minor": 2
}
