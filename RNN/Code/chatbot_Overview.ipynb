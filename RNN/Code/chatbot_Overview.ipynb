{
 "cells": [
  {
   "cell_type": "code",
   "execution_count": 1,
   "metadata": {},
   "outputs": [
    {
     "name": "stdout",
     "output_type": "stream",
     "text": [
      "Thermo-Nuclear war is a strange game.The only winning move is not to play\n"
     ]
    }
   ],
   "source": [
    "#@ Keyword Based greeting recognizer:\n",
    "\n",
    "greetings='Hi Hello Greetings'.split()\n",
    "user_statement='Hello Prijal'\n",
    "user_token_sequence=user_statement.split()\n",
    "# print(user_token_sequence)\n",
    "\n",
    "if user_token_sequence[0] in greetings:\n",
    "    bot_reply='Thermo-Nuclear war is a strange game.'\n",
    "    bot_reply+='The only winning move is not to play'\n",
    "else:\n",
    "    bot_reply='Would you like to play a nice game of chess'\n",
    "\n",
    "print(bot_reply)\n"
   ]
  },
  {
   "cell_type": "code",
   "execution_count": null,
   "metadata": {},
   "outputs": [
    {
     "name": "stdout",
     "output_type": "stream",
     "text": [
      "None\n"
     ]
    }
   ],
   "source": [
    "#@ Pattern based intent recognition:\n",
    "\n",
    "import re\n",
    "\n",
    "r='(hi | hello | hey)[, :.!]*([a-zA-Z]*)'\n",
    "a=re.match(r, 'Hello Rosa', flags=re.IGNORECASE)\n"
   ]
  }
 ],
 "metadata": {
  "kernelspec": {
   "display_name": "Python 3",
   "language": "python",
   "name": "python3"
  },
  "language_info": {
   "codemirror_mode": {
    "name": "ipython",
    "version": 3
   },
   "file_extension": ".py",
   "mimetype": "text/x-python",
   "name": "python",
   "nbconvert_exporter": "python",
   "pygments_lexer": "ipython3",
   "version": "3.12.0"
  }
 },
 "nbformat": 4,
 "nbformat_minor": 2
}
