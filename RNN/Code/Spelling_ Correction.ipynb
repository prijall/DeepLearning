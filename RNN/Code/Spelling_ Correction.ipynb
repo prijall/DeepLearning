{
 "cells": [
  {
   "cell_type": "code",
   "execution_count": 2,
   "metadata": {},
   "outputs": [],
   "source": [
    "from spellchecker import SpellChecker"
   ]
  },
  {
   "cell_type": "code",
   "execution_count": 6,
   "metadata": {},
   "outputs": [
    {
     "name": "stdout",
     "output_type": "stream",
     "text": [
      "Suggestions for hllo: {'hollo', 'hello', 'halo', 'hallo'}\n"
     ]
    }
   ],
   "source": [
    "spell=SpellChecker()\n",
    "words='Hllo'\n",
    "\n",
    "\n",
    "misspelled=spell.unknown([words])\n",
    "\n",
    "for word in misspelled:\n",
    "    print(f'Suggestions for {word}: {spell.candidates(word)}')"
   ]
  }
 ],
 "metadata": {
  "kernelspec": {
   "display_name": "Python 3",
   "language": "python",
   "name": "python3"
  },
  "language_info": {
   "codemirror_mode": {
    "name": "ipython",
    "version": 3
   },
   "file_extension": ".py",
   "mimetype": "text/x-python",
   "name": "python",
   "nbconvert_exporter": "python",
   "pygments_lexer": "ipython3",
   "version": "3.12.0"
  }
 },
 "nbformat": 4,
 "nbformat_minor": 2
}
