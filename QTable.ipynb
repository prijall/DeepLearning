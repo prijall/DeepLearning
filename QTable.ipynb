{
  "nbformat": 4,
  "nbformat_minor": 0,
  "metadata": {
    "colab": {
      "provenance": [],
      "authorship_tag": "ABX9TyNlsw9aWIfB9GAq2WAdB+fP"
    },
    "kernelspec": {
      "name": "python3",
      "display_name": "Python 3"
    },
    "language_info": {
      "name": "python"
    }
  },
  "cells": [
    {
      "cell_type": "markdown",
      "source": [
        "# Gym Environment"
      ],
      "metadata": {
        "id": "iiV7Oouq5BPK"
      }
    },
    {
      "cell_type": "code",
      "execution_count": 3,
      "metadata": {
        "colab": {
          "base_uri": "https://localhost:8080/"
        },
        "id": "QIyjZOaE0-WF",
        "outputId": "69b81a20-62ba-4a38-cb88-e89ea2a7c849"
      },
      "outputs": [
        {
          "output_type": "stream",
          "name": "stdout",
          "text": [
            "Requirement already satisfied: gym==0.26.2 in /usr/local/lib/python3.11/dist-packages (0.26.2)\n",
            "Requirement already satisfied: numpy>=1.18.0 in /usr/local/lib/python3.11/dist-packages (from gym==0.26.2) (2.0.2)\n",
            "Requirement already satisfied: cloudpickle>=1.2.0 in /usr/local/lib/python3.11/dist-packages (from gym==0.26.2) (3.1.1)\n",
            "Requirement already satisfied: gym_notices>=0.0.4 in /usr/local/lib/python3.11/dist-packages (from gym==0.26.2) (0.0.8)\n"
          ]
        }
      ],
      "source": [
        "%pip install -U \"gym==0.26.2\" # -U flag stands for Upgrade\n",
        "import numpy as np\n",
        "import gym\n",
        "import random"
      ]
    },
    {
      "cell_type": "code",
      "source": [
        "from gym import envs\n",
        "print('\\n'.join([str(env) for env in envs.registry]))"
      ],
      "metadata": {
        "colab": {
          "base_uri": "https://localhost:8080/"
        },
        "id": "KXzoIIz91qsJ",
        "outputId": "21c86a61-0828-4a5b-efa3-4446d407127e"
      },
      "execution_count": 4,
      "outputs": [
        {
          "output_type": "stream",
          "name": "stdout",
          "text": [
            "CartPole-v0\n",
            "CartPole-v1\n",
            "MountainCar-v0\n",
            "MountainCarContinuous-v0\n",
            "Pendulum-v1\n",
            "Acrobot-v1\n",
            "LunarLander-v2\n",
            "LunarLanderContinuous-v2\n",
            "BipedalWalker-v3\n",
            "BipedalWalkerHardcore-v3\n",
            "CarRacing-v2\n",
            "Blackjack-v1\n",
            "FrozenLake-v1\n",
            "FrozenLake8x8-v1\n",
            "CliffWalking-v0\n",
            "Taxi-v3\n",
            "Reacher-v2\n",
            "Reacher-v4\n",
            "Pusher-v2\n",
            "Pusher-v4\n",
            "InvertedPendulum-v2\n",
            "InvertedPendulum-v4\n",
            "InvertedDoublePendulum-v2\n",
            "InvertedDoublePendulum-v4\n",
            "HalfCheetah-v2\n",
            "HalfCheetah-v3\n",
            "HalfCheetah-v4\n",
            "Hopper-v2\n",
            "Hopper-v3\n",
            "Hopper-v4\n",
            "Swimmer-v2\n",
            "Swimmer-v3\n",
            "Swimmer-v4\n",
            "Walker2d-v2\n",
            "Walker2d-v3\n",
            "Walker2d-v4\n",
            "Ant-v2\n",
            "Ant-v3\n",
            "Ant-v4\n",
            "Humanoid-v2\n",
            "Humanoid-v3\n",
            "Humanoid-v4\n",
            "HumanoidStandup-v2\n",
            "HumanoidStandup-v4\n"
          ]
        }
      ]
    },
    {
      "cell_type": "code",
      "source": [
        "#@ creating an environment for chosen games:\n",
        "env=gym.make('FrozenLake-v1', is_slippery=False, render_mode='rgb_array')\n",
        "env.reset()"
      ],
      "metadata": {
        "colab": {
          "base_uri": "https://localhost:8080/"
        },
        "id": "wyqxkBpK2FWh",
        "outputId": "5d789eac-eb46-459a-ad5c-8dd3709bee94"
      },
      "execution_count": 5,
      "outputs": [
        {
          "output_type": "execute_result",
          "data": {
            "text/plain": [
              "(0, {'prob': 1})"
            ]
          },
          "metadata": {},
          "execution_count": 5
        }
      ]
    },
    {
      "cell_type": "code",
      "source": [
        "#@ inspection\n",
        "env.render()"
      ],
      "metadata": {
        "colab": {
          "base_uri": "https://localhost:8080/",
          "height": 296
        },
        "id": "REdUgkg22XZh",
        "outputId": "78e393f8-b6e4-42a8-8445-06ccbbc0d5cb"
      },
      "execution_count": 6,
      "outputs": [
        {
          "output_type": "execute_result",
          "data": {
            "text/plain": [
              "array([[[180, 200, 230],\n",
              "        [180, 200, 230],\n",
              "        [180, 200, 230],\n",
              "        ...,\n",
              "        [180, 200, 230],\n",
              "        [180, 200, 230],\n",
              "        [180, 200, 230]],\n",
              "\n",
              "       [[180, 200, 230],\n",
              "        [204, 230, 255],\n",
              "        [204, 230, 255],\n",
              "        ...,\n",
              "        [204, 230, 255],\n",
              "        [204, 230, 255],\n",
              "        [180, 200, 230]],\n",
              "\n",
              "       [[180, 200, 230],\n",
              "        [235, 245, 249],\n",
              "        [204, 230, 255],\n",
              "        ...,\n",
              "        [204, 230, 255],\n",
              "        [204, 230, 255],\n",
              "        [180, 200, 230]],\n",
              "\n",
              "       ...,\n",
              "\n",
              "       [[180, 200, 230],\n",
              "        [235, 245, 249],\n",
              "        [235, 245, 249],\n",
              "        ...,\n",
              "        [204, 230, 255],\n",
              "        [235, 245, 249],\n",
              "        [180, 200, 230]],\n",
              "\n",
              "       [[180, 200, 230],\n",
              "        [235, 245, 249],\n",
              "        [235, 245, 249],\n",
              "        ...,\n",
              "        [204, 230, 255],\n",
              "        [204, 230, 255],\n",
              "        [180, 200, 230]],\n",
              "\n",
              "       [[180, 200, 230],\n",
              "        [180, 200, 230],\n",
              "        [180, 200, 230],\n",
              "        ...,\n",
              "        [180, 200, 230],\n",
              "        [180, 200, 230],\n",
              "        [180, 200, 230]]], dtype=uint8)"
            ],
            "text/html": [
              "<style>\n",
              "      .ndarray_repr .ndarray_raw_data {\n",
              "        display: none;\n",
              "      }\n",
              "      .ndarray_repr.show_array .ndarray_raw_data {\n",
              "        display: block;\n",
              "      }\n",
              "      .ndarray_repr.show_array .ndarray_image_preview {\n",
              "        display: none;\n",
              "      }\n",
              "      </style>\n",
              "      <div id=\"id-1ee91316-7b27-4350-856c-8b2391e3e0a3\" class=\"ndarray_repr\"><pre>ndarray (256, 256, 3) <button style=\"padding: 0 2px;\">show data</button></pre><img src=\"data:image/png;base64,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\" class=\"ndarray_image_preview\" /><pre class=\"ndarray_raw_data\">array([[[180, 200, 230],\n",
              "        [180, 200, 230],\n",
              "        [180, 200, 230],\n",
              "        ...,\n",
              "        [180, 200, 230],\n",
              "        [180, 200, 230],\n",
              "        [180, 200, 230]],\n",
              "\n",
              "       [[180, 200, 230],\n",
              "        [204, 230, 255],\n",
              "        [204, 230, 255],\n",
              "        ...,\n",
              "        [204, 230, 255],\n",
              "        [204, 230, 255],\n",
              "        [180, 200, 230]],\n",
              "\n",
              "       [[180, 200, 230],\n",
              "        [235, 245, 249],\n",
              "        [204, 230, 255],\n",
              "        ...,\n",
              "        [204, 230, 255],\n",
              "        [204, 230, 255],\n",
              "        [180, 200, 230]],\n",
              "\n",
              "       ...,\n",
              "\n",
              "       [[180, 200, 230],\n",
              "        [235, 245, 249],\n",
              "        [235, 245, 249],\n",
              "        ...,\n",
              "        [204, 230, 255],\n",
              "        [235, 245, 249],\n",
              "        [180, 200, 230]],\n",
              "\n",
              "       [[180, 200, 230],\n",
              "        [235, 245, 249],\n",
              "        [235, 245, 249],\n",
              "        ...,\n",
              "        [204, 230, 255],\n",
              "        [204, 230, 255],\n",
              "        [180, 200, 230]],\n",
              "\n",
              "       [[180, 200, 230],\n",
              "        [180, 200, 230],\n",
              "        [180, 200, 230],\n",
              "        ...,\n",
              "        [180, 200, 230],\n",
              "        [180, 200, 230],\n",
              "        [180, 200, 230]]], dtype=uint8)</pre></div><script>\n",
              "      (() => {\n",
              "      const titles = ['show data', 'hide data'];\n",
              "      let index = 0\n",
              "      document.querySelector('#id-1ee91316-7b27-4350-856c-8b2391e3e0a3 button').onclick = (e) => {\n",
              "        document.querySelector('#id-1ee91316-7b27-4350-856c-8b2391e3e0a3').classList.toggle('show_array');\n",
              "        index = (++index) % 2;\n",
              "        document.querySelector('#id-1ee91316-7b27-4350-856c-8b2391e3e0a3 button').textContent = titles[index];\n",
              "        e.preventDefault();\n",
              "        e.stopPropagation();\n",
              "      }\n",
              "      })();\n",
              "    </script>"
            ]
          },
          "metadata": {},
          "execution_count": 6
        }
      ]
    },
    {
      "cell_type": "code",
      "source": [
        "#@ Printing the size of the number of states in the game:\n",
        "print('Number of states:', env.observation_space.n)\n",
        "print('Number of possible action:', env.action_space.n)"
      ],
      "metadata": {
        "colab": {
          "base_uri": "https://localhost:8080/"
        },
        "id": "8WxD69fF3NL7",
        "outputId": "6783d8bf-e1c2-4fd6-ef3e-be27c8ab45af"
      },
      "execution_count": 7,
      "outputs": [
        {
          "output_type": "stream",
          "name": "stdout",
          "text": [
            "Number of states: 16\n",
            "Number of possible action: 4\n"
          ]
        }
      ]
    },
    {
      "cell_type": "code",
      "source": [
        "env.action_space.sample()"
      ],
      "metadata": {
        "colab": {
          "base_uri": "https://localhost:8080/"
        },
        "id": "uqGDdkdQ4FRi",
        "outputId": "a22b3c66-088b-4a0b-bac1-a98126261ecb"
      },
      "execution_count": 8,
      "outputs": [
        {
          "output_type": "execute_result",
          "data": {
            "text/plain": [
              "3"
            ]
          },
          "metadata": {},
          "execution_count": 8
        }
      ]
    },
    {
      "cell_type": "code",
      "source": [
        "env.reset()"
      ],
      "metadata": {
        "colab": {
          "base_uri": "https://localhost:8080/"
        },
        "id": "eE9p82vI4P7a",
        "outputId": "54d9b4fe-b00c-4f61-b8bd-405d3cc678b2"
      },
      "execution_count": 9,
      "outputs": [
        {
          "output_type": "execute_result",
          "data": {
            "text/plain": [
              "(0, {'prob': 1})"
            ]
          },
          "metadata": {},
          "execution_count": 9
        }
      ]
    },
    {
      "cell_type": "code",
      "source": [
        "env.step(env.action_space.sample())"
      ],
      "metadata": {
        "colab": {
          "base_uri": "https://localhost:8080/"
        },
        "id": "5rYllblZ4SeB",
        "outputId": "a2868be7-8afd-4131-e889-ecdf370012cd"
      },
      "execution_count": 11,
      "outputs": [
        {
          "output_type": "execute_result",
          "data": {
            "text/plain": [
              "(5, 0.0, True, False, {'prob': 1.0})"
            ]
          },
          "metadata": {},
          "execution_count": 11
        }
      ]
    },
    {
      "cell_type": "markdown",
      "source": [
        "# Building Q-table"
      ],
      "metadata": {
        "id": "gRqw5GJA5Fza"
      }
    },
    {
      "cell_type": "code",
      "source": [
        "%pip install torch-snippets \"gym==0.26.2\"\n",
        "import numpy as np\n",
        "import gym\n",
        "import random"
      ],
      "metadata": {
        "colab": {
          "base_uri": "https://localhost:8080/"
        },
        "id": "mxls5pkc5I4q",
        "outputId": "cc3afdea-07fd-4690-d4d0-4b770cba9b46"
      },
      "execution_count": 12,
      "outputs": [
        {
          "output_type": "stream",
          "name": "stdout",
          "text": [
            "Requirement already satisfied: torch-snippets in /usr/local/lib/python3.11/dist-packages (0.553)\n",
            "Requirement already satisfied: gym==0.26.2 in /usr/local/lib/python3.11/dist-packages (0.26.2)\n",
            "Requirement already satisfied: numpy>=1.18.0 in /usr/local/lib/python3.11/dist-packages (from gym==0.26.2) (2.0.2)\n",
            "Requirement already satisfied: cloudpickle>=1.2.0 in /usr/local/lib/python3.11/dist-packages (from gym==0.26.2) (3.1.1)\n",
            "Requirement already satisfied: gym_notices>=0.0.4 in /usr/local/lib/python3.11/dist-packages (from gym==0.26.2) (0.0.8)\n",
            "Requirement already satisfied: fastcore in /usr/local/lib/python3.11/dist-packages (from torch-snippets) (1.7.29)\n",
            "Requirement already satisfied: matplotlib in /usr/local/lib/python3.11/dist-packages (from torch-snippets) (3.10.0)\n",
            "Requirement already satisfied: Pillow in /usr/local/lib/python3.11/dist-packages (from torch-snippets) (11.1.0)\n",
            "Requirement already satisfied: dill in /usr/local/lib/python3.11/dist-packages (from torch-snippets) (0.3.9)\n",
            "Requirement already satisfied: loguru in /usr/local/lib/python3.11/dist-packages (from torch-snippets) (0.7.3)\n",
            "Requirement already satisfied: pandas in /usr/local/lib/python3.11/dist-packages (from torch-snippets) (2.2.2)\n",
            "Requirement already satisfied: tqdm in /usr/local/lib/python3.11/dist-packages (from torch-snippets) (4.67.1)\n",
            "Requirement already satisfied: rich in /usr/local/lib/python3.11/dist-packages (from torch-snippets) (13.9.4)\n",
            "Requirement already satisfied: PyYAML in /usr/local/lib/python3.11/dist-packages (from torch-snippets) (6.0.2)\n",
            "Requirement already satisfied: catalogue in /usr/local/lib/python3.11/dist-packages (from torch-snippets) (2.0.10)\n",
            "Requirement already satisfied: confection in /usr/local/lib/python3.11/dist-packages (from torch-snippets) (0.1.5)\n",
            "Requirement already satisfied: pydantic in /usr/local/lib/python3.11/dist-packages (from torch-snippets) (2.11.2)\n",
            "Requirement already satisfied: typing in /usr/local/lib/python3.11/dist-packages (from torch-snippets) (3.7.4.3)\n",
            "Requirement already satisfied: srsly in /usr/local/lib/python3.11/dist-packages (from torch-snippets) (2.5.1)\n",
            "Requirement already satisfied: typing-extensions in /usr/local/lib/python3.11/dist-packages (from torch-snippets) (4.13.1)\n",
            "Requirement already satisfied: wasabi in /usr/local/lib/python3.11/dist-packages (from torch-snippets) (1.1.3)\n",
            "Requirement already satisfied: jsonlines in /usr/local/lib/python3.11/dist-packages (from torch-snippets) (4.0.0)\n",
            "Requirement already satisfied: imgaug>=0.4.0 in /usr/local/lib/python3.11/dist-packages (from torch-snippets) (0.4.0)\n",
            "Requirement already satisfied: xmltodict in /usr/local/lib/python3.11/dist-packages (from torch-snippets) (0.14.2)\n",
            "Requirement already satisfied: fuzzywuzzy in /usr/local/lib/python3.11/dist-packages (from torch-snippets) (0.18.0)\n",
            "Requirement already satisfied: nltk in /usr/local/lib/python3.11/dist-packages (from torch-snippets) (3.9.1)\n",
            "Requirement already satisfied: python-Levenshtein in /usr/local/lib/python3.11/dist-packages (from torch-snippets) (0.27.1)\n",
            "Requirement already satisfied: pre-commit in /usr/local/lib/python3.11/dist-packages (from torch-snippets) (4.2.0)\n",
            "Requirement already satisfied: icecream in /usr/local/lib/python3.11/dist-packages (from torch-snippets) (2.1.4)\n",
            "Requirement already satisfied: mergedeep in /usr/local/lib/python3.11/dist-packages (from torch-snippets) (1.3.4)\n",
            "Requirement already satisfied: deepdiff in /usr/local/lib/python3.11/dist-packages (from torch-snippets) (8.4.2)\n",
            "Requirement already satisfied: typer in /usr/local/lib/python3.11/dist-packages (from torch-snippets) (0.15.2)\n",
            "Requirement already satisfied: six in /usr/local/lib/python3.11/dist-packages (from imgaug>=0.4.0->torch-snippets) (1.17.0)\n",
            "Requirement already satisfied: scipy in /usr/local/lib/python3.11/dist-packages (from imgaug>=0.4.0->torch-snippets) (1.14.1)\n",
            "Requirement already satisfied: scikit-image>=0.14.2 in /usr/local/lib/python3.11/dist-packages (from imgaug>=0.4.0->torch-snippets) (0.25.2)\n",
            "Requirement already satisfied: opencv-python in /usr/local/lib/python3.11/dist-packages (from imgaug>=0.4.0->torch-snippets) (4.11.0.86)\n",
            "Requirement already satisfied: imageio in /usr/local/lib/python3.11/dist-packages (from imgaug>=0.4.0->torch-snippets) (2.37.0)\n",
            "Requirement already satisfied: Shapely in /usr/local/lib/python3.11/dist-packages (from imgaug>=0.4.0->torch-snippets) (2.1.0)\n",
            "Requirement already satisfied: annotated-types>=0.6.0 in /usr/local/lib/python3.11/dist-packages (from pydantic->torch-snippets) (0.7.0)\n",
            "Requirement already satisfied: pydantic-core==2.33.1 in /usr/local/lib/python3.11/dist-packages (from pydantic->torch-snippets) (2.33.1)\n",
            "Requirement already satisfied: typing-inspection>=0.4.0 in /usr/local/lib/python3.11/dist-packages (from pydantic->torch-snippets) (0.4.0)\n",
            "Requirement already satisfied: orderly-set<6,>=5.3.0 in /usr/local/lib/python3.11/dist-packages (from deepdiff->torch-snippets) (5.4.0)\n",
            "Requirement already satisfied: packaging in /usr/local/lib/python3.11/dist-packages (from fastcore->torch-snippets) (24.2)\n",
            "Requirement already satisfied: colorama>=0.3.9 in /usr/local/lib/python3.11/dist-packages (from icecream->torch-snippets) (0.4.6)\n",
            "Requirement already satisfied: pygments>=2.2.0 in /usr/local/lib/python3.11/dist-packages (from icecream->torch-snippets) (2.18.0)\n",
            "Requirement already satisfied: executing>=2.1.0 in /usr/local/lib/python3.11/dist-packages (from icecream->torch-snippets) (2.2.0)\n",
            "Requirement already satisfied: asttokens>=2.0.1 in /usr/local/lib/python3.11/dist-packages (from icecream->torch-snippets) (3.0.0)\n",
            "Requirement already satisfied: attrs>=19.2.0 in /usr/local/lib/python3.11/dist-packages (from jsonlines->torch-snippets) (25.3.0)\n",
            "Requirement already satisfied: contourpy>=1.0.1 in /usr/local/lib/python3.11/dist-packages (from matplotlib->torch-snippets) (1.3.1)\n",
            "Requirement already satisfied: cycler>=0.10 in /usr/local/lib/python3.11/dist-packages (from matplotlib->torch-snippets) (0.12.1)\n",
            "Requirement already satisfied: fonttools>=4.22.0 in /usr/local/lib/python3.11/dist-packages (from matplotlib->torch-snippets) (4.57.0)\n",
            "Requirement already satisfied: kiwisolver>=1.3.1 in /usr/local/lib/python3.11/dist-packages (from matplotlib->torch-snippets) (1.4.8)\n",
            "Requirement already satisfied: pyparsing>=2.3.1 in /usr/local/lib/python3.11/dist-packages (from matplotlib->torch-snippets) (3.2.3)\n",
            "Requirement already satisfied: python-dateutil>=2.7 in /usr/local/lib/python3.11/dist-packages (from matplotlib->torch-snippets) (2.8.2)\n",
            "Requirement already satisfied: click in /usr/local/lib/python3.11/dist-packages (from nltk->torch-snippets) (8.1.8)\n",
            "Requirement already satisfied: joblib in /usr/local/lib/python3.11/dist-packages (from nltk->torch-snippets) (1.4.2)\n",
            "Requirement already satisfied: regex>=2021.8.3 in /usr/local/lib/python3.11/dist-packages (from nltk->torch-snippets) (2024.11.6)\n",
            "Requirement already satisfied: pytz>=2020.1 in /usr/local/lib/python3.11/dist-packages (from pandas->torch-snippets) (2025.2)\n",
            "Requirement already satisfied: tzdata>=2022.7 in /usr/local/lib/python3.11/dist-packages (from pandas->torch-snippets) (2025.2)\n",
            "Requirement already satisfied: cfgv>=2.0.0 in /usr/local/lib/python3.11/dist-packages (from pre-commit->torch-snippets) (3.4.0)\n",
            "Requirement already satisfied: identify>=1.0.0 in /usr/local/lib/python3.11/dist-packages (from pre-commit->torch-snippets) (2.6.9)\n",
            "Requirement already satisfied: nodeenv>=0.11.1 in /usr/local/lib/python3.11/dist-packages (from pre-commit->torch-snippets) (1.9.1)\n",
            "Requirement already satisfied: virtualenv>=20.10.0 in /usr/local/lib/python3.11/dist-packages (from pre-commit->torch-snippets) (20.30.0)\n",
            "Requirement already satisfied: Levenshtein==0.27.1 in /usr/local/lib/python3.11/dist-packages (from python-Levenshtein->torch-snippets) (0.27.1)\n",
            "Requirement already satisfied: rapidfuzz<4.0.0,>=3.9.0 in /usr/local/lib/python3.11/dist-packages (from Levenshtein==0.27.1->python-Levenshtein->torch-snippets) (3.13.0)\n",
            "Requirement already satisfied: markdown-it-py>=2.2.0 in /usr/local/lib/python3.11/dist-packages (from rich->torch-snippets) (3.0.0)\n",
            "Requirement already satisfied: shellingham>=1.3.0 in /usr/local/lib/python3.11/dist-packages (from typer->torch-snippets) (1.5.4)\n",
            "Requirement already satisfied: mdurl~=0.1 in /usr/local/lib/python3.11/dist-packages (from markdown-it-py>=2.2.0->rich->torch-snippets) (0.1.2)\n",
            "Requirement already satisfied: networkx>=3.0 in /usr/local/lib/python3.11/dist-packages (from scikit-image>=0.14.2->imgaug>=0.4.0->torch-snippets) (3.4.2)\n",
            "Requirement already satisfied: tifffile>=2022.8.12 in /usr/local/lib/python3.11/dist-packages (from scikit-image>=0.14.2->imgaug>=0.4.0->torch-snippets) (2025.3.30)\n",
            "Requirement already satisfied: lazy-loader>=0.4 in /usr/local/lib/python3.11/dist-packages (from scikit-image>=0.14.2->imgaug>=0.4.0->torch-snippets) (0.4)\n",
            "Requirement already satisfied: distlib<1,>=0.3.7 in /usr/local/lib/python3.11/dist-packages (from virtualenv>=20.10.0->pre-commit->torch-snippets) (0.3.9)\n",
            "Requirement already satisfied: filelock<4,>=3.12.2 in /usr/local/lib/python3.11/dist-packages (from virtualenv>=20.10.0->pre-commit->torch-snippets) (3.18.0)\n",
            "Requirement already satisfied: platformdirs<5,>=3.9.1 in /usr/local/lib/python3.11/dist-packages (from virtualenv>=20.10.0->pre-commit->torch-snippets) (4.3.7)\n"
          ]
        }
      ]
    },
    {
      "cell_type": "code",
      "source": [
        "#@ Initialization Q-Table with zeros:\n",
        "\n",
        "action_size=env.action_space.n\n",
        "state_size=env.observation_space.n\n",
        "qtable=np.zeros((state_size, action_size))\n",
        "qtable"
      ],
      "metadata": {
        "colab": {
          "base_uri": "https://localhost:8080/"
        },
        "id": "jELXxBpc5_9S",
        "outputId": "ab9f77be-3ded-44c1-8f39-8d7fa5a35448"
      },
      "execution_count": 13,
      "outputs": [
        {
          "output_type": "execute_result",
          "data": {
            "text/plain": [
              "array([[0., 0., 0., 0.],\n",
              "       [0., 0., 0., 0.],\n",
              "       [0., 0., 0., 0.],\n",
              "       [0., 0., 0., 0.],\n",
              "       [0., 0., 0., 0.],\n",
              "       [0., 0., 0., 0.],\n",
              "       [0., 0., 0., 0.],\n",
              "       [0., 0., 0., 0.],\n",
              "       [0., 0., 0., 0.],\n",
              "       [0., 0., 0., 0.],\n",
              "       [0., 0., 0., 0.],\n",
              "       [0., 0., 0., 0.],\n",
              "       [0., 0., 0., 0.],\n",
              "       [0., 0., 0., 0.],\n",
              "       [0., 0., 0., 0.],\n",
              "       [0., 0., 0., 0.]])"
            ]
          },
          "metadata": {},
          "execution_count": 13
        }
      ]
    },
    {
      "cell_type": "code",
      "source": [
        "episode_rewards=[]\n",
        "for i in range(10000):\n",
        "  state, *_=env.reset()\n",
        "\n",
        "  total_rewards=0\n",
        "  for step in range(50):\n",
        "    action=env.action_space.sample()\n",
        "    new_state, reward, done, *_=env.step(action)\n",
        "\n",
        "    #updating qtable\n",
        "    qtable[state, action]+=0.1*(reward+0.9*np.max(qtable[new_state, :])- qtable[state, action])\n",
        "\n",
        "    state=new_state\n",
        "    total_rewards+=reward\n",
        "\n",
        "  episode_rewards.append(total_rewards)\n",
        "print(qtable)"
      ],
      "metadata": {
        "id": "gMx_OHlR6dva"
      },
      "execution_count": null,
      "outputs": []
    },
    {
      "cell_type": "markdown",
      "source": [
        "# Leveraging Exploration-Explotation"
      ],
      "metadata": {
        "id": "b7FY-9BLvi2d"
      }
    },
    {
      "cell_type": "code",
      "source": [
        "episode_rewards=[]\n",
        "epsilon=1\n",
        "max_epsilon=1\n",
        "min_epsilon=0.01\n",
        "decay_rate=0.005\n",
        "for episode in range(1000):\n",
        "  state, *_=env.reset()\n",
        "  total_rewards=0\n",
        "  for step in range(50):\n",
        "    exp_exp_tradeoff=random.uniform(0, 1)\n",
        "\n",
        "    # Exploitation:\n",
        "    if exp_exp_tradeoff>epsilon:\n",
        "      action=np.argmax(qtable[state, :])\n",
        "    else:\n",
        "      # Exploration:\n",
        "      action=env.action_space.sample()\n",
        "\n",
        "    new_state, reward, done, *_=env.step(action)\n",
        "    qtable[state, action]+=0.9*(reward + 0.9*np.max(qtable[new_state, :])-qtable[state, action])\n",
        "\n",
        "    state=new_state\n",
        "    total_rewards+=reward\n",
        "  episode_rewards.append(total_rewards)\n",
        "  epsilon=min_epsilon+(max_epsilon-min_epsilon)*np.exp(-decay_rate*episode) #Corrected the exponential decay formula\n",
        "print(qtable)"
      ],
      "metadata": {
        "colab": {
          "base_uri": "https://localhost:8080/"
        },
        "id": "5JTLfja-vpie",
        "outputId": "2ac3cc16-22d1-4dd5-913d-45731c7c4349"
      },
      "execution_count": 16,
      "outputs": [
        {
          "output_type": "stream",
          "name": "stdout",
          "text": [
            "[[0.531441   0.59049    0.4782969  0.531441  ]\n",
            " [0.531441   0.         0.         0.43046721]\n",
            " [0.43046721 0.         0.         0.        ]\n",
            " [0.         0.         0.         0.        ]\n",
            " [0.59049    0.6561     0.         0.531441  ]\n",
            " [0.         0.         0.         0.        ]\n",
            " [0.         0.         0.         0.        ]\n",
            " [0.         0.         0.         0.        ]\n",
            " [0.6561     0.         0.729      0.59049   ]\n",
            " [0.6561     0.81       0.81       0.        ]\n",
            " [0.72171    0.9        0.         0.        ]\n",
            " [0.         0.         0.         0.        ]\n",
            " [0.         0.         0.         0.        ]\n",
            " [0.         0.81       0.9        0.729     ]\n",
            " [0.81       0.9        1.         0.81      ]\n",
            " [0.         0.         0.         0.        ]]\n"
          ]
        }
      ]
    },
    {
      "cell_type": "code",
      "source": [
        "env.reset()\n",
        "for episode in range(1):\n",
        "  state, *_ = env.reset()\n",
        "  step = 0\n",
        "  done = False\n",
        "  print(\"-------------------\")\n",
        "  print(\"Episode\", episode)\n",
        "  for step in range(50):\n",
        "    env.render()\n",
        "    action = np.argmax(qtable[state, :])\n",
        "    print(action)\n",
        "    new_state, reward, done, *_ = env.step(action)\n",
        "    if done:\n",
        "      print('Number of steps:', step +1)\n",
        "      break\n",
        "    state = new_state\n",
        "env.render()\n",
        "\n"
      ],
      "metadata": {
        "colab": {
          "base_uri": "https://localhost:8080/",
          "height": 452
        },
        "id": "7PUn9LDMyVw-",
        "outputId": "ed856cce-9594-415e-f8ab-d35723423ce6"
      },
      "execution_count": 21,
      "outputs": [
        {
          "output_type": "stream",
          "name": "stdout",
          "text": [
            "-------------------\n",
            "Episode 0\n",
            "1\n",
            "1\n",
            "2\n",
            "1\n",
            "2\n",
            "2\n",
            "Number of steps: 6\n"
          ]
        },
        {
          "output_type": "execute_result",
          "data": {
            "text/plain": [
              "array([[[180, 200, 230],\n",
              "        [180, 200, 230],\n",
              "        [180, 200, 230],\n",
              "        ...,\n",
              "        [180, 200, 230],\n",
              "        [180, 200, 230],\n",
              "        [180, 200, 230]],\n",
              "\n",
              "       [[180, 200, 230],\n",
              "        [204, 230, 255],\n",
              "        [204, 230, 255],\n",
              "        ...,\n",
              "        [204, 230, 255],\n",
              "        [204, 230, 255],\n",
              "        [180, 200, 230]],\n",
              "\n",
              "       [[180, 200, 230],\n",
              "        [235, 245, 249],\n",
              "        [204, 230, 255],\n",
              "        ...,\n",
              "        [204, 230, 255],\n",
              "        [204, 230, 255],\n",
              "        [180, 200, 230]],\n",
              "\n",
              "       ...,\n",
              "\n",
              "       [[180, 200, 230],\n",
              "        [235, 245, 249],\n",
              "        [235, 245, 249],\n",
              "        ...,\n",
              "        [204, 230, 255],\n",
              "        [235, 245, 249],\n",
              "        [180, 200, 230]],\n",
              "\n",
              "       [[180, 200, 230],\n",
              "        [235, 245, 249],\n",
              "        [235, 245, 249],\n",
              "        ...,\n",
              "        [204, 230, 255],\n",
              "        [204, 230, 255],\n",
              "        [180, 200, 230]],\n",
              "\n",
              "       [[180, 200, 230],\n",
              "        [180, 200, 230],\n",
              "        [180, 200, 230],\n",
              "        ...,\n",
              "        [180, 200, 230],\n",
              "        [180, 200, 230],\n",
              "        [180, 200, 230]]], dtype=uint8)"
            ],
            "text/html": [
              "<style>\n",
              "      .ndarray_repr .ndarray_raw_data {\n",
              "        display: none;\n",
              "      }\n",
              "      .ndarray_repr.show_array .ndarray_raw_data {\n",
              "        display: block;\n",
              "      }\n",
              "      .ndarray_repr.show_array .ndarray_image_preview {\n",
              "        display: none;\n",
              "      }\n",
              "      </style>\n",
              "      <div id=\"id-f8cb59b6-62e2-48b9-b912-142a84eb7f66\" class=\"ndarray_repr\"><pre>ndarray (256, 256, 3) <button style=\"padding: 0 2px;\">show data</button></pre><img src=\"data:image/png;base64,iVBORw0KGgoAAAANSUhEUgAAAQAAAAEACAIAAADTED8xAAAd8ElEQVR4nO2df4wd1XXHv3afH2btxT+wkZ22BlM3JRS7ESZQmZQuRvYfVAgJ8k9a1FS0dVsRyUmr0PQPLARSSts/qNuGNE4ayRJJ/ohAIhhUnAhWQB0DtZXY4LqVW8tu691iUzAmy/p5a/rHefPemTlzzpx57+2u7Xs+f1i7M/fe+e7AnHPmzL3nztm19wSCIFUaAFasWmk3unpRq/PzsqHmwEWcmmgVjhw77brK+PExhP6+SVl/A8DVi1p2h/zZFnx/Bpdlt+dnqRe/ZZV/TOgvJfSXXb3I3EodQXAJ06jbIXueyp9Oev7oiHxqpavSyPdVe407h2OEfg/p6A8PECRN2wPUivk6baiXfC73jRXHJOi55E85IUfQ4j/NBoT+0N+b/vAAQdI0wB4R+QZNaM80P857ybSX/UZvR3syLiw8x6E/9PesPzxAkDS5LFDp842yZ9puz4/LZ5G30bCfac91Q3/o9+gPDxAkTcl3AO3Zst+17ePyWdfaaHgiP/t46A/98kh4gCBpGmAPU91nyIMndtRaOkcO/Z6rIPSXtQ8PECRN+zsAPQ3yC5yWhZVf4wh5XJvpwY+U5Ymrn+bO8dAf+nvWHx4gSJp2Fij7Tka/lWdhOXUzANrZ7Ej3KvQ0151BHvrt49rZ0B8eIEiatgfwx151868aWhQokTPIPaOFfpvQT4QHCJKmgfbLO4/himjPLn+26j7HWnvKIcj3emOWeeg39GiEfiI8QJA0c3btPVEoa0HPkGdGh3yqvnLXSOUln/rn0cqRtfELlJbl6Ef/+ooCHxahn7i49IcHCJKmZDZolkkF6jyRZPt/7WMrAKz7+QWlbQ78508B3HvTCDI/wN/lZd5Ai+dsetNP0LdMwrZkXGfo51xc+sMDBEkzZ9feE7esvZJ+0Z4V+SzKSI48wAO3/ELlJb/62r8D+PrLu0vPalfhZzvHXzv4DoCB6PejrW/iCuVV+NnQf+HoDw8QJE3uHcB+trR5HXYvDVkRQGaFZf5Y0+BRYuv32CGtZejn42hcmPrDAwRJk5sNKrGf+P7hNiPLGGgz/iz61++vZqP1Cv2SC19/eIAgaSqqQ3uysBzK9NvfAYjp3jTBM3JvEa1Ws3I6CP2e4/3oDw8QJE3bA/AvcP6vd/LJe+XEOIBXTvTSt+7qIc6g9Hti1rrxbuj3K5l5/eEBgqQp2R9g31gTvc7Lo7lA5Ac++9CXOse/++hfFc5KNHvgqfcyKP39RJOhn7i49IcHCJImlwXimVeK6rTnWK7IJHtPll5DegZtZM9Z+TT3o9+Dp1foJy4W/eEBgqTJVYaTaM+xfAo/c/dvGJfhVp+37GEVD8TeUgPR78GTtQj9nAtff3iAIGlKZoPKZ0jbtU8ysmmTcZbPzrNX8XC0Ff6yZf/6bUL/pac/PECQNLnZoPYbdN3ZeZqd0OI/bS2PZ7546OfX4u1Dv60/PECQNCW7RNKamn5WavJnd1Dv+1UVgHmv0B/6vfrDAwRJY+wSWXxibPhTK+O2fmb58bOFN/3SSUWhP/RrZ6X+8ABB0qgrwuQT43nT530ltiWgWmL2SjG76otsGfrzCkN/UX94gCBp2vsE27lVOa9anuVHtHE8caF/d6fO8dAf+nvWHx4gSJrcO4A239rzfi2Ro5W+iaP6aa62ENoVPb1Cf8r6wwMESaPuEqk9zf61PP45G/ZsDRnVSUK/rVM7HvrDAwRJU/IOQHieP3+vQSFrStdVEvr74dLTHx4gSBr1S7Dni52NJ9qT7/X+WYR2y9Af+m2o5Zxde0/0KTQILl4iBAqSpgGx0bFkukuZ91bcAspGzZLQb5Oy/gaAqxe1qubZeedXaLL83wL93/k69Kzfzl5f+PptLnz9F8L9jxAoSJqKHWIk9vwKrWYLP+sh31ftVV5mGkBVTiCrZ99ENo88gx/p9s23KV5F0r9+jbj/8ioSv/7wAEHSlOwPUHcFp7QrWiUwO/LjaPGfZsOkft/MkH7R9qztX7/nunH/+7//4QGCpGlXh6Zf/NUV5XHeS6a97Dd6O1qVcW3hOTb0e+zNPdtHK9tInt46Unq87IoVkXfc/8o2kkHd//AAQdKUVIaTcZL9rm2v9ZS2hLfR8MwZ1K4r20uk1Rm6cYPRvjE1BWBiAgCmjrxeOgIhLZM9g5IT919j+u5/eIAgaYzKcEXsXIF9XNoM2354VNntZSxY1+q02yymcZrI8tKtoZsLbeZNtQCcbjULV9GskV31Mu5/rs003//wAEHStOsC0S+9rd638cSOWkvnyAX9fNdyglsFj9XhTLxXVDu0bEi0GgKwGEBmnyhata2Rpl8j7n97hIHe//AAQdLkdomUXxC1LLJ/zb9dKYCO2Lnbyli5oJ/jtz3rNpwHMDZ2zmiTcRbAyaOXlZ9sNAAsXtVEZo3eP9DNWnA7pOmP+1/FIO9/eIAgaXJ7hGXBVXkWmVM3g6GdzY7YM0msnAkfh88ZtG3P8tVnC0fGmPVauXIegM3L5gPYfWoSZZZJjkC9DuyZi07k2mgAuGJduR3ioWzc/9m6/+EBgqRRK8N51unIln48a/4JOQNewqNPv+0hm6Gh2R7Zi9rQv8tXd9uQNZpqNDpKJvbv6fTS5tsQcf9n5v6HBwiSpoH248tj0CKa7eG2oa4d0tprK4nqziPntkdmGD63drjQXrM3WkuKUHcePFM4y+NXbJhEZocknb8o7j9m7/6HBwiSJjcXiOehtYyBZocoA7C+okBGOXLkulW+CDnbJIs4u1GjtCgEtz05K6IgbQ8fmZ+lqFTNWzPi/hMzef/DAwRJUzIbtB+LwrMBnp2+tSoGvVV7JCj65NmGpWfmA9i8tmhRuJ3guQVpezwZCS0ezbITZwEc21+tP+7/TN7/8ABB0rQrw9Ev8lmXUSmPFz07c8iKLp668vIq/Gyn/Xi3u2WlblpdPCJtjxZxUktqw1vScbIu3A7xn7nF+um7xdj36kWt8ewHOhL3XzLd9z88QJA0uXcAe8WqXRPGEylqLfPHy62drYEjZ4kQ/ohTaynP5kZQ5q7QCIdOAsC2h0cA4N1y5XH/7ZbybG6Enu5/eIAgaXKzQSX+apL+ajZaryzjoc1Y7J26EadsKe2KJ59NbZ54GQCaDQC44ywALBT5mbj/dsvpu//hAYKkqagO7ckia2gRrVazclBIy8HxR5z2bBNtBHm8NTUM4NlbAeCaRQBwagIoWz8lifs/3fc/PECQNG0PwK2R/+ujXT/M38vu67dPyzaOAAAmodsVnlcmZDRJbXY6Zqdotoeg3DNFn+9MdP+lOHv9Sjx3vN0y7j9nJu9/eIAgaUr2B9g31n4+eqCfaFKzZ3Xr1Rx5az6ABUvPIbMuPBL1Z6AJLdsgo1vJmusnARw5VLyKvLdx/4mZv//hAYKkyWWBeOaYolLNDvlXlNbtZUexmjUiC7pjbRPAloPd9jLi5HArIr8dai01+NxDCanasbb7V8j7EPefmMn7Hx4gSJpcZTiJZod6izU9WQv/90teklKOI+2BlpnWbIbWXvaSOQ3eS4tEbf1E3P/pvv/hAYKkKZkNas9K7wdZ11JbhcTRKhRoei6fB1RVmdTWFvG8hMdWaTkKG01/3P+Zv//hAYKkyc0GtTMAdWcXanbCU9eyboUCXpty+3UAsOXgMLL4jyzHTsUm8QjSY3W0r5L+nIamP+7/zN//8ABB0pTsEklrgurWAtBsz6DyFUYF41MTLdmeIlF691+wpNr2SOxKNfY8R83aceQdjvvPmZn7Hx4gSBpjl8jiE2/DrY5dd0DDU4G+kKkYz3ekfDnlTCgS3XoYyGYFLlhSnGeiZRXsFUwVtkd8+yQrSN8giYL+0r807j8x3fc/PECQNOqKMPnEezIVvK/EtmSUQ5BVaLSRtV0K/XZI2pu6tkfmN6TtOcNqEPB1t/adjPs/M/c/PECQNO19gu3csLZflbRJVTnm6rjWvzuVNrOF2yFiO4DMDp3/YBjAh+cA33pTXo2e0L5xSttDmZAdt6GgpzArM+5/h5m//+EBgqTJvQNo88U9+QGJtu+VnHNSZY3qrUjie9/SVdavbCKzQwSPSgmKTTXr4skry/mGFAFncycrB4j7Pwv3PzxAkDTqLpH+vcg1/HNOPFWOM6pny8hcOF2F7BD9/OrtTWSZClorlKse/JEYeo5x2TY800xk+ZDi31WYT4+4/7N3/8MDBElT8g5A1H33t3sNCm6NtPn0GtJ2koV4wcx82/C/XZvHL9Hmacb9n/n7Hx4gSBr1S7C/LrE9Qt0ZJv5ZkHXnS3JV/pazpT/u/8zon7Nr7wlnhyC49IgQKEiaBoAVqyrK8NkTpPqnt+IcAMaPjyH0903K+tu7RFbNE/TOD9Fk+b9l+r9Tdgj9pVz4+u2vHzOjP0KgIGkqdoiR2PNDtJoz/KyHfF+1V+mKKpvQ76F//XZOJsvQN1HcyZgf6faVux3zq0j8+sMDBElTsj9A3RWo0q5olczsyI+jxX+aDQv9F5p+38yiftH2PPbrDw8QJE27OjT94q8OKY/zXjLtZb/R29GqjGsLz3Hov2D1e+z9PdtHK9tInt46Unq87IrWm094gCBpSirDyTjJfte216pKW8LbaHjmPHrWyIb+mdcv20uk1R+6cYPRvjE1BWBiAgCmjrxeOgIhPYM9gzU8QJA0RmW4InauwD4ubYZtPzyq/DPmtSuGfs91tbN2exmL17X67TaLaZwmsu8CraGbC23mTbUAnG41C1fRvAGvsxQeIEiadl0g+qW36gM2nthRa+kcOfR7roKZ0i/XYXGr7LH6nIn3imqHlg2JVkMAFgPI/AO9LdjeINYEB0F+l0j5BVHLImurdeRxbaYKP2Lnbitj5dB/Qenn+G3/ug3nUbWzWMZZACePXlZ+stEAsHhVE5k3eP9AN2vE/UC8AwRBfo+wLLgqzyJz6mYwtLPZEXsmSbm1k+OE/tnVz+ds2rZ/+eqzhSNjzHvwutBUG1R6BjkC9TqwZy46bw6NBoAr1pX7Abrb4QGCpFErw2mxY938sYYWxUrkDHjPaKHfZrD6efTvt/32HmGa7Ze9qA39u3x1tw15g6lGo6NkYv+eTq/IAgUBGmg/vjwGLaLZHm4b6tohrb22ksiYVxj6DT0aA9RfCrf9MsMjd3jX7L3Wkt4QtB0G2vsJbJhE5gcksUtkEOTnAvE8tJYx0OwQZQDWVxTIKEeOXLfKFxH6Z1e/nO2TRfzdqF1adMLeFVgibT8fmZ+ltwLtu0F4gCBpSmaD9mNReDbAs1O5XG3Ej/dmh0I/MVv6Kfrn2Z6lZ+YD2Ly2aNHlnpCEtP2ejJD2PpBlh84COLa/qDY8QJA07cpw9ItWYZ3bEh4venYWkRVdPHXx5VX42U778fyAoX9W9J+aaPEaPpKbVheP2PsBy5bUhrek42TduR/gP3OPkduBBqC/K+oCBamTewfw7PAh8UeKWsv88XJrZ2vg42iE/unWT8hZOoQ/4tdayrO5EZS5QzTCoZMAsO3hEQBge8eHBwiSJjcbVOJ54gl/NRutV5bx0GYsWoT+2dVvUzfily2lXfd8T6A2T7wMAM0GANxxFgAWxprgICAqqkN7ssgaWkSr1aycDkK/5/hg9UvLzfFH/PZsH20Eebw1NQzg2VsB4JpFAEC7xlOGLTxAkDRtD8C/IPq/PmprUuv2svt67FPotzV49PSjv91y4wgAYBK6Xed5fUJG89Rmp2N2kGb7Ccr9U/T/zkT3X3rPWb8Szx0PDxCkTcn+APvG2s9HD/QTTWr2zFOvJvTb4/fW16+fc+St+QAWLD2HzLrzNwH/FwBCy/bItwvJmusnARw5VLwKv7fhAYKkyWWBeOaYolLNDvlXlNbtZUextjUK/TbTp5882I61TQBbDnbby4ifw624/HartdTgcz8lpGrH2u5fEd8BgiBfGU6i2aHeYk1P1sL//ZKXpAz9HmZSv7TH2pcBzWZr7WUvmVPivbQ3gagKEQRls0HtWen9wGcX2quQOFqFAtky9M+ufuLyeUBVlU9tbRfPC3l8hZYjsuH6wwMESZObDWpnAOrOLtTshBa/SmvEx7SvHvr5tXj7mdRPq8+2XwcAWw4OI4u/yXLvVHwCj+A9Vl/7KuzPKXHCAwRJU7JLJK0JqlsLQLM9g8pXVFUw5r1C/4zqPzXRku3pTYByLwuWVNt+iV0pyJ5nqnkbTlSGCwJrl8jiE2/DrY5dd0DDtlWldQrGrXFCf5dp1d/pSN8rKGdFbwJbDwPZrMwFS4rzfLSsjr2CrML2i2/P5IXoGzDB9YcHCJJGXREmn3hPpoL3ldiWjHIIsgqNNrKtJPSXKZwW/fyTMOr4AWnv69p+mV+Stv8MqwHB1z3Hl+AgyPYJtnPD2n5V0iZV5Zir41r/7lSd46F/dvV34N+Y+fyl7QAyP3D+g2EAH54DfOt9+W4AhPaNWdp+ykTtuA0FPTEbNAja5N4BtPninvyARI5WmklAtTWqtnDaFT29Qv+g9PPr8qzU+pVNZH6A4G8FBL0baNbdk9eX8z3pDSSbu1reKzxAkDTqLpGaNfKvRfLPOfFUOc4oz4GEflundnxQ+nlL+S2CrkJ+gH5+9fYmskwRrdXKVW/+SAw9x7hsG57pJ7J8VPHv4usZwgMESVPyDkDUffe3ew0Kbo08de4lob8fbP2e6tZcIVnoF8wvDzb8b9fWUUhiPUAQtFG/BPvrEtsj1J1h4p8FabcM/bOr31blbznd+ufs2nvC2SEILj0iBAqSpgFgxaqKMnz2BKn+6a04B4Dx42MI/X2Tsv72LpFV8wTL54fY2Wt/dkLLTDv/mJ7124T+squXcFHrjxAoSBo1C2S/U2cZ1iaKO9HyI92+crdafhVJ/olX8walK6ps7PktWs0cftZD6Ne40PSHBwiSpmR/AK1mAT87KLQ9a7X4T7MBtWLWTht5LUKrxGa/+XBC/8WiPzxAkDTt6tD0Sw8ZAAD3bB/t4cJPbx0pPV52xYrIz9Cvj1k8znvJtJ2dkbCjVRnXFuxQ6J9F/eEBgqQprQwHVL1xS6s/dOMG6zJTUwAmJgBg6sjrpSMQ0jPYMxA5pfbJ6KW111bi9paZ1vp61viG/unWHx4gSBr1O4CM2+pa/XabxTROE9l3gdbQzYU286ZaAE63moWraN7Arnppr5G1j2jHpa3S2mj4V/qG/pnUHx4gSJp2XSD6hZ4JuY6GW2WP1edMvFd8UoeWDYlWQwAWA8j8A70t2N6gI7ugX6O3aVie2Fdr6Rw5Wf333jRSeZWvv7y7MALXOXrfLZ2fR558zbiWJN4BgiC/S2Q/tn/dhvOo2hkq4yyAk0cvUxQ1ACxe1UTmDd4/0M0acT/QecoL+j1ZZG21kTyuzVThR+xvF5WxclL6777z9wF8cekBAMAiAP9z5+LS8a9b9x6AP7htc+fI+MKrWV8A2PR7Szo//+C+WwA8/r/rADzz/Dec+sMDBEmT2yOMz9m0bf/y1WcLR8aY9+B1fam2o/QMcgTqdWDPXHTeHBoNAFesK/cD/FUi+85Hv5VnkTl1Mxja2exI8dt53RnwKejntp8s9yYAwP3b3kPeD5DtJ5Z8mV3msWMANj24BGW0vcE3D3Su9Tff3VmpPzxAkDRtD8Cjf7/tt/d40my/7EVt6N/lq7ttyBtMNRodJRP793R6afM9CC32rZs/1tCicImcAe8Z7dLTLzk6+ja1rdRAkDe4f9t5AN96ZC6AH3yzW/x/zRr6P634f5etPzxAkDTql2Bu+2WGR+7Qrdl7rSW9IWgV4tv14DdMIvMDkk6cum8MFHeWfGAAoNtObhvq2lGtvbaSzphXm4h+Dtn+1SNXAcCL5wtnDx9YjPybAIf7gYc2Fv9/O3XmEABgnVN/eIAgaXIeQM72ySL+blwlLTph7+oqkbafj8zP0luB+t2AwfPQWsZDs6OUAVtfUeCjHDly3SplxKWtX6K9A3xv79sAsNfq+3kUxz9yZB6Af/yd7wPAN77jEYzwAEHilLwDUPTPsz1Lz8wHsHlt0aLLPf0Iafs9GSHtfSDLDp0FcGy/9ccQ/VhEng3zWDKtigFfG1XXjl7a+p+89zEA9z31ZQD/8fYRAOQB/vj7E91GV3mvtXvPMQDXXrWmMzLHoz88QJA0ndmg1lNy0+riEXs/V9mS2vCWdJysO/cD/GfuMXI7iAAArl7UGs9+oCNahXhuC3m869kZRVY08tT1l1fhZzvtk9LP4db6Zx7/88LZH729EMAdX5lC9p7wybse7Jz9yb+9AwBfewbAK2v/DMCeT68v/pEMW394gCBpSt4B5Cwdwh/xay3l2dwIytwhGuHQSQDY9vAIALyLUjw7lGi9PJGu1jJ/vNxa2xr4OBoXu36be/72vs7PZOOPjv4DgNHDNwAYPfw8gC986U4Av/LxKzstn7zrhwCAHwL43Lt/WhjToz88QJA06pdgTt2IX7aUdt3zPYHaPPEyADQbAHDHWQBYKPIb/nWoGv5qNlqvLOOhzbi0SFP/ziV/AQCPzAVw7xe/BWDbH93dOUtx/yfvQufsF0wNNJrmBzTCAwRJU+IBpOXm+CN+e7aPNoI83poaBvDsrQBwzSIAoF2/tT0AOZ4suIYW0Wo1K6eDS0///726D8Cjw98BcJQd/+yqeQAe+dozAB7aeArAT/C7yCL+px6/v9OSvEHrU5sBHB0tfvF9GH8C4AFYeSFOeIAgafKV4TaOAAAmodt1ntcnZDRPbXY6Zgdptp+g3D9F/+9MdP+lOHX9Sjx3vN2SewP/11NtTW3dXnZfj31NTf9DZ36z8zN5A1rLuwLHkGV+cPg1AC+xXq+cGEdm+/k4NAIfE/hX+NY8hAcIkqbkHeDIW/MBLFh6Dpl1528C/i8AhJbtkW8XkjXXTwI4cqh4FWljeFy7b6xZ2sZDP9GwZo899XZS0P9PozsB3HDDZgCLlnVPU7y+4oNjyFYGv7muu/UMrQ2gmUJ/d1ULwOff2I2sQgQfgaz+6VNjAN58c7dTf3iAIGlyO8TsWNsEsOVg97SM+Dncistvt1pLDT73U0KqdqwF9NiOZ74pKtXsqH9FbN1edhRuW6N09C/9xC8VD71xrPMjXxH26qZ7AHwaTwO4bl0LAB5TRgAAnH5lzPgrpP7wAEHS5CrDcaQ91r4MaDZbay97yZwS76W9CfCSlNoTr9mh3mJlT9bF//01Zf0an/kx+6/84xUA/hrPA/je5NsAhn51PoD7UVxDLLH/Cq4/PECQNCVZoMvnAVVVPrW1XTwv5PEVWo7Ihu8SwNFmO2qz0usi63Jqq6ik2tDP21PmPsdGAHj0RQD4raniCD/CQgDf3tZC9p0YECMAAO7DxwrXsvWHBwiSpqQ26PbrAGDLwWFk8TdZ7p2KT+ARvMfqa1+F/TkliVYxgVN3dqRm5zx1OetWWEhB//Nv/Ffp8RfHuv8n3PqJDwB8+18Wlrb8xSs/LLTfuLI6u2jrDw8QJE17TbC0CvQmQLmXBUuqbb/ErhRkzzPVvA1HPtO81nHdWgaa7RxUvqWqAjPvdenrz83bWQgA75/67+6R1QBw9/zX8p3wzOQtAE1VwxXLfhbASyVTyUaReZvf/vVrK/WHBwiSJrdTPOVr6Z2d3gS2HgayWZkLlhQfNy2rY68gq7D94tszeSH6Bkx0rF13yghDq3lvw62mXTdBw1NBv5BpCf0dyKJzNg4X/z956UyxjR9Nf3iAIGlKdon0+wFp7+vafplfkrb/DKsBwdet2lZNPvGeTAXvK7EtGeXQZBUabeTU9L8FAHjwq38P4C8f+EOjL0EZ/Tyjlb1ofFsVEV+CgyD/JZh/I+TzN7YDyPzA+Q+GAXx4DvCt9+W7ARDaN2Zp+ykTteM2FPQUZjWWZrEIboe0vVU88939ca1/d63U9N/5qZ9Dlp+x7XT//PLHr4X4/6RUW3iAIGlK5gLxvWMpelu/sonMDxD8rYCgdwPNunvy+nK+J72BZHP3KgdQn3hPfsMzmlYxs8qaVlto7YqeXheX/nxu3kIbzT+D1aM/PECQNDkPoOWS6ZkjP0A/v3p7E1mmiNZq5ao3fySuM6daCs/0E1k+qvjUFuajo8xa2Pajn2pn2gxKf1QtCf22Tu14//rDAwRJk/MAnurE/PkjC/2CmTm24VZcm0cu0eY51smH1Os1KPjfGPr9vQaF1B8eIEgaV3Vojr9esSfak3kJ/yxIu6Vfpz1C6Ne4NPTP2bX3RJ9Cg+Di5f8B2cr+kVLem0UAAAAASUVORK5CYII=\" class=\"ndarray_image_preview\" /><pre class=\"ndarray_raw_data\">array([[[180, 200, 230],\n",
              "        [180, 200, 230],\n",
              "        [180, 200, 230],\n",
              "        ...,\n",
              "        [180, 200, 230],\n",
              "        [180, 200, 230],\n",
              "        [180, 200, 230]],\n",
              "\n",
              "       [[180, 200, 230],\n",
              "        [204, 230, 255],\n",
              "        [204, 230, 255],\n",
              "        ...,\n",
              "        [204, 230, 255],\n",
              "        [204, 230, 255],\n",
              "        [180, 200, 230]],\n",
              "\n",
              "       [[180, 200, 230],\n",
              "        [235, 245, 249],\n",
              "        [204, 230, 255],\n",
              "        ...,\n",
              "        [204, 230, 255],\n",
              "        [204, 230, 255],\n",
              "        [180, 200, 230]],\n",
              "\n",
              "       ...,\n",
              "\n",
              "       [[180, 200, 230],\n",
              "        [235, 245, 249],\n",
              "        [235, 245, 249],\n",
              "        ...,\n",
              "        [204, 230, 255],\n",
              "        [235, 245, 249],\n",
              "        [180, 200, 230]],\n",
              "\n",
              "       [[180, 200, 230],\n",
              "        [235, 245, 249],\n",
              "        [235, 245, 249],\n",
              "        ...,\n",
              "        [204, 230, 255],\n",
              "        [204, 230, 255],\n",
              "        [180, 200, 230]],\n",
              "\n",
              "       [[180, 200, 230],\n",
              "        [180, 200, 230],\n",
              "        [180, 200, 230],\n",
              "        ...,\n",
              "        [180, 200, 230],\n",
              "        [180, 200, 230],\n",
              "        [180, 200, 230]]], dtype=uint8)</pre></div><script>\n",
              "      (() => {\n",
              "      const titles = ['show data', 'hide data'];\n",
              "      let index = 0\n",
              "      document.querySelector('#id-f8cb59b6-62e2-48b9-b912-142a84eb7f66 button').onclick = (e) => {\n",
              "        document.querySelector('#id-f8cb59b6-62e2-48b9-b912-142a84eb7f66').classList.toggle('show_array');\n",
              "        index = (++index) % 2;\n",
              "        document.querySelector('#id-f8cb59b6-62e2-48b9-b912-142a84eb7f66 button').textContent = titles[index];\n",
              "        e.preventDefault();\n",
              "        e.stopPropagation();\n",
              "      }\n",
              "      })();\n",
              "    </script>"
            ]
          },
          "metadata": {},
          "execution_count": 21
        }
      ]
    }
  ]
}