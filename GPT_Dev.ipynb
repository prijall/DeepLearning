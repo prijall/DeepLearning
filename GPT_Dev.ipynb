{
  "nbformat": 4,
  "nbformat_minor": 0,
  "metadata": {
    "colab": {
      "provenance": [],
      "authorship_tag": "ABX9TyN83y8qPe31/T6i7xAMkWBS"
    },
    "kernelspec": {
      "name": "python3",
      "display_name": "Python 3"
    },
    "language_info": {
      "name": "python"
    }
  },
  "cells": [
    {
      "cell_type": "code",
      "source": [
        "import torch\n",
        "import torch.nn as nn\n",
        "from torch.nn import functional as F\n",
        "\n",
        "\n",
        "n_embd=64\n",
        "dropout=0.5\n",
        "n_head=4\n",
        "n_layer=4\n",
        "device=\"cuda\" if torch.cuda.is_available() else \"cpu\""
      ],
      "metadata": {
        "id": "PDoN1f1Zxmzv"
      },
      "execution_count": null,
      "outputs": []
    },
    {
      "cell_type": "code",
      "execution_count": null,
      "metadata": {
        "colab": {
          "base_uri": "https://localhost:8080/"
        },
        "id": "o6ezfWuoiG4z",
        "outputId": "4368bb8b-9763-4ef9-91a7-230e671096f8"
      },
      "outputs": [
        {
          "output_type": "stream",
          "name": "stdout",
          "text": [
            "--2025-07-24 16:54:54--  https://raw.githubusercontent.com/karpathy/char-rnn/master/data/tinyshakespeare/input.txt\n",
            "Resolving raw.githubusercontent.com (raw.githubusercontent.com)... 185.199.108.133, 185.199.109.133, 185.199.110.133, ...\n",
            "Connecting to raw.githubusercontent.com (raw.githubusercontent.com)|185.199.108.133|:443... connected.\n",
            "HTTP request sent, awaiting response... 200 OK\n",
            "Length: 1115394 (1.1M) [text/plain]\n",
            "Saving to: ‘input.txt’\n",
            "\n",
            "input.txt           100%[===================>]   1.06M  --.-KB/s    in 0.09s   \n",
            "\n",
            "2025-07-24 16:54:54 (12.2 MB/s) - ‘input.txt’ saved [1115394/1115394]\n",
            "\n"
          ]
        }
      ],
      "source": [
        "#@ Dataset for training gpt, we are using is tiny shakespares dataset:\n",
        "!wget https://raw.githubusercontent.com/karpathy/char-rnn/master/data/tinyshakespeare/input.txt"
      ]
    },
    {
      "cell_type": "code",
      "source": [
        "with open('input.txt', 'r', encoding='utf-8') as f:\n",
        "  text=f.read()"
      ],
      "metadata": {
        "id": "_HsytDb8WIu9"
      },
      "execution_count": null,
      "outputs": []
    },
    {
      "cell_type": "code",
      "source": [
        "chars=sorted(list(set(text)))\n",
        "vocab=len(chars)"
      ],
      "metadata": {
        "id": "_4HhnDZPW169"
      },
      "execution_count": null,
      "outputs": []
    },
    {
      "cell_type": "code",
      "source": [
        "#@ Creating maps:\n",
        "string_to_int={ch:i for i, ch in enumerate(chars)}\n",
        "int_to_string={i:ch for i, ch in enumerate(chars)}\n",
        "\n",
        "#@ Encoder:\n",
        "encode=lambda s: [string_to_int[ch] for ch in s]\n",
        "\n",
        "#@decoder:\n",
        "decode=lambda l: ''.join([int_to_string[i] for i in l])\n"
      ],
      "metadata": {
        "id": "-k_35Yo7XLCG"
      },
      "execution_count": null,
      "outputs": []
    },
    {
      "cell_type": "code",
      "source": [
        "class Head(nn.Module):\n",
        "  def __init__(self, head_size):\n",
        "    super().__init__()\n",
        "    self.query=nn.Linear(n_embd, head_size, bias=False)\n",
        "    self.key=nn.Linear(n_embd, head_size, bias=False)\n",
        "    self.value=nn.Linear(n_embd, head_size, bias=False)\n",
        "\n",
        "    self.dropout=nn.Dropout(p=0.5)\n",
        "\n",
        "  def forward(self, x):\n",
        "    B, T, C=x.shape #batch, sequence len, channel/features\n",
        "    q=self.query(x) #(B, T, C)\n",
        "    k=self.key(x)   #(B, T, C)\n",
        "\n",
        "    wei=q @ k.transpose(-2, -1) # B, T, T\n",
        "\n",
        "    wei=wei.masked_fill(self.tril[:T, :T]==0, float('inf')) # B, T, T\n",
        "    wei=F.softmax(wei, dim=-1) #along the tokens\n",
        "    wei=self.dropout(wei)\n",
        "\n",
        "    v=self.value(x) #B, T, C\n",
        "    out= wei @ v # (B, T, T) @ (B, T, C) -> (B, T, C)\n",
        "    return out"
      ],
      "metadata": {
        "id": "8KiLB7XV1dcO"
      },
      "execution_count": null,
      "outputs": []
    },
    {
      "cell_type": "code",
      "source": [
        "class MultiHeadAttention(nn.Module):\n",
        "  def __init__(self, num_heads, head_size):\n",
        "    super().__init__()\n",
        "    self.heads=nn.ModuleList([Head(head_size) for _ in range(num_heads)])\n",
        "    self.proj=nn.Linear(n_embd, n_embd)\n",
        "    self.dropout=nn.Dropout(p=0.5)\n",
        "\n",
        "  def forward(self, x):\n",
        "    out=torch.cat([h(x) for h in self.heads], dims=-1)\n",
        "    out=self.dropout(self.proj(out))\n",
        "    return out"
      ],
      "metadata": {
        "id": "UqaPj7GoB66Y"
      },
      "execution_count": null,
      "outputs": []
    },
    {
      "cell_type": "code",
      "source": [
        "class FeedForward(nn.Module):\n",
        "  def __init__(self, n_embd):\n",
        "    super().__init__()\n",
        "    self.net=nn.Sequential(\n",
        "        nn.Linear(n_embd, 4*n_embd),\n",
        "        nn.ReLU(),\n",
        "        nn.Linear(4*n_embd, n_embd),\n",
        "        nn.Dropout(dropout)\n",
        "    )\n",
        "\n",
        "  def forward(self, x):\n",
        "    return self.net(x)"
      ],
      "metadata": {
        "id": "CZsdZOCFQBEP"
      },
      "execution_count": null,
      "outputs": []
    },
    {
      "cell_type": "markdown",
      "source": [
        "- Pre-Layer Normalization is a kind of normalization techniques which helps to make training process more stable by eradicating vanishing gradients or exploding gradient\n",
        "- post layer norm, used in transformer architecture where deep neural nets has gradient issue\n",
        "- GPT, bert uses pre LN"
      ],
      "metadata": {
        "id": "aOJNpUFBcneF"
      }
    },
    {
      "cell_type": "code",
      "source": [
        "class Block(nn.Module):\n",
        "  def __init__(self,n_heads, n_embd):\n",
        "    head_size=n_embd//n_heads\n",
        "    self.mha=MultiHeadAttention(n_heads, head_size)\n",
        "    self.ln1=nn.LayerNorm(n_embd)\n",
        "    self.ff=FeedForward(n_embd)\n",
        "    self.ln2=nn.LayerNorm(n_embd)\n",
        "\n",
        "  def forward(self, x):\n",
        "    x=self.mha(self.ln1(x)) + x #prelayer norm\n",
        "    x=self.ff(self.ln2(x)) + x\n",
        "    return x"
      ],
      "metadata": {
        "id": "kVMr8wLiE_rs"
      },
      "execution_count": null,
      "outputs": []
    },
    {
      "cell_type": "markdown",
      "source": [
        "## Bigram  Model:\n",
        "(prediction based on the previous words)"
      ],
      "metadata": {
        "id": "lIfCZQbsZzTb"
      }
    },
    {
      "cell_type": "code",
      "source": [
        "class BigramModel(nn.Module):\n",
        "  def __init__(self):\n",
        "    super().__init__()\n",
        "    self.token_embedding_table=nn.Embedding(vocab_size, n_embd) #helps model understand tokens in continuous vector space\n",
        "    self.positional_embedding_table=nn.Embedding(block_size, n_embd)\n",
        "    self.blocks= nn.Sequential(*[Block(n_embd, n_head=n_head) for _ in range(n_layer)])\n",
        "    self.ln_f=nn.LayerNorm(n_embd)\n",
        "    self.lm_head=nn.Linear(n_embd, vocab_size)\n",
        "\n",
        "  def forward(self, idx, targets=None):\n",
        "    B, T=idx.shape #batch, t=no of tokens in each sequence\n",
        "    tok_emb=self.token_embedding_table(idx) #B, T, C\n",
        "    pos_emb=self.positional_embedding_table(torch.arange(T, device=device)) #T, C\n",
        "    x=tok_emb + pos_emb #B, T, C\n",
        "    x=self.blocks(x) #B, T, C\n",
        "    x=self.ln_f(x) #B, T, C\n",
        "    logits=self.lm_head(x) #B, T, vocab_size\n",
        "\n",
        "    if targets=None: #targets for training\n",
        "      loss=None\n",
        "\n",
        "    else:\n",
        "      B, T, C= logits.shape\n",
        "      logits=logits.view(B*T, C)\n",
        "      targets=targets.view(B*T)\n",
        "      loss=F.cross_entropy(logits, targets)\n",
        "    return logits, loss\n"
      ],
      "metadata": {
        "id": "uvwychF2Z2Bb"
      },
      "execution_count": null,
      "outputs": []
    }
  ]
}