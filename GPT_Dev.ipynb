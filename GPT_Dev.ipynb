{
  "nbformat": 4,
  "nbformat_minor": 0,
  "metadata": {
    "colab": {
      "provenance": [],
      "gpuType": "T4",
      "authorship_tag": "ABX9TyOF+F2ZVPb1Svs0mPxEMNau"
    },
    "kernelspec": {
      "name": "python3",
      "display_name": "Python 3"
    },
    "language_info": {
      "name": "python"
    },
    "accelerator": "GPU"
  },
  "cells": [
    {
      "cell_type": "code",
      "source": [
        "import torch\n",
        "import torch.nn as nn\n",
        "from torch.nn import functional as F\n",
        "\n",
        "torch.manual_seed(147)\n",
        "\n",
        "#@ Setting up hyper-parameters:\n",
        "batch_size=16 #how many independent sequence will we process in parallel\n",
        "block_size=32 #maximum context length for prediction.\n",
        "max_iter=5000 #for training\n",
        "eval_interval=100\n",
        "learning_rate=1e-3\n",
        "device='cuda' if torch.cuda.is_available() else 'cpu'\n",
        "eval_iters=200\n",
        "n_embd=64\n",
        "n_head=4\n",
        "n_layer=4\n",
        "dropout=0.0"
      ],
      "metadata": {
        "id": "PDoN1f1Zxmzv"
      },
      "execution_count": 18,
      "outputs": []
    },
    {
      "cell_type": "code",
      "execution_count": 2,
      "metadata": {
        "colab": {
          "base_uri": "https://localhost:8080/"
        },
        "id": "o6ezfWuoiG4z",
        "outputId": "c3b12baa-b43e-40be-9a8b-4eef783aa13e"
      },
      "outputs": [
        {
          "output_type": "stream",
          "name": "stdout",
          "text": [
            "--2025-02-13 14:51:11--  https://raw.githubusercontent.com/karpathy/char-rnn/master/data/tinyshakespeare/input.txt\n",
            "Resolving raw.githubusercontent.com (raw.githubusercontent.com)... 185.199.109.133, 185.199.108.133, 185.199.111.133, ...\n",
            "Connecting to raw.githubusercontent.com (raw.githubusercontent.com)|185.199.109.133|:443... connected.\n",
            "HTTP request sent, awaiting response... 200 OK\n",
            "Length: 1115394 (1.1M) [text/plain]\n",
            "Saving to: ‘input.txt’\n",
            "\n",
            "input.txt           100%[===================>]   1.06M  --.-KB/s    in 0.009s  \n",
            "\n",
            "2025-02-13 14:51:11 (119 MB/s) - ‘input.txt’ saved [1115394/1115394]\n",
            "\n"
          ]
        }
      ],
      "source": [
        "#@ Dataset for training gpt, we are using is tiny shakespares dataset:\n",
        "\n",
        "!wget https://raw.githubusercontent.com/karpathy/char-rnn/master/data/tinyshakespeare/input.txt"
      ]
    },
    {
      "cell_type": "code",
      "source": [
        "#@ Reading the file:\n",
        "with open('input.txt', 'r', encoding='utf-8') as f:\n",
        "  text=f.read()"
      ],
      "metadata": {
        "id": "DMdw6T0AiYw1"
      },
      "execution_count": 19,
      "outputs": []
    },
    {
      "cell_type": "code",
      "source": [
        "print('length of dataset in characters:', len(text))"
      ],
      "metadata": {
        "colab": {
          "base_uri": "https://localhost:8080/"
        },
        "id": "B9P_0dhgjD1l",
        "outputId": "c264aca7-6d38-4fd0-a760-c12ad74bfabc"
      },
      "execution_count": 4,
      "outputs": [
        {
          "output_type": "stream",
          "name": "stdout",
          "text": [
            "length of dataset in characters: 1115394\n"
          ]
        }
      ]
    },
    {
      "cell_type": "code",
      "source": [
        "#@ inspecting:\n",
        "print(text[:1000])"
      ],
      "metadata": {
        "colab": {
          "base_uri": "https://localhost:8080/"
        },
        "id": "eSdmsrM3jPtd",
        "outputId": "439fe057-9cbc-438b-853b-29e898ba4b3f"
      },
      "execution_count": 5,
      "outputs": [
        {
          "output_type": "stream",
          "name": "stdout",
          "text": [
            "First Citizen:\n",
            "Before we proceed any further, hear me speak.\n",
            "\n",
            "All:\n",
            "Speak, speak.\n",
            "\n",
            "First Citizen:\n",
            "You are all resolved rather to die than to famish?\n",
            "\n",
            "All:\n",
            "Resolved. resolved.\n",
            "\n",
            "First Citizen:\n",
            "First, you know Caius Marcius is chief enemy to the people.\n",
            "\n",
            "All:\n",
            "We know't, we know't.\n",
            "\n",
            "First Citizen:\n",
            "Let us kill him, and we'll have corn at our own price.\n",
            "Is't a verdict?\n",
            "\n",
            "All:\n",
            "No more talking on't; let it be done: away, away!\n",
            "\n",
            "Second Citizen:\n",
            "One word, good citizens.\n",
            "\n",
            "First Citizen:\n",
            "We are accounted poor citizens, the patricians good.\n",
            "What authority surfeits on would relieve us: if they\n",
            "would yield us but the superfluity, while it were\n",
            "wholesome, we might guess they relieved us humanely;\n",
            "but they think we are too dear: the leanness that\n",
            "afflicts us, the object of our misery, is as an\n",
            "inventory to particularise their abundance; our\n",
            "sufferance is a gain to them Let us revenge this with\n",
            "our pikes, ere we become rakes: for the gods know I\n",
            "speak this in hunger for bread, not in thirst for revenge.\n",
            "\n",
            "\n"
          ]
        }
      ]
    },
    {
      "cell_type": "code",
      "source": [
        "#@ Unique characters for the code:\n",
        "\n",
        "chars=sorted(list(set(text)))\n",
        "# print(chars)\n",
        "vocab_size=len(chars)\n",
        "# print(vocab_size) # unique characters len\n",
        "print(''.join(chars))\n",
        "print(vocab_size)"
      ],
      "metadata": {
        "colab": {
          "base_uri": "https://localhost:8080/"
        },
        "id": "ga2NJjDDjgC9",
        "outputId": "4cbbe30a-2a51-48c6-8d22-92f853a0ae68"
      },
      "execution_count": 6,
      "outputs": [
        {
          "output_type": "stream",
          "name": "stdout",
          "text": [
            "\n",
            " !$&',-.3:;?ABCDEFGHIJKLMNOPQRSTUVWXYZabcdefghijklmnopqrstuvwxyz\n",
            "65\n"
          ]
        }
      ]
    },
    {
      "cell_type": "code",
      "source": [
        "#@ mapping from characters to integer:\n",
        "str_int={ch:i for i, ch in enumerate(chars)}\n",
        "int_str={i:ch for i, ch in enumerate(chars)}\n",
        "\n",
        "encode=lambda s:[str_int[c] for c in s]\n",
        "decode=lambda l: ''.join([int_str[i] for i in l])\n",
        "\n",
        "print(encode('hello, i am prijal!'))\n",
        "print(decode(encode('hello, i am prijal!')))"
      ],
      "metadata": {
        "colab": {
          "base_uri": "https://localhost:8080/"
        },
        "id": "IuL3x_oDkQY-",
        "outputId": "45fd8f65-a6b8-4a6a-b8a7-88621cfdb992"
      },
      "execution_count": 7,
      "outputs": [
        {
          "output_type": "stream",
          "name": "stdout",
          "text": [
            "[46, 43, 50, 50, 53, 6, 1, 47, 1, 39, 51, 1, 54, 56, 47, 48, 39, 50, 2]\n",
            "hello, i am prijal!\n"
          ]
        }
      ]
    },
    {
      "cell_type": "code",
      "source": [
        "#@ Encoding the entire dataset:\n",
        "import torch\n",
        "data=torch.tensor(encode(text), dtype=torch.long)\n",
        "print(data.shape, data.dtype)\n",
        "# print(data[:1000])"
      ],
      "metadata": {
        "colab": {
          "base_uri": "https://localhost:8080/"
        },
        "id": "Lr_sKpZdmhY0",
        "outputId": "622fb5c9-48c2-4389-f584-f55b44871f58"
      },
      "execution_count": 14,
      "outputs": [
        {
          "output_type": "stream",
          "name": "stdout",
          "text": [
            "torch.Size([1115394]) torch.int64\n"
          ]
        }
      ]
    },
    {
      "cell_type": "code",
      "source": [
        "#@ Train-test split:\n",
        "n=int(0.9*len(data)) # first 90% will be training\n",
        "train_data=data[:n]\n",
        "val_data=data[n:]"
      ],
      "metadata": {
        "id": "NyPTkHCVoGnA"
      },
      "execution_count": 9,
      "outputs": []
    },
    {
      "cell_type": "code",
      "source": [
        "#@ constructing batch:\n",
        "def get_batch(split):\n",
        "  data=train_data if split == 'train' else val_data\n",
        "  ix=torch.randint(len(data)-block_size, (batch_size,))\n",
        "  x=torch.stack([data[i:i+block_size] for i in ix])\n",
        "  y=torch.stack([data[i+1:i+block_size+1] for i in ix])\n",
        "  x, y=x.to(device), y.to(device)\n",
        "  return x, y"
      ],
      "metadata": {
        "id": "HMo1-fmHp0mv"
      },
      "execution_count": 17,
      "outputs": []
    },
    {
      "cell_type": "code",
      "source": [
        "#@ for loss calculation:\n",
        "@torch.no_grad()\n",
        "def estimate_loss():\n",
        "  output={}\n",
        "  model.eval()\n",
        "  for split in ['train', 'test']:\n",
        "    losses=torch.zeros(eval_iters)\n",
        "    for k in range(eval_iters):\n",
        "      X, Y=get_batch(split)\n",
        "      logits, loss=model(X, Y)\n",
        "      losses[k]=loss.item()\n",
        "    output[split]=losses.mean()\n",
        "  model.train()\n",
        "  return output"
      ],
      "metadata": {
        "id": "U3W4Q7cwzrTO"
      },
      "execution_count": null,
      "outputs": []
    },
    {
      "cell_type": "code",
      "source": [
        "class Head(nn.Module):\n",
        "  '''One head of self-attention'''\n",
        "  def __init__(self, head_size):\n",
        "    super().__init__()\n",
        "    self.query=nn.Linear(n_embd, head_size, bias=False)\n",
        "    self.key=nn.Linear(n_embd, head_size, bias=False)\n",
        "    self.value=nn.Linear(n_embd, head_size, bias=False)\n",
        "\n",
        "    self.dropout=nn.Dropout(dropout)"
      ],
      "metadata": {
        "id": "8KiLB7XV1dcO"
      },
      "execution_count": null,
      "outputs": []
    },
    {
      "cell_type": "code",
      "source": [
        "class BigramLanguageModel(nn.Module):\n",
        "  def __init__(self, vocab_size):\n",
        "    super().__init__()\n",
        "    self.token_embedding_table=nn.Embedding(vocab_size, n_embd)\n",
        "\n",
        "  def forward(self, idx, targets=None):\n",
        "    logits=self.token_embedding_table(idx) #(B,T,C)\n",
        "\n",
        "    if targets is None:\n",
        "      loss=None\n",
        "\n",
        "    else:\n",
        "      B, T, C =logits.shape\n",
        "      logits=logits.view(B*T, C)\n",
        "      targets=targets.view(B*T)\n",
        "      loss=F.cross_entropy(logits, targets)\n",
        "\n",
        "    return logits, loss\n",
        "\n",
        "  def generate(self, idx, max_new_tokens):\n",
        "    #idx id (B, T) array of indices in the current context\n",
        "    for _ in range(max_new_tokens):\n",
        "      #getting the prediction:\n",
        "      logits, loss=self(idx)\n",
        "\n",
        "      #geting only the last time step:\n",
        "      logits=logits[:, -1, :] #(B, C)\n",
        "\n",
        "      #softmax:\n",
        "      probs=F.softmax(logits, dim=-1)\n",
        "\n",
        "      #sample from distribution:\n",
        "      idx_next=torch.multinomial(probs, num_samples=1) #(B, 1)\n",
        "\n",
        "      #append\n",
        "      idx=torch.cat((idx, idx_next), dim=1) #(B, T+1)\n",
        "\n",
        "    return idx\n",
        "\n",
        "model=BigramLanguageModel(vocab_size)\n",
        "logits, loss=m(xb, yb)\n",
        "\n",
        "print(decode(m.generate(idx=torch.zeros((1, 1), dtype=torch.long),\n",
        "                        max_new_tokens=100)[0].tolist()))"
      ],
      "metadata": {
        "colab": {
          "base_uri": "https://localhost:8080/"
        },
        "id": "9rCF3Bsh7OiO",
        "outputId": "24d0dd7a-904e-4583-b729-2c89164ebbe2"
      },
      "execution_count": 13,
      "outputs": [
        {
          "output_type": "stream",
          "name": "stdout",
          "text": [
            "\n",
            "\n",
            "bnkvUpoZfSSPBq',grXmP3rQLAjJVwI-abnVdHhK''nW.yNKgzhSTPKCI:zpvWbNGfgNesjfNL,f.I:oMiknvy3:G GpD,tcY;\n",
            "\n"
          ]
        }
      ]
    },
    {
      "cell_type": "code",
      "source": [],
      "metadata": {
        "id": "bEXAiOdD-D-u"
      },
      "execution_count": 13,
      "outputs": []
    }
  ]
}