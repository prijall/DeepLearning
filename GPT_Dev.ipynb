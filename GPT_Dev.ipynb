{
  "nbformat": 4,
  "nbformat_minor": 0,
  "metadata": {
    "colab": {
      "provenance": [],
      "authorship_tag": "ABX9TyMCEhQAfBhQeJoDAMfMQz6I"
    },
    "kernelspec": {
      "name": "python3",
      "display_name": "Python 3"
    },
    "language_info": {
      "name": "python"
    }
  },
  "cells": [
    {
      "cell_type": "code",
      "source": [
        "import torch\n",
        "import torch.nn as nn\n",
        "from torch.nn import functional as F\n",
        "\n",
        "\n",
        "n_embd=64"
      ],
      "metadata": {
        "id": "PDoN1f1Zxmzv"
      },
      "execution_count": 1,
      "outputs": []
    },
    {
      "cell_type": "code",
      "execution_count": 2,
      "metadata": {
        "colab": {
          "base_uri": "https://localhost:8080/"
        },
        "id": "o6ezfWuoiG4z",
        "outputId": "03f336f9-8e20-4a10-9aaa-f27b9680ea1c"
      },
      "outputs": [
        {
          "output_type": "stream",
          "name": "stdout",
          "text": [
            "--2025-07-23 15:54:14--  https://raw.githubusercontent.com/karpathy/char-rnn/master/data/tinyshakespeare/input.txt\n",
            "Resolving raw.githubusercontent.com (raw.githubusercontent.com)... 185.199.109.133, 185.199.110.133, 185.199.111.133, ...\n",
            "Connecting to raw.githubusercontent.com (raw.githubusercontent.com)|185.199.109.133|:443... connected.\n",
            "HTTP request sent, awaiting response... 200 OK\n",
            "Length: 1115394 (1.1M) [text/plain]\n",
            "Saving to: ‘input.txt’\n",
            "\n",
            "\rinput.txt             0%[                    ]       0  --.-KB/s               \rinput.txt           100%[===================>]   1.06M  --.-KB/s    in 0.04s   \n",
            "\n",
            "2025-07-23 15:54:14 (29.6 MB/s) - ‘input.txt’ saved [1115394/1115394]\n",
            "\n"
          ]
        }
      ],
      "source": [
        "#@ Dataset for training gpt, we are using is tiny shakespares dataset:\n",
        "\n",
        "!wget https://raw.githubusercontent.com/karpathy/char-rnn/master/data/tinyshakespeare/input.txt"
      ]
    },
    {
      "cell_type": "code",
      "source": [
        "#@ Reading the file:\n",
        "with open('input.txt', 'r', encoding='utf-8') as f:\n",
        "  text=f.read()"
      ],
      "metadata": {
        "id": "DMdw6T0AiYw1"
      },
      "execution_count": 3,
      "outputs": []
    },
    {
      "cell_type": "code",
      "source": [
        "print('length of dataset in characters:', len(text))"
      ],
      "metadata": {
        "colab": {
          "base_uri": "https://localhost:8080/"
        },
        "id": "B9P_0dhgjD1l",
        "outputId": "69045860-9c72-4563-a6cc-5423f109b4cc"
      },
      "execution_count": 4,
      "outputs": [
        {
          "output_type": "stream",
          "name": "stdout",
          "text": [
            "length of dataset in characters: 1115394\n"
          ]
        }
      ]
    },
    {
      "cell_type": "code",
      "source": [
        "#@ inspecting:\n",
        "print(text[:1000])"
      ],
      "metadata": {
        "colab": {
          "base_uri": "https://localhost:8080/"
        },
        "id": "eSdmsrM3jPtd",
        "outputId": "461a7689-ae63-4c56-e4ef-a6c56369158c"
      },
      "execution_count": 5,
      "outputs": [
        {
          "output_type": "stream",
          "name": "stdout",
          "text": [
            "First Citizen:\n",
            "Before we proceed any further, hear me speak.\n",
            "\n",
            "All:\n",
            "Speak, speak.\n",
            "\n",
            "First Citizen:\n",
            "You are all resolved rather to die than to famish?\n",
            "\n",
            "All:\n",
            "Resolved. resolved.\n",
            "\n",
            "First Citizen:\n",
            "First, you know Caius Marcius is chief enemy to the people.\n",
            "\n",
            "All:\n",
            "We know't, we know't.\n",
            "\n",
            "First Citizen:\n",
            "Let us kill him, and we'll have corn at our own price.\n",
            "Is't a verdict?\n",
            "\n",
            "All:\n",
            "No more talking on't; let it be done: away, away!\n",
            "\n",
            "Second Citizen:\n",
            "One word, good citizens.\n",
            "\n",
            "First Citizen:\n",
            "We are accounted poor citizens, the patricians good.\n",
            "What authority surfeits on would relieve us: if they\n",
            "would yield us but the superfluity, while it were\n",
            "wholesome, we might guess they relieved us humanely;\n",
            "but they think we are too dear: the leanness that\n",
            "afflicts us, the object of our misery, is as an\n",
            "inventory to particularise their abundance; our\n",
            "sufferance is a gain to them Let us revenge this with\n",
            "our pikes, ere we become rakes: for the gods know I\n",
            "speak this in hunger for bread, not in thirst for revenge.\n",
            "\n",
            "\n"
          ]
        }
      ]
    },
    {
      "cell_type": "code",
      "source": [
        "#@ Unique characters for the code:\n",
        "\n",
        "chars=sorted(list(set(text)))\n",
        "# print(chars)\n",
        "vocab_size=len(chars)\n",
        "# print(vocab_size) # unique characters len\n",
        "print(''.join(chars))\n",
        "print(vocab_size)"
      ],
      "metadata": {
        "colab": {
          "base_uri": "https://localhost:8080/"
        },
        "id": "ga2NJjDDjgC9",
        "outputId": "6aae93b2-ec3b-4324-a81a-4bf417d9b9da"
      },
      "execution_count": 6,
      "outputs": [
        {
          "output_type": "stream",
          "name": "stdout",
          "text": [
            "\n",
            " !$&',-.3:;?ABCDEFGHIJKLMNOPQRSTUVWXYZabcdefghijklmnopqrstuvwxyz\n",
            "65\n"
          ]
        }
      ]
    },
    {
      "cell_type": "code",
      "source": [
        "#@ mapping from characters to integer:\n",
        "str_int={ch:i for i, ch in enumerate(chars)}\n",
        "int_str={i:ch for i, ch in enumerate(chars)}\n",
        "\n",
        "encode=lambda s:[str_int[c] for c in s]\n",
        "decode=lambda l: ''.join([int_str[i] for i in l])\n",
        "\n",
        "print(encode('hello, i am prijal!'))\n",
        "print(decode(encode('hello, i am prijal!')))"
      ],
      "metadata": {
        "colab": {
          "base_uri": "https://localhost:8080/"
        },
        "id": "IuL3x_oDkQY-",
        "outputId": "591c4662-4a49-4859-8d9f-9173db861c76"
      },
      "execution_count": 7,
      "outputs": [
        {
          "output_type": "stream",
          "name": "stdout",
          "text": [
            "[46, 43, 50, 50, 53, 6, 1, 47, 1, 39, 51, 1, 54, 56, 47, 48, 39, 50, 2]\n",
            "hello, i am prijal!\n"
          ]
        }
      ]
    },
    {
      "cell_type": "code",
      "source": [
        "#@ Encoding the entire dataset:\n",
        "import torch\n",
        "data=torch.tensor(encode(text), dtype=torch.long)\n",
        "print(data.shape, data.dtype)\n",
        "# print(data[:1000])"
      ],
      "metadata": {
        "colab": {
          "base_uri": "https://localhost:8080/"
        },
        "id": "Lr_sKpZdmhY0",
        "outputId": "e6a9c62d-1b8c-44cc-d624-80f7d673f16b"
      },
      "execution_count": 8,
      "outputs": [
        {
          "output_type": "stream",
          "name": "stdout",
          "text": [
            "torch.Size([1115394]) torch.int64\n"
          ]
        }
      ]
    },
    {
      "cell_type": "code",
      "source": [
        "#@ Train-test split:\n",
        "n=int(0.9*len(data)) # first 90% will be training\n",
        "train_data=data[:n]\n",
        "val_data=data[n:]"
      ],
      "metadata": {
        "id": "NyPTkHCVoGnA"
      },
      "execution_count": 9,
      "outputs": []
    },
    {
      "cell_type": "code",
      "source": [
        "#@ constructing batch:\n",
        "def get_batch(split):\n",
        "  data=train_data if split == 'train' else val_data\n",
        "  ix=torch.randint(len(data)-block_size, (batch_size,))\n",
        "  x=torch.stack([data[i:i+block_size] for i in ix])\n",
        "  y=torch.stack([data[i+1:i+block_size+1] for i in ix])\n",
        "  x, y=x.to(device), y.to(device)\n",
        "  return x, y"
      ],
      "metadata": {
        "id": "HMo1-fmHp0mv"
      },
      "execution_count": 10,
      "outputs": []
    },
    {
      "cell_type": "code",
      "source": [
        "#@ for loss calculation:\n",
        "@torch.no_grad()\n",
        "def estimate_loss():\n",
        "    out = {}\n",
        "    model.eval()\n",
        "    for split in ['train', 'val']:\n",
        "        losses = torch.zeros(eval_iters)\n",
        "        for k in range(eval_iters):\n",
        "            X, Y = get_batch(split)\n",
        "            logits, loss = model(X, Y)\n",
        "            losses[k] = loss.item()\n",
        "        out[split] = losses.mean()\n",
        "    model.train()\n",
        "    return out\n"
      ],
      "metadata": {
        "id": "U3W4Q7cwzrTO"
      },
      "execution_count": 11,
      "outputs": []
    },
    {
      "cell_type": "code",
      "source": [
        "class Head(nn.Module):\n",
        "  def __init__(self, head_size):\n",
        "    super().__init__()\n",
        "    self.query=nn.Linear(n_embd, head_size, bias=False)\n",
        "    self.key=nn.Linear(n_embd, head_size, bias=False)\n",
        "    self.value=nn.Linear(n_embd, head_size, bias=False)\n",
        "\n",
        "    self.dropout=nn.Dropout(p=0.5)\n",
        "\n",
        "  def forward(self, x):\n",
        "    B, T, C=x.shape #batch, sequence len, channel/features\n",
        "    q=self.query(x) #(B, T, C)\n",
        "    k=self.key(x)   #(B, T, C)\n",
        "\n",
        "    wei=q @ k.transpose(-2, -1) # B, T, T\n",
        "\n",
        "    wei=wei.masked_fill(self.tril[:T, :T]==0, float('inf')) # B, T, T\n",
        "    wei=F.softmax(wei, dim=-1) #along the tokens\n",
        "    wei=self.dropout(wei)\n",
        "\n",
        "    v=self.value(x) #B, T, C\n",
        "    out= wei @ v # (B, T, T) @ (B, T, C) -> (B, T, C)\n",
        "    return out"
      ],
      "metadata": {
        "id": "8KiLB7XV1dcO"
      },
      "execution_count": 12,
      "outputs": []
    },
    {
      "cell_type": "code",
      "source": [
        "class MultiHeadAttention(nn.Module):\n",
        "  def __init__(self, num_heads, head_size):\n",
        "    super().__init__()\n",
        "    self.heads=nn.ModuleList([Head(head_size) for _ in range(num_heads)])\n",
        "    self.proj=nn.Linear(n_embd, n_embd)\n",
        "    self.dropout=nn.Dropout(p=0.5)\n",
        "\n",
        "  def forward(self, x):\n",
        "    out=torch.cat([h(x) for h in self.heads], dims=-1)\n",
        "    out=self.dropout(self.proj(out))\n",
        "    return out"
      ],
      "metadata": {
        "id": "UqaPj7GoB66Y"
      },
      "execution_count": null,
      "outputs": []
    },
    {
      "cell_type": "code",
      "source": [
        "class FeedForward(nn.Module):\n",
        "  def __init__(self, n_embd):\n",
        "    super().__init__()\n",
        "    self.net=nn.Sequential(\n",
        "        nn.Linear(n_embd, 4*n_embd),\n",
        "        nn.ReLU(),\n",
        "        nn.Linear(4*n_embd, n_embd),\n",
        "        nn.Dropout(dropout)\n",
        "    )\n",
        "\n",
        "  def forward(self, x):\n",
        "    return self.net(x)"
      ],
      "metadata": {
        "id": "CZsdZOCFQBEP"
      },
      "execution_count": 14,
      "outputs": []
    },
    {
      "cell_type": "code",
      "source": [
        "class Block(nn.Module):\n",
        "  def __init__(self, n_embd, n_head):\n",
        "    super().__init__()\n",
        "    head_size= n_embd // n_head\n",
        "    self.self_attention=MultiHeadedAttention(n_head, head_size)\n",
        "    self.ff=FeedForward(n_embd)\n",
        "    self.ln1=nn.LayerNorm(n_embd)\n",
        "    self.ln2=nn.LayerNorm(n_embd)\n",
        "\n",
        "  def forward(self, x):\n",
        "    x= x + self.self_attention(self.ln1(x))\n",
        "    x= x + self.ff(self.ln2(x))\n",
        "    return x"
      ],
      "metadata": {
        "id": "kVMr8wLiE_rs"
      },
      "execution_count": 15,
      "outputs": []
    },
    {
      "cell_type": "code",
      "source": [
        "class BigramLanguageModel(nn.Module):\n",
        "  def __init__(self):\n",
        "    super().__init__()\n",
        "    self.token_embedding_table=nn.Embedding(vocab_size, n_embd)\n",
        "    self.position_embedding_table=nn.Embedding(block_size, n_embd)\n",
        "    self.blocks=nn.Sequential(*[Block(n_embd, n_head=n_head) for _ in range(n_layer)])\n",
        "    self.ln_f=nn.LayerNorm(n_embd)\n",
        "    self.lm_head=nn.Linear(n_embd, vocab_size)\n",
        "\n",
        "  def forward(self, idx, targets=None):\n",
        "    B, T = idx.shape  # Batch size, sequence length\n",
        "\n",
        "     # Apply token and position embeddings\n",
        "    x = self.token_embedding_table(idx) + self.position_embedding_table(torch.arange(T, device=idx.device))\n",
        "    x = self.blocks(x)  # Transformer blocks\n",
        "    x = self.ln_f(x)  # LayerNorm\n",
        "    logits = self.lm_head(x)  # Convert to (B, T, vocab_size)\n",
        "\n",
        "    loss = None\n",
        "    if targets is not None:\n",
        "        logits = logits.view(B * T, vocab_size)  # Reshape for cross-entropy\n",
        "        targets = targets.view(B * T)\n",
        "        loss = F.cross_entropy(logits, targets)\n",
        "\n",
        "    return logits, loss\n",
        "\n",
        "def generate(self, idx, max_new_tokens):\n",
        "    for _ in range(max_new_tokens):\n",
        "        logits, _ = self(idx)  # Get logits from the model\n",
        "        logits = logits[:, -1, :]  # Only consider last time step\n",
        "        probs = F.softmax(logits, dim=-1)  # Convert to probability distribution\n",
        "        idx_next = torch.multinomial(probs, num_samples=1)  # Sample next token\n",
        "        idx = torch.cat((idx, idx_next), dim=1)  # Append to sequence\n",
        "\n",
        "        # Make sure idx is on the same device as the model\n",
        "        idx = idx.to(self.token_embedding_table.weight.device)\n",
        "\n",
        "    return idx\n"
      ],
      "metadata": {
        "id": "9rCF3Bsh7OiO"
      },
      "execution_count": 16,
      "outputs": []
    },
    {
      "cell_type": "code",
      "source": [
        "model=BigramLanguageModel()\n",
        "m=model.to(device)\n",
        "\n",
        "print(sum(p.numel() for p in m.parameters())/1e6, 'M parameters')\n",
        "\n",
        "optimizer=torch.optim.AdamW(model.parameters(), lr=learning_rate)\n",
        "\n",
        "for iter in range(max_iter):\n",
        "  if iter % eval_interval == 0 or iter == max_iter - 1:\n",
        "    losses=estimate_loss()\n",
        "    print(f\"step {iter}: train loss {losses['train']:.4f}, val loss {losses['val']:.4f}\")\n",
        "\n",
        "  # sample a batch of data:\n",
        "  xb, yb = get_batch('train')\n",
        "\n",
        "  #evaluating the loss function:\n",
        "  logits, loss= model(xb, yb)\n",
        "  optimizer.zero_grad(set_to_none=True)\n",
        "  loss.backward()\n",
        "  optimizer.step()"
      ],
      "metadata": {
        "colab": {
          "base_uri": "https://localhost:8080/"
        },
        "id": "8viTghaUJsdj",
        "outputId": "eae03349-de56-475f-ce08-de022f596fa1"
      },
      "execution_count": 17,
      "outputs": [
        {
          "output_type": "stream",
          "name": "stdout",
          "text": [
            "0.209729 M parameters\n",
            "step 0: train loss 4.3699, val loss 4.3854\n",
            "step 100: train loss 2.6497, val loss 2.6521\n",
            "step 200: train loss 2.5100, val loss 2.5242\n",
            "step 300: train loss 2.4186, val loss 2.4153\n",
            "step 400: train loss 2.3527, val loss 2.3684\n",
            "step 500: train loss 2.2970, val loss 2.2995\n",
            "step 600: train loss 2.2332, val loss 2.2426\n",
            "step 700: train loss 2.1965, val loss 2.2137\n",
            "step 800: train loss 2.1512, val loss 2.1743\n",
            "step 900: train loss 2.1303, val loss 2.1611\n",
            "step 1000: train loss 2.0896, val loss 2.1224\n",
            "step 1100: train loss 2.0692, val loss 2.1024\n",
            "step 1200: train loss 2.0366, val loss 2.0875\n",
            "step 1300: train loss 2.0216, val loss 2.0794\n",
            "step 1400: train loss 1.9849, val loss 2.0523\n"
          ]
        }
      ]
    }
  ]
}